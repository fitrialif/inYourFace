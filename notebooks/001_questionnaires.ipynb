{
 "cells": [
  {
   "cell_type": "markdown",
   "metadata": {
    "slideshow": {
     "slide_type": "slide"
    }
   },
   "source": [
    "<center><h1>In your face:<br>Biased judgement of fear-anger expressions in violence offenders.</h1></center>\n",
    "\n",
    "# 1. Questionnaire Data"
   ]
  },
  {
   "cell_type": "markdown",
   "metadata": {
    "slideshow": {
     "slide_type": "skip"
    }
   },
   "source": [
    "This is an anlaysis of the [AFAS](http://www.researchgate.net/publication/270567168_Combat_high_or_traumatic_stress_Violent_offending_is_associated_with_appetitive_aggression_but_not_with_symptoms_of_traumatic_stress), PPI-R and SCID-II scores of the participants.  "
   ]
  },
  {
   "cell_type": "markdown",
   "metadata": {
    "slideshow": {
     "slide_type": "skip"
    }
   },
   "source": [
    "### import modules"
   ]
  },
  {
   "cell_type": "code",
   "execution_count": 1,
   "metadata": {
    "collapsed": false,
    "slideshow": {
     "slide_type": "skip"
    }
   },
   "outputs": [],
   "source": [
    "import numpy as np\n",
    "from scipy import stats\n",
    "import pandas as pd\n",
    "\n",
    "import os\n",
    "import fnmatch\n",
    "\n",
    "import seaborn as sns\n",
    "import matplotlib.pyplot as plt\n",
    "%matplotlib inline\n",
    "\n",
    "from myBasics import *"
   ]
  },
  {
   "cell_type": "code",
   "execution_count": 2,
   "metadata": {
    "collapsed": false,
    "slideshow": {
     "slide_type": "skip"
    }
   },
   "outputs": [
    {
     "name": "stdout",
     "output_type": "stream",
     "text": [
      "last updated: 2016-04-17 \n",
      "\n",
      "CPython 2.7.11\n",
      "IPython 4.0.3\n",
      "\n",
      "python 2.7.11\n",
      "numpy 1.10.4\n",
      "scipy 0.17.0\n",
      "pandas 0.17.1\n",
      "matplotlib 1.5.1\n",
      "seaborn 0.7.0\n",
      "\n",
      "compiler   : GCC 4.4.7 20120313 (Red Hat 4.4.7-1)\n",
      "system     : Linux\n",
      "release    : 3.13.0-85-generic\n",
      "machine    : x86_64\n",
      "processor  : x86_64\n",
      "CPU cores  : 8\n",
      "interpreter: 64bit\n",
      "Git hash   : 468451e9c22a0ec38dd16cbeaaa7ff6381f9db40\n"
     ]
    }
   ],
   "source": [
    "# Sebastian Raschka; https://github.com/rasbt/watermark/blob/master/docs/watermark.ipynb\n",
    "%load_ext watermark\n",
    "%watermark -v -m -d -u -p python,numpy,scipy,pandas,matplotlib,seaborn -g"
   ]
  },
  {
   "cell_type": "markdown",
   "metadata": {},
   "source": [
    "# AFAS"
   ]
  },
  {
   "cell_type": "markdown",
   "metadata": {
    "slideshow": {
     "slide_type": "skip"
    }
   },
   "source": [
    "### Overview of the questions the AFAS contains"
   ]
  },
  {
   "cell_type": "code",
   "execution_count": 3,
   "metadata": {
    "collapsed": false,
    "scrolled": false,
    "slideshow": {
     "slide_type": "skip"
    }
   },
   "outputs": [
    {
     "name": "stdout",
     "output_type": "stream",
     "text": [
      "1. Traten Sie aus Frust einen Gegenstand oder warfen ihn umher?\n",
      "2. Fanden Sie Sportarten aufregender, in denen Blut floss?\n",
      "3. Waren Sie so gereizt, dass Sie sich an anderen Menschen abreagierten?\n",
      "4. Wollten Sie jemanden noch mehr einschüchtern, wenn Sie merkten, dass diese Person Angst vor Ihnen hatte?\n",
      "5. Schlugen Sie aus Ärger so fest auf den Tisch, dass Ihnen die Faust danach weh tat?\n",
      "6. Wollten Sie möglichst vor Ort sein, wenn Sie von einem grausamen Ereignis hörten?\n",
      "7. Provozierten Sie andere, einfach weil es Ihnen Spaß machte?\n",
      "8. Wenn Sie wütend auf jemanden waren, malten Sie sich schlimme Dinge aus, die der betreffenden Person zustoßen könnten?\n",
      "9. Schauten Sie einer Schlägerei zu, auch wenn Sie sich selbst dabei in Gefahr gebracht haben?\n",
      "10. Rutschte Ihnen die Hand aus, weil jemand Sie provozierte?\n",
      "11. Machte es Ihnen Spaß, sich zu prügeln?\n",
      "12. Wenn Sie sich bedroht fühlten, ging es Ihnen besser, wenn Sie sich vorstellten der betreffenden Person zu schaden?\n",
      "13. Gewöhnten Sie sich an die Bilder von Gewalt, sodass Sie immer grausamere Bilder anschauen mussten, um genauso fasziniert zu sein?\n",
      "14. Wenn Sie frustriert waren, suchten Sie körperliche Auseinandersetzungen, um den Frust abzubauen?\n",
      "15. Fanden Sie Gewaltfilme aufregend, in denen die Opfer richtig leiden mussten?\n",
      "16. Machte es Ihnen Spaß, mit anderen Ihre Kräfte zu messen, auch wenn Sie den anderen weh taten?\n",
      "17. Fühlten Sie sich für einen Moment besser, wenn Sie Ihren Frust an anderen ausließen?\n",
      "18. Stachelten Sie andere dazu an, jemanden zu beleidigen oder zu mobben?\n",
      "19. Standen Sie so unter Druck, dass Sie andere Menschen beschimpften, um diesen Druck abzubauen?\n",
      "20. Fühlten Sie sich stark, wenn Sie jemanden körperlich angriffen?\n",
      "21. Schlugen Sie zu, wenn Sie sich in die Enge getrieben fühlten?\n",
      "22. Waren Sie gemein und mussten Sie das nächste Mal gemeiner sein, um wieder die positive Aufregung zu spüren?\n",
      "23. Fühlten Sie sich erleichtert, wenn Sie jemanden anschrien?\n",
      "24. Faszinierte Sie eine Prügelei so sehr, dass Sie nicht aufhören konnten, sich zu prügeln?\n",
      "25. Wenn Sie sich ärgerten, schlugen Sie zu, um Ihrem Ärger Luft zu machen?\n",
      "26. Beschimpften oder beleidigten Sie andere, um sich gut zu fühlen?\n",
      "27. Ließen Sie andere Ihren Ärger spüren, wenn Sie wegen denen nicht das bekamen, was Sie wollten?\n",
      "28. Gab Ihnen eine Prügelei ein so gutes Gefühl, dass Sie auch Verletzungen in Kauf nahmen?\n",
      "29. Fühlten Sie sich besser, wenn Sie jemanden schlugen, durch den Sie sich bedroht fühlten?\n",
      "30. Zerstörten Sie Dinge, wenn Ihnen etwas weh tat\n"
     ]
    }
   ],
   "source": [
    "for entry in open('../experiment/quest/app/forms.py','r'):\n",
    "    if 'u\"' in entry:\n",
    "        print entry[entry.find('u\"')+2:-3]"
   ]
  },
  {
   "cell_type": "markdown",
   "metadata": {
    "slideshow": {
     "slide_type": "skip"
    }
   },
   "source": [
    "### find all files"
   ]
  },
  {
   "cell_type": "code",
   "execution_count": 4,
   "metadata": {
    "collapsed": true,
    "slideshow": {
     "slide_type": "skip"
    }
   },
   "outputs": [],
   "source": [
    "def get_logfile(whichfolder, whichexperiment):\n",
    "\n",
    "    loglist = []\n",
    "    for fileName in os.listdir(whichfolder):\n",
    "        if fnmatch.fnmatch(fileName, whichexperiment):\n",
    "            loglist.append(whichfolder+fileName)\n",
    "    return loglist"
   ]
  },
  {
   "cell_type": "code",
   "execution_count": 5,
   "metadata": {
    "collapsed": false,
    "slideshow": {
     "slide_type": "skip"
    }
   },
   "outputs": [],
   "source": [
    "loglist = get_logfile('../experiment/quest/app/static/logfiles/','log*.txt')\n",
    "loglist.sort()"
   ]
  },
  {
   "cell_type": "markdown",
   "metadata": {
    "slideshow": {
     "slide_type": "skip"
    }
   },
   "source": [
    "Example:"
   ]
  },
  {
   "cell_type": "code",
   "execution_count": 6,
   "metadata": {
    "collapsed": false,
    "scrolled": true,
    "slideshow": {
     "slide_type": "skip"
    }
   },
   "outputs": [
    {
     "data": {
      "text/plain": [
       "['../experiment/quest/app/static/logfiles/logfile_A1.txt',\n",
       " '../experiment/quest/app/static/logfiles/logfile_A10.txt',\n",
       " '../experiment/quest/app/static/logfiles/logfile_A11.txt',\n",
       " '../experiment/quest/app/static/logfiles/logfile_A12.txt',\n",
       " '../experiment/quest/app/static/logfiles/logfile_A13.txt']"
      ]
     },
     "execution_count": 6,
     "metadata": {},
     "output_type": "execute_result"
    }
   ],
   "source": [
    "loglist[:5]"
   ]
  },
  {
   "cell_type": "markdown",
   "metadata": {
    "slideshow": {
     "slide_type": "skip"
    }
   },
   "source": [
    "### get data of one participant"
   ]
  },
  {
   "cell_type": "code",
   "execution_count": 7,
   "metadata": {
    "collapsed": false,
    "scrolled": true,
    "slideshow": {
     "slide_type": "skip"
    }
   },
   "outputs": [],
   "source": [
    "def makeThis(logfile):\n",
    "\n",
    "    pName = logfile[logfile.find('_')+1:logfile.rfind('.')]\n",
    "    pName = pName[0] + ('000'+ pName[1:])[-3:]\n",
    "    \n",
    "    fullDf = pd.read_csv(logfile,\n",
    "                         skiprows=2,\n",
    "                         index_col=[0]\n",
    "                        )\n",
    "    \n",
    "    fullDf.index = [[pName]*len(fullDf.index),fullDf.index]\n",
    "    fullDf.index.names = ['id', 'f']\n",
    "    fullDf.columns = ['ans']\n",
    "    \n",
    "    withinDf = fullDf.unstack(1)\n",
    "    \n",
    "    # sort columns\n",
    "    newCols = []\n",
    "    for entry in withinDf.columns.levels[1]:\n",
    "        newName = '00'+str(entry[1:])\n",
    "        newCols.append('f'+newName[-3:])\n",
    "    withinDf.columns = newCols\n",
    "    withinDf = withinDf.reindex_axis(sorted(withinDf.columns), axis=1)\n",
    "    \n",
    "    return withinDf"
   ]
  },
  {
   "cell_type": "markdown",
   "metadata": {
    "slideshow": {
     "slide_type": "skip"
    }
   },
   "source": [
    "Example:"
   ]
  },
  {
   "cell_type": "code",
   "execution_count": 8,
   "metadata": {
    "collapsed": false,
    "scrolled": true,
    "slideshow": {
     "slide_type": "skip"
    }
   },
   "outputs": [
    {
     "data": {
      "text/html": [
       "<div>\n",
       "<table border=\"1\" class=\"dataframe\">\n",
       "  <thead>\n",
       "    <tr style=\"text-align: right;\">\n",
       "      <th></th>\n",
       "      <th>f001</th>\n",
       "      <th>f002</th>\n",
       "      <th>f003</th>\n",
       "      <th>f004</th>\n",
       "      <th>f005</th>\n",
       "      <th>f006</th>\n",
       "      <th>f007</th>\n",
       "      <th>f008</th>\n",
       "      <th>f009</th>\n",
       "      <th>f010</th>\n",
       "      <th>...</th>\n",
       "      <th>f021</th>\n",
       "      <th>f022</th>\n",
       "      <th>f023</th>\n",
       "      <th>f024</th>\n",
       "      <th>f025</th>\n",
       "      <th>f026</th>\n",
       "      <th>f027</th>\n",
       "      <th>f028</th>\n",
       "      <th>f029</th>\n",
       "      <th>f030</th>\n",
       "    </tr>\n",
       "    <tr>\n",
       "      <th>id</th>\n",
       "      <th></th>\n",
       "      <th></th>\n",
       "      <th></th>\n",
       "      <th></th>\n",
       "      <th></th>\n",
       "      <th></th>\n",
       "      <th></th>\n",
       "      <th></th>\n",
       "      <th></th>\n",
       "      <th></th>\n",
       "      <th></th>\n",
       "      <th></th>\n",
       "      <th></th>\n",
       "      <th></th>\n",
       "      <th></th>\n",
       "      <th></th>\n",
       "      <th></th>\n",
       "      <th></th>\n",
       "      <th></th>\n",
       "      <th></th>\n",
       "      <th></th>\n",
       "    </tr>\n",
       "  </thead>\n",
       "  <tbody>\n",
       "    <tr>\n",
       "      <th>K009</th>\n",
       "      <td>1</td>\n",
       "      <td>0</td>\n",
       "      <td>0</td>\n",
       "      <td>2</td>\n",
       "      <td>0</td>\n",
       "      <td>0</td>\n",
       "      <td>0</td>\n",
       "      <td>1</td>\n",
       "      <td>1</td>\n",
       "      <td>1</td>\n",
       "      <td>...</td>\n",
       "      <td>1</td>\n",
       "      <td>0</td>\n",
       "      <td>1</td>\n",
       "      <td>0</td>\n",
       "      <td>1</td>\n",
       "      <td>0</td>\n",
       "      <td>1</td>\n",
       "      <td>0</td>\n",
       "      <td>1</td>\n",
       "      <td>1</td>\n",
       "    </tr>\n",
       "  </tbody>\n",
       "</table>\n",
       "<p>1 rows × 30 columns</p>\n",
       "</div>"
      ],
      "text/plain": [
       "      f001  f002  f003  f004  f005  f006  f007  f008  f009  f010  ...   f021  \\\n",
       "id                                                                ...          \n",
       "K009     1     0     0     2     0     0     0     1     1     1  ...      1   \n",
       "\n",
       "      f022  f023  f024  f025  f026  f027  f028  f029  f030  \n",
       "id                                                          \n",
       "K009     0     1     0     1     0     1     0     1     1  \n",
       "\n",
       "[1 rows x 30 columns]"
      ]
     },
     "execution_count": 8,
     "metadata": {},
     "output_type": "execute_result"
    }
   ],
   "source": [
    "makeThis(loglist[-1])"
   ]
  },
  {
   "cell_type": "markdown",
   "metadata": {
    "slideshow": {
     "slide_type": "skip"
    }
   },
   "source": [
    "### get data of all participants"
   ]
  },
  {
   "cell_type": "code",
   "execution_count": 9,
   "metadata": {
    "collapsed": true,
    "slideshow": {
     "slide_type": "skip"
    }
   },
   "outputs": [],
   "source": [
    "def makeAll(loglist):\n",
    "    \n",
    "    for p in loglist:\n",
    "        thisDf = makeThis(p)\n",
    "        try:\n",
    "            bigDf = pd.concat([bigDf,thisDf])\n",
    "            \n",
    "        except:\n",
    "            bigDf = thisDf\n",
    "    \n",
    "    group = [a[0] for a in bigDf.index]\n",
    "    \n",
    "    bigDf.index = [group,bigDf.index]\n",
    "    bigDf = bigDf.sort_index(axis=0,level=1)\n",
    "    \n",
    "    return bigDf"
   ]
  },
  {
   "cell_type": "code",
   "execution_count": 10,
   "metadata": {
    "collapsed": false,
    "scrolled": true,
    "slideshow": {
     "slide_type": "skip"
    }
   },
   "outputs": [],
   "source": [
    "bigDf = makeAll(loglist)"
   ]
  },
  {
   "cell_type": "markdown",
   "metadata": {
    "slideshow": {
     "slide_type": "skip"
    }
   },
   "source": [
    "The final DataFrame:"
   ]
  },
  {
   "cell_type": "code",
   "execution_count": 11,
   "metadata": {
    "collapsed": false,
    "scrolled": false,
    "slideshow": {
     "slide_type": "skip"
    }
   },
   "outputs": [
    {
     "data": {
      "text/html": [
       "<div>\n",
       "<table border=\"1\" class=\"dataframe\">\n",
       "  <thead>\n",
       "    <tr style=\"text-align: right;\">\n",
       "      <th></th>\n",
       "      <th></th>\n",
       "      <th>f001</th>\n",
       "      <th>f002</th>\n",
       "      <th>f003</th>\n",
       "      <th>f004</th>\n",
       "      <th>f005</th>\n",
       "      <th>f006</th>\n",
       "      <th>f007</th>\n",
       "      <th>f008</th>\n",
       "      <th>f009</th>\n",
       "      <th>f010</th>\n",
       "      <th>...</th>\n",
       "      <th>f021</th>\n",
       "      <th>f022</th>\n",
       "      <th>f023</th>\n",
       "      <th>f024</th>\n",
       "      <th>f025</th>\n",
       "      <th>f026</th>\n",
       "      <th>f027</th>\n",
       "      <th>f028</th>\n",
       "      <th>f029</th>\n",
       "      <th>f030</th>\n",
       "    </tr>\n",
       "    <tr>\n",
       "      <th></th>\n",
       "      <th>id</th>\n",
       "      <th></th>\n",
       "      <th></th>\n",
       "      <th></th>\n",
       "      <th></th>\n",
       "      <th></th>\n",
       "      <th></th>\n",
       "      <th></th>\n",
       "      <th></th>\n",
       "      <th></th>\n",
       "      <th></th>\n",
       "      <th></th>\n",
       "      <th></th>\n",
       "      <th></th>\n",
       "      <th></th>\n",
       "      <th></th>\n",
       "      <th></th>\n",
       "      <th></th>\n",
       "      <th></th>\n",
       "      <th></th>\n",
       "      <th></th>\n",
       "      <th></th>\n",
       "    </tr>\n",
       "  </thead>\n",
       "  <tbody>\n",
       "    <tr>\n",
       "      <th rowspan=\"5\" valign=\"top\">A</th>\n",
       "      <th>A001</th>\n",
       "      <td>1</td>\n",
       "      <td>0</td>\n",
       "      <td>1</td>\n",
       "      <td>0</td>\n",
       "      <td>1</td>\n",
       "      <td>0</td>\n",
       "      <td>0</td>\n",
       "      <td>0</td>\n",
       "      <td>0</td>\n",
       "      <td>1</td>\n",
       "      <td>...</td>\n",
       "      <td>1</td>\n",
       "      <td>0</td>\n",
       "      <td>2</td>\n",
       "      <td>0</td>\n",
       "      <td>0</td>\n",
       "      <td>1</td>\n",
       "      <td>1</td>\n",
       "      <td>0</td>\n",
       "      <td>2</td>\n",
       "      <td>0</td>\n",
       "    </tr>\n",
       "    <tr>\n",
       "      <th>A002</th>\n",
       "      <td>1</td>\n",
       "      <td>0</td>\n",
       "      <td>0</td>\n",
       "      <td>0</td>\n",
       "      <td>1</td>\n",
       "      <td>0</td>\n",
       "      <td>1</td>\n",
       "      <td>0</td>\n",
       "      <td>0</td>\n",
       "      <td>0</td>\n",
       "      <td>...</td>\n",
       "      <td>0</td>\n",
       "      <td>0</td>\n",
       "      <td>1</td>\n",
       "      <td>0</td>\n",
       "      <td>0</td>\n",
       "      <td>0</td>\n",
       "      <td>0</td>\n",
       "      <td>0</td>\n",
       "      <td>0</td>\n",
       "      <td>0</td>\n",
       "    </tr>\n",
       "    <tr>\n",
       "      <th>A003</th>\n",
       "      <td>2</td>\n",
       "      <td>0</td>\n",
       "      <td>0</td>\n",
       "      <td>0</td>\n",
       "      <td>1</td>\n",
       "      <td>0</td>\n",
       "      <td>1</td>\n",
       "      <td>0</td>\n",
       "      <td>1</td>\n",
       "      <td>1</td>\n",
       "      <td>...</td>\n",
       "      <td>1</td>\n",
       "      <td>0</td>\n",
       "      <td>1</td>\n",
       "      <td>0</td>\n",
       "      <td>0</td>\n",
       "      <td>0</td>\n",
       "      <td>0</td>\n",
       "      <td>0</td>\n",
       "      <td>0</td>\n",
       "      <td>2</td>\n",
       "    </tr>\n",
       "    <tr>\n",
       "      <th>A004</th>\n",
       "      <td>0</td>\n",
       "      <td>0</td>\n",
       "      <td>0</td>\n",
       "      <td>1</td>\n",
       "      <td>0</td>\n",
       "      <td>0</td>\n",
       "      <td>2</td>\n",
       "      <td>1</td>\n",
       "      <td>0</td>\n",
       "      <td>0</td>\n",
       "      <td>...</td>\n",
       "      <td>0</td>\n",
       "      <td>0</td>\n",
       "      <td>1</td>\n",
       "      <td>0</td>\n",
       "      <td>0</td>\n",
       "      <td>0</td>\n",
       "      <td>1</td>\n",
       "      <td>0</td>\n",
       "      <td>0</td>\n",
       "      <td>0</td>\n",
       "    </tr>\n",
       "    <tr>\n",
       "      <th>A005</th>\n",
       "      <td>3</td>\n",
       "      <td>0</td>\n",
       "      <td>1</td>\n",
       "      <td>3</td>\n",
       "      <td>2</td>\n",
       "      <td>3</td>\n",
       "      <td>1</td>\n",
       "      <td>4</td>\n",
       "      <td>4</td>\n",
       "      <td>0</td>\n",
       "      <td>...</td>\n",
       "      <td>0</td>\n",
       "      <td>0</td>\n",
       "      <td>1</td>\n",
       "      <td>0</td>\n",
       "      <td>0</td>\n",
       "      <td>3</td>\n",
       "      <td>1</td>\n",
       "      <td>1</td>\n",
       "      <td>2</td>\n",
       "      <td>3</td>\n",
       "    </tr>\n",
       "  </tbody>\n",
       "</table>\n",
       "<p>5 rows × 30 columns</p>\n",
       "</div>"
      ],
      "text/plain": [
       "        f001  f002  f003  f004  f005  f006  f007  f008  f009  f010  ...   \\\n",
       "  id                                                                ...    \n",
       "A A001     1     0     1     0     1     0     0     0     0     1  ...    \n",
       "  A002     1     0     0     0     1     0     1     0     0     0  ...    \n",
       "  A003     2     0     0     0     1     0     1     0     1     1  ...    \n",
       "  A004     0     0     0     1     0     0     2     1     0     0  ...    \n",
       "  A005     3     0     1     3     2     3     1     4     4     0  ...    \n",
       "\n",
       "        f021  f022  f023  f024  f025  f026  f027  f028  f029  f030  \n",
       "  id                                                                \n",
       "A A001     1     0     2     0     0     1     1     0     2     0  \n",
       "  A002     0     0     1     0     0     0     0     0     0     0  \n",
       "  A003     1     0     1     0     0     0     0     0     0     2  \n",
       "  A004     0     0     1     0     0     0     1     0     0     0  \n",
       "  A005     0     0     1     0     0     3     1     1     2     3  \n",
       "\n",
       "[5 rows x 30 columns]"
      ]
     },
     "execution_count": 11,
     "metadata": {},
     "output_type": "execute_result"
    }
   ],
   "source": [
    "bigDf.head()"
   ]
  },
  {
   "cell_type": "markdown",
   "metadata": {
    "slideshow": {
     "slide_type": "skip"
    }
   },
   "source": [
    "### Export as CSV for re-use"
   ]
  },
  {
   "cell_type": "code",
   "execution_count": 12,
   "metadata": {
    "collapsed": true,
    "slideshow": {
     "slide_type": "skip"
    }
   },
   "outputs": [],
   "source": [
    "bigDf.to_csv('../outputs/fullAFAS.csv')"
   ]
  },
  {
   "cell_type": "markdown",
   "metadata": {},
   "source": [
    "Example of re-importing:"
   ]
  },
  {
   "cell_type": "code",
   "execution_count": 13,
   "metadata": {
    "collapsed": false
   },
   "outputs": [
    {
     "data": {
      "text/html": [
       "<div>\n",
       "<table border=\"1\" class=\"dataframe\">\n",
       "  <thead>\n",
       "    <tr style=\"text-align: right;\">\n",
       "      <th></th>\n",
       "      <th></th>\n",
       "      <th>f001</th>\n",
       "      <th>f002</th>\n",
       "      <th>f003</th>\n",
       "      <th>f004</th>\n",
       "      <th>f005</th>\n",
       "      <th>f006</th>\n",
       "      <th>f007</th>\n",
       "      <th>f008</th>\n",
       "      <th>f009</th>\n",
       "      <th>f010</th>\n",
       "      <th>...</th>\n",
       "      <th>f021</th>\n",
       "      <th>f022</th>\n",
       "      <th>f023</th>\n",
       "      <th>f024</th>\n",
       "      <th>f025</th>\n",
       "      <th>f026</th>\n",
       "      <th>f027</th>\n",
       "      <th>f028</th>\n",
       "      <th>f029</th>\n",
       "      <th>f030</th>\n",
       "    </tr>\n",
       "    <tr>\n",
       "      <th></th>\n",
       "      <th>id</th>\n",
       "      <th></th>\n",
       "      <th></th>\n",
       "      <th></th>\n",
       "      <th></th>\n",
       "      <th></th>\n",
       "      <th></th>\n",
       "      <th></th>\n",
       "      <th></th>\n",
       "      <th></th>\n",
       "      <th></th>\n",
       "      <th></th>\n",
       "      <th></th>\n",
       "      <th></th>\n",
       "      <th></th>\n",
       "      <th></th>\n",
       "      <th></th>\n",
       "      <th></th>\n",
       "      <th></th>\n",
       "      <th></th>\n",
       "      <th></th>\n",
       "      <th></th>\n",
       "    </tr>\n",
       "  </thead>\n",
       "  <tbody>\n",
       "    <tr>\n",
       "      <th rowspan=\"5\" valign=\"top\">A</th>\n",
       "      <th>A001</th>\n",
       "      <td>1</td>\n",
       "      <td>0</td>\n",
       "      <td>1</td>\n",
       "      <td>0</td>\n",
       "      <td>1</td>\n",
       "      <td>0</td>\n",
       "      <td>0</td>\n",
       "      <td>0</td>\n",
       "      <td>0</td>\n",
       "      <td>1</td>\n",
       "      <td>...</td>\n",
       "      <td>1</td>\n",
       "      <td>0</td>\n",
       "      <td>2</td>\n",
       "      <td>0</td>\n",
       "      <td>0</td>\n",
       "      <td>1</td>\n",
       "      <td>1</td>\n",
       "      <td>0</td>\n",
       "      <td>2</td>\n",
       "      <td>0</td>\n",
       "    </tr>\n",
       "    <tr>\n",
       "      <th>A002</th>\n",
       "      <td>1</td>\n",
       "      <td>0</td>\n",
       "      <td>0</td>\n",
       "      <td>0</td>\n",
       "      <td>1</td>\n",
       "      <td>0</td>\n",
       "      <td>1</td>\n",
       "      <td>0</td>\n",
       "      <td>0</td>\n",
       "      <td>0</td>\n",
       "      <td>...</td>\n",
       "      <td>0</td>\n",
       "      <td>0</td>\n",
       "      <td>1</td>\n",
       "      <td>0</td>\n",
       "      <td>0</td>\n",
       "      <td>0</td>\n",
       "      <td>0</td>\n",
       "      <td>0</td>\n",
       "      <td>0</td>\n",
       "      <td>0</td>\n",
       "    </tr>\n",
       "    <tr>\n",
       "      <th>A003</th>\n",
       "      <td>2</td>\n",
       "      <td>0</td>\n",
       "      <td>0</td>\n",
       "      <td>0</td>\n",
       "      <td>1</td>\n",
       "      <td>0</td>\n",
       "      <td>1</td>\n",
       "      <td>0</td>\n",
       "      <td>1</td>\n",
       "      <td>1</td>\n",
       "      <td>...</td>\n",
       "      <td>1</td>\n",
       "      <td>0</td>\n",
       "      <td>1</td>\n",
       "      <td>0</td>\n",
       "      <td>0</td>\n",
       "      <td>0</td>\n",
       "      <td>0</td>\n",
       "      <td>0</td>\n",
       "      <td>0</td>\n",
       "      <td>2</td>\n",
       "    </tr>\n",
       "    <tr>\n",
       "      <th>A004</th>\n",
       "      <td>0</td>\n",
       "      <td>0</td>\n",
       "      <td>0</td>\n",
       "      <td>1</td>\n",
       "      <td>0</td>\n",
       "      <td>0</td>\n",
       "      <td>2</td>\n",
       "      <td>1</td>\n",
       "      <td>0</td>\n",
       "      <td>0</td>\n",
       "      <td>...</td>\n",
       "      <td>0</td>\n",
       "      <td>0</td>\n",
       "      <td>1</td>\n",
       "      <td>0</td>\n",
       "      <td>0</td>\n",
       "      <td>0</td>\n",
       "      <td>1</td>\n",
       "      <td>0</td>\n",
       "      <td>0</td>\n",
       "      <td>0</td>\n",
       "    </tr>\n",
       "    <tr>\n",
       "      <th>A005</th>\n",
       "      <td>3</td>\n",
       "      <td>0</td>\n",
       "      <td>1</td>\n",
       "      <td>3</td>\n",
       "      <td>2</td>\n",
       "      <td>3</td>\n",
       "      <td>1</td>\n",
       "      <td>4</td>\n",
       "      <td>4</td>\n",
       "      <td>0</td>\n",
       "      <td>...</td>\n",
       "      <td>0</td>\n",
       "      <td>0</td>\n",
       "      <td>1</td>\n",
       "      <td>0</td>\n",
       "      <td>0</td>\n",
       "      <td>3</td>\n",
       "      <td>1</td>\n",
       "      <td>1</td>\n",
       "      <td>2</td>\n",
       "      <td>3</td>\n",
       "    </tr>\n",
       "  </tbody>\n",
       "</table>\n",
       "<p>5 rows × 30 columns</p>\n",
       "</div>"
      ],
      "text/plain": [
       "        f001  f002  f003  f004  f005  f006  f007  f008  f009  f010  ...   \\\n",
       "  id                                                                ...    \n",
       "A A001     1     0     1     0     1     0     0     0     0     1  ...    \n",
       "  A002     1     0     0     0     1     0     1     0     0     0  ...    \n",
       "  A003     2     0     0     0     1     0     1     0     1     1  ...    \n",
       "  A004     0     0     0     1     0     0     2     1     0     0  ...    \n",
       "  A005     3     0     1     3     2     3     1     4     4     0  ...    \n",
       "\n",
       "        f021  f022  f023  f024  f025  f026  f027  f028  f029  f030  \n",
       "  id                                                                \n",
       "A A001     1     0     2     0     0     1     1     0     2     0  \n",
       "  A002     0     0     1     0     0     0     0     0     0     0  \n",
       "  A003     1     0     1     0     0     0     0     0     0     2  \n",
       "  A004     0     0     1     0     0     0     1     0     0     0  \n",
       "  A005     0     0     1     0     0     3     1     1     2     3  \n",
       "\n",
       "[5 rows x 30 columns]"
      ]
     },
     "execution_count": 13,
     "metadata": {},
     "output_type": "execute_result"
    }
   ],
   "source": [
    "pd.read_csv('../outputs/fullAFAS.csv',\n",
    "            index_col =[0,1]).head()"
   ]
  },
  {
   "cell_type": "markdown",
   "metadata": {
    "slideshow": {
     "slide_type": "skip"
    }
   },
   "source": [
    "## Get avarage scores for each participant"
   ]
  },
  {
   "cell_type": "markdown",
   "metadata": {},
   "source": [
    "Facilitative Aggression:\n",
    "Items 1,3,5,8,10,12,14,17,19,21,23,25,27,29,30\n",
    "\n",
    "Appetitive Aggression:\n",
    "Items 2,4,6,7,9,11,13,15,16,18,20,22,24,26,28\n"
   ]
  },
  {
   "cell_type": "code",
   "execution_count": 14,
   "metadata": {
    "collapsed": false
   },
   "outputs": [
    {
     "name": "stdout",
     "output_type": "stream",
     "text": [
      "[ 0  2  4  7  9 11 13 16 18 20 22 24 26 28 29]\n",
      "[ 1  3  5  6  8 10 12 14 15 17 19 21 23 25 27]\n"
     ]
    }
   ],
   "source": [
    "fAgr=np.array([1,3,5,8,10,12,14,17,19,21,23,25,27,29,30])-1 # because we start counting from zero, we subtract 1\n",
    "aAgr=np.array([2,4,6,7,9,11,13,15,16,18,20,22,24,26,28])-1\n",
    "\n",
    "print fAgr\n",
    "print aAgr"
   ]
  },
  {
   "cell_type": "markdown",
   "metadata": {},
   "source": [
    "Example: facilitative aggression"
   ]
  },
  {
   "cell_type": "code",
   "execution_count": 15,
   "metadata": {
    "collapsed": false
   },
   "outputs": [
    {
     "data": {
      "text/html": [
       "<div>\n",
       "<table border=\"1\" class=\"dataframe\">\n",
       "  <thead>\n",
       "    <tr style=\"text-align: right;\">\n",
       "      <th></th>\n",
       "      <th></th>\n",
       "      <th>f001</th>\n",
       "      <th>f003</th>\n",
       "      <th>f005</th>\n",
       "      <th>f008</th>\n",
       "      <th>f010</th>\n",
       "      <th>f012</th>\n",
       "      <th>f014</th>\n",
       "      <th>f017</th>\n",
       "      <th>f019</th>\n",
       "      <th>f021</th>\n",
       "      <th>f023</th>\n",
       "      <th>f025</th>\n",
       "      <th>f027</th>\n",
       "      <th>f029</th>\n",
       "      <th>f030</th>\n",
       "    </tr>\n",
       "    <tr>\n",
       "      <th></th>\n",
       "      <th>id</th>\n",
       "      <th></th>\n",
       "      <th></th>\n",
       "      <th></th>\n",
       "      <th></th>\n",
       "      <th></th>\n",
       "      <th></th>\n",
       "      <th></th>\n",
       "      <th></th>\n",
       "      <th></th>\n",
       "      <th></th>\n",
       "      <th></th>\n",
       "      <th></th>\n",
       "      <th></th>\n",
       "      <th></th>\n",
       "      <th></th>\n",
       "    </tr>\n",
       "  </thead>\n",
       "  <tbody>\n",
       "    <tr>\n",
       "      <th rowspan=\"5\" valign=\"top\">A</th>\n",
       "      <th>A001</th>\n",
       "      <td>1</td>\n",
       "      <td>1</td>\n",
       "      <td>1</td>\n",
       "      <td>0</td>\n",
       "      <td>1</td>\n",
       "      <td>2</td>\n",
       "      <td>1</td>\n",
       "      <td>1</td>\n",
       "      <td>1</td>\n",
       "      <td>1</td>\n",
       "      <td>2</td>\n",
       "      <td>0</td>\n",
       "      <td>1</td>\n",
       "      <td>2</td>\n",
       "      <td>0</td>\n",
       "    </tr>\n",
       "    <tr>\n",
       "      <th>A002</th>\n",
       "      <td>1</td>\n",
       "      <td>0</td>\n",
       "      <td>1</td>\n",
       "      <td>0</td>\n",
       "      <td>0</td>\n",
       "      <td>0</td>\n",
       "      <td>0</td>\n",
       "      <td>0</td>\n",
       "      <td>1</td>\n",
       "      <td>0</td>\n",
       "      <td>1</td>\n",
       "      <td>0</td>\n",
       "      <td>0</td>\n",
       "      <td>0</td>\n",
       "      <td>0</td>\n",
       "    </tr>\n",
       "    <tr>\n",
       "      <th>A003</th>\n",
       "      <td>2</td>\n",
       "      <td>0</td>\n",
       "      <td>1</td>\n",
       "      <td>0</td>\n",
       "      <td>1</td>\n",
       "      <td>1</td>\n",
       "      <td>0</td>\n",
       "      <td>0</td>\n",
       "      <td>0</td>\n",
       "      <td>1</td>\n",
       "      <td>1</td>\n",
       "      <td>0</td>\n",
       "      <td>0</td>\n",
       "      <td>0</td>\n",
       "      <td>2</td>\n",
       "    </tr>\n",
       "    <tr>\n",
       "      <th>A004</th>\n",
       "      <td>0</td>\n",
       "      <td>0</td>\n",
       "      <td>0</td>\n",
       "      <td>1</td>\n",
       "      <td>0</td>\n",
       "      <td>0</td>\n",
       "      <td>0</td>\n",
       "      <td>1</td>\n",
       "      <td>0</td>\n",
       "      <td>0</td>\n",
       "      <td>1</td>\n",
       "      <td>0</td>\n",
       "      <td>1</td>\n",
       "      <td>0</td>\n",
       "      <td>0</td>\n",
       "    </tr>\n",
       "    <tr>\n",
       "      <th>A005</th>\n",
       "      <td>3</td>\n",
       "      <td>1</td>\n",
       "      <td>2</td>\n",
       "      <td>4</td>\n",
       "      <td>0</td>\n",
       "      <td>3</td>\n",
       "      <td>0</td>\n",
       "      <td>1</td>\n",
       "      <td>0</td>\n",
       "      <td>0</td>\n",
       "      <td>1</td>\n",
       "      <td>0</td>\n",
       "      <td>1</td>\n",
       "      <td>2</td>\n",
       "      <td>3</td>\n",
       "    </tr>\n",
       "  </tbody>\n",
       "</table>\n",
       "</div>"
      ],
      "text/plain": [
       "        f001  f003  f005  f008  f010  f012  f014  f017  f019  f021  f023  \\\n",
       "  id                                                                       \n",
       "A A001     1     1     1     0     1     2     1     1     1     1     2   \n",
       "  A002     1     0     1     0     0     0     0     0     1     0     1   \n",
       "  A003     2     0     1     0     1     1     0     0     0     1     1   \n",
       "  A004     0     0     0     1     0     0     0     1     0     0     1   \n",
       "  A005     3     1     2     4     0     3     0     1     0     0     1   \n",
       "\n",
       "        f025  f027  f029  f030  \n",
       "  id                            \n",
       "A A001     0     1     2     0  \n",
       "  A002     0     0     0     0  \n",
       "  A003     0     0     0     2  \n",
       "  A004     0     1     0     0  \n",
       "  A005     0     1     2     3  "
      ]
     },
     "execution_count": 15,
     "metadata": {},
     "output_type": "execute_result"
    }
   ],
   "source": [
    "bigDf[bigDf.columns[fAgr]].head()"
   ]
  },
  {
   "cell_type": "code",
   "execution_count": 16,
   "metadata": {
    "collapsed": false
   },
   "outputs": [],
   "source": [
    "def makeMean(df,fAgr=fAgr,aAgr=aAgr,labelCoding=labelCoding):\n",
    "    # get the mean on both scales\n",
    "    meanF = df[df.columns[fAgr]].T.mean()\n",
    "    meanA = df[df.columns[aAgr]].T.mean()\n",
    "    # get the overall mean\n",
    "    meanBig = df.T.mean()\n",
    "    \n",
    "    assert meanBig.all() == ((meanA+meanF)/2.).all() , 'mean values corrupted; please check'\n",
    "    \n",
    "    # put them in one df\n",
    "    meanDf = pd.DataFrame([meanF,meanA,meanBig]).T\n",
    "    # structure the df\n",
    "    meanDf['group'] = [ labelCoding[x[0]] for x in meanDf.index.levels[1] ]\n",
    "    meanDf.columns = ['Facilitative','Appetitive','Overall','group']\n",
    "    meanDf = meanDf.sort_index()\n",
    "   \n",
    "    return meanDf"
   ]
  },
  {
   "cell_type": "code",
   "execution_count": 17,
   "metadata": {
    "collapsed": false,
    "scrolled": true
   },
   "outputs": [],
   "source": [
    "meanDf = makeMean(bigDf)"
   ]
  },
  {
   "cell_type": "code",
   "execution_count": 18,
   "metadata": {
    "collapsed": false
   },
   "outputs": [
    {
     "data": {
      "text/html": [
       "<div>\n",
       "<table border=\"1\" class=\"dataframe\">\n",
       "  <thead>\n",
       "    <tr style=\"text-align: right;\">\n",
       "      <th></th>\n",
       "      <th></th>\n",
       "      <th>Facilitative</th>\n",
       "      <th>Appetitive</th>\n",
       "      <th>Overall</th>\n",
       "      <th>group</th>\n",
       "    </tr>\n",
       "    <tr>\n",
       "      <th></th>\n",
       "      <th>id</th>\n",
       "      <th></th>\n",
       "      <th></th>\n",
       "      <th></th>\n",
       "      <th></th>\n",
       "    </tr>\n",
       "  </thead>\n",
       "  <tbody>\n",
       "    <tr>\n",
       "      <th rowspan=\"5\" valign=\"top\">A</th>\n",
       "      <th>A001</th>\n",
       "      <td>1.000000</td>\n",
       "      <td>0.266667</td>\n",
       "      <td>0.633333</td>\n",
       "      <td>2</td>\n",
       "    </tr>\n",
       "    <tr>\n",
       "      <th>A002</th>\n",
       "      <td>0.266667</td>\n",
       "      <td>0.066667</td>\n",
       "      <td>0.166667</td>\n",
       "      <td>2</td>\n",
       "    </tr>\n",
       "    <tr>\n",
       "      <th>A003</th>\n",
       "      <td>0.600000</td>\n",
       "      <td>0.200000</td>\n",
       "      <td>0.400000</td>\n",
       "      <td>2</td>\n",
       "    </tr>\n",
       "    <tr>\n",
       "      <th>A004</th>\n",
       "      <td>0.266667</td>\n",
       "      <td>0.200000</td>\n",
       "      <td>0.233333</td>\n",
       "      <td>2</td>\n",
       "    </tr>\n",
       "    <tr>\n",
       "      <th>A005</th>\n",
       "      <td>1.400000</td>\n",
       "      <td>1.200000</td>\n",
       "      <td>1.300000</td>\n",
       "      <td>2</td>\n",
       "    </tr>\n",
       "  </tbody>\n",
       "</table>\n",
       "</div>"
      ],
      "text/plain": [
       "        Facilitative  Appetitive   Overall  group\n",
       "  id                                             \n",
       "A A001      1.000000    0.266667  0.633333      2\n",
       "  A002      0.266667    0.066667  0.166667      2\n",
       "  A003      0.600000    0.200000  0.400000      2\n",
       "  A004      0.266667    0.200000  0.233333      2\n",
       "  A005      1.400000    1.200000  1.300000      2"
      ]
     },
     "execution_count": 18,
     "metadata": {},
     "output_type": "execute_result"
    }
   ],
   "source": [
    "meanDf.head()"
   ]
  },
  {
   "cell_type": "markdown",
   "metadata": {},
   "source": [
    "### Save for re-use:"
   ]
  },
  {
   "cell_type": "code",
   "execution_count": 19,
   "metadata": {
    "collapsed": true,
    "slideshow": {
     "slide_type": "skip"
    }
   },
   "outputs": [],
   "source": [
    "meanDf.to_csv('../outputs/meanAFAS.csv')"
   ]
  },
  {
   "cell_type": "markdown",
   "metadata": {
    "slideshow": {
     "slide_type": "skip"
    }
   },
   "source": [
    "## Plot of the results"
   ]
  },
  {
   "cell_type": "code",
   "execution_count": 20,
   "metadata": {
    "collapsed": false,
    "slideshow": {
     "slide_type": "skip"
    }
   },
   "outputs": [
    {
     "data": {
      "image/png": "[encoded data removed]",
      "text/plain": [
       "<matplotlib.figure.Figure at 0x7fcc2c1a0ad0>"
      ]
     },
     "metadata": {},
     "output_type": "display_data"
    }
   ],
   "source": [
    "sns.palplot(myPal)"
   ]
  },
  {
   "cell_type": "code",
   "execution_count": 21,
   "metadata": {
    "collapsed": false
   },
   "outputs": [],
   "source": [
    "sortDf = meanDf.sort_values('group')"
   ]
  },
  {
   "cell_type": "code",
   "execution_count": 22,
   "metadata": {
    "collapsed": false,
    "scrolled": true
   },
   "outputs": [
    {
     "data": {
      "text/html": [
       "<div>\n",
       "<table border=\"1\" class=\"dataframe\">\n",
       "  <thead>\n",
       "    <tr style=\"text-align: right;\">\n",
       "      <th></th>\n",
       "      <th></th>\n",
       "      <th>Facilitative</th>\n",
       "      <th>Appetitive</th>\n",
       "      <th>Overall</th>\n",
       "      <th>group</th>\n",
       "    </tr>\n",
       "    <tr>\n",
       "      <th></th>\n",
       "      <th>id</th>\n",
       "      <th></th>\n",
       "      <th></th>\n",
       "      <th></th>\n",
       "      <th></th>\n",
       "    </tr>\n",
       "  </thead>\n",
       "  <tbody>\n",
       "    <tr>\n",
       "      <th rowspan=\"5\" valign=\"top\">A</th>\n",
       "      <th>A014</th>\n",
       "      <td>1.000000</td>\n",
       "      <td>0.533333</td>\n",
       "      <td>0.766667</td>\n",
       "      <td>2</td>\n",
       "    </tr>\n",
       "    <tr>\n",
       "      <th>A015</th>\n",
       "      <td>0.200000</td>\n",
       "      <td>0.066667</td>\n",
       "      <td>0.133333</td>\n",
       "      <td>2</td>\n",
       "    </tr>\n",
       "    <tr>\n",
       "      <th>A016</th>\n",
       "      <td>0.133333</td>\n",
       "      <td>0.200000</td>\n",
       "      <td>0.166667</td>\n",
       "      <td>2</td>\n",
       "    </tr>\n",
       "    <tr>\n",
       "      <th>A010</th>\n",
       "      <td>0.600000</td>\n",
       "      <td>0.200000</td>\n",
       "      <td>0.400000</td>\n",
       "      <td>2</td>\n",
       "    </tr>\n",
       "    <tr>\n",
       "      <th>A001</th>\n",
       "      <td>1.000000</td>\n",
       "      <td>0.266667</td>\n",
       "      <td>0.633333</td>\n",
       "      <td>2</td>\n",
       "    </tr>\n",
       "  </tbody>\n",
       "</table>\n",
       "</div>"
      ],
      "text/plain": [
       "        Facilitative  Appetitive   Overall  group\n",
       "  id                                             \n",
       "A A014      1.000000    0.533333  0.766667      2\n",
       "  A015      0.200000    0.066667  0.133333      2\n",
       "  A016      0.133333    0.200000  0.166667      2\n",
       "  A010      0.600000    0.200000  0.400000      2\n",
       "  A001      1.000000    0.266667  0.633333      2"
      ]
     },
     "execution_count": 22,
     "metadata": {},
     "output_type": "execute_result"
    }
   ],
   "source": [
    "sortDf.tail()"
   ]
  },
  {
   "cell_type": "code",
   "execution_count": 23,
   "metadata": {
    "collapsed": false,
    "scrolled": true
   },
   "outputs": [
    {
     "data": {
      "image/png": "[encoded data removed]",
      "text/plain": [
       "<matplotlib.figure.Figure at 0x7fcc29ab2250>"
      ]
     },
     "metadata": {},
     "output_type": "display_data"
    }
   ],
   "source": [
    "fig = plt.figure(figsize=(15,6))\n",
    "\n",
    "for i,metric in enumerate(meanDf.columns[:-1]):\n",
    "    \n",
    "    ax = fig.add_subplot(int('13'+str(i+1)))\n",
    "\n",
    "    sns.boxplot(x='group',y=metric,data=sortDf,\n",
    "                width=0.4,linewidth=1,color='white',whis=True,notch=True,fliersize=0,ax=ax)\n",
    "\n",
    "    sns.stripplot(x='group', y=metric, data=sortDf,\n",
    "                  jitter=True, edgecolor='white',palette=myPal,size=9,linewidth=1,ax=ax)\n",
    "\n",
    "    ax.axhline(0,color='k',linewidth=1)\n",
    "    ax.set_title(metric)\n",
    "    \n",
    "    ax.set_xticklabels(['Violence\\nOffenders','Child\\nMolesters','General\\nPopulation'],fontsize=15)\n",
    "    #ax.set_xticks(range(3),['Violence\\nOffenders','Child\\nMolesters','General\\nPopulation'])\n",
    "    ax.set_xlabel('')\n",
    "    if i ==  0: \n",
    "        ax.set_ylabel('Mean Score (0-4 scale)')\n",
    "    else:\n",
    "        ax.set_ylabel('')\n",
    "    ax.set_ylim(-0.2,4)\n",
    "    sns.despine()\n",
    "    \n",
    "plt.suptitle('AFAS Scores',fontsize=20, position=(0.51,1.1))\n",
    "# save to file\n",
    "plt.savefig('../figures/afasFig.png',dpi=300) \n",
    "# show in notebook\n",
    "plt.show()"
   ]
  },
  {
   "cell_type": "markdown",
   "metadata": {},
   "source": [
    "### Inferential statistics"
   ]
  },
  {
   "cell_type": "code",
   "execution_count": 24,
   "metadata": {
    "collapsed": true
   },
   "outputs": [],
   "source": [
    "def makeUTests(df):\n",
    "    bigDf = pd.DataFrame()\n",
    "    d = {}\n",
    "    for comp in [('G','K'),('G','A'),('K','A')]:\n",
    "        for variable in df.columns[:-1]:\n",
    "            group1 = df.ix[comp[0]][variable]\n",
    "            group2 = df.ix[comp[1]][variable]\n",
    "            U,p = stats.mannwhitneyu(group1,group2)\n",
    "            if p<0.05:\n",
    "                thisSig = '*'\n",
    "            else:\n",
    "                thisSig = 'n.s.'\n",
    "            d[variable] = {'U':round(U,2),'p':round(p,3),'sig':thisSig}\n",
    "        thisDf = pd.DataFrame(d)\n",
    "        thisDf = thisDf.reindex_axis(['U','p','sig'], axis=0)\n",
    "        thisDf.index = [ [comp[0]+' > '+comp[1]]*len(thisDf.index),thisDf.index ]\n",
    "\n",
    "        bigDf = pd.concat([bigDf,thisDf])\n",
    "    return bigDf.T"
   ]
  },
  {
   "cell_type": "code",
   "execution_count": 25,
   "metadata": {
    "collapsed": false
   },
   "outputs": [
    {
     "data": {
      "text/html": [
       "<div>\n",
       "<table border=\"1\" class=\"dataframe\">\n",
       "  <thead>\n",
       "    <tr>\n",
       "      <th></th>\n",
       "      <th colspan=\"3\" halign=\"left\">G &gt; K</th>\n",
       "      <th colspan=\"3\" halign=\"left\">G &gt; A</th>\n",
       "      <th colspan=\"3\" halign=\"left\">K &gt; A</th>\n",
       "    </tr>\n",
       "    <tr>\n",
       "      <th></th>\n",
       "      <th>U</th>\n",
       "      <th>p</th>\n",
       "      <th>sig</th>\n",
       "      <th>U</th>\n",
       "      <th>p</th>\n",
       "      <th>sig</th>\n",
       "      <th>U</th>\n",
       "      <th>p</th>\n",
       "      <th>sig</th>\n",
       "    </tr>\n",
       "  </thead>\n",
       "  <tbody>\n",
       "    <tr>\n",
       "      <th>Appetitive</th>\n",
       "      <td>322.5</td>\n",
       "      <td>0.005</td>\n",
       "      <td>*</td>\n",
       "      <td>360</td>\n",
       "      <td>0.02</td>\n",
       "      <td>*</td>\n",
       "      <td>90</td>\n",
       "      <td>0.253</td>\n",
       "      <td>n.s.</td>\n",
       "    </tr>\n",
       "    <tr>\n",
       "      <th>Facilitative</th>\n",
       "      <td>329</td>\n",
       "      <td>0.003</td>\n",
       "      <td>*</td>\n",
       "      <td>357.5</td>\n",
       "      <td>0.024</td>\n",
       "      <td>*</td>\n",
       "      <td>80</td>\n",
       "      <td>0.125</td>\n",
       "      <td>n.s.</td>\n",
       "    </tr>\n",
       "    <tr>\n",
       "      <th>Overall</th>\n",
       "      <td>331</td>\n",
       "      <td>0.002</td>\n",
       "      <td>*</td>\n",
       "      <td>362.5</td>\n",
       "      <td>0.018</td>\n",
       "      <td>*</td>\n",
       "      <td>89</td>\n",
       "      <td>0.241</td>\n",
       "      <td>n.s.</td>\n",
       "    </tr>\n",
       "  </tbody>\n",
       "</table>\n",
       "</div>"
      ],
      "text/plain": [
       "              G > K             G > A            K > A             \n",
       "                  U      p sig      U      p sig     U      p   sig\n",
       "Appetitive    322.5  0.005   *    360   0.02   *    90  0.253  n.s.\n",
       "Facilitative    329  0.003   *  357.5  0.024   *    80  0.125  n.s.\n",
       "Overall         331  0.002   *  362.5  0.018   *    89  0.241  n.s."
      ]
     },
     "execution_count": 25,
     "metadata": {},
     "output_type": "execute_result"
    }
   ],
   "source": [
    "makeUTests(meanDf)"
   ]
  },
  {
   "cell_type": "markdown",
   "metadata": {},
   "source": [
    "### Investigating how the subscales correlate with other"
   ]
  },
  {
   "cell_type": "code",
   "execution_count": 26,
   "metadata": {
    "collapsed": false
   },
   "outputs": [
    {
     "data": {
      "image/png": "[encoded data removed]",
      "text/plain": [
       "<matplotlib.figure.Figure at 0x7fcc29af6990>"
      ]
     },
     "metadata": {},
     "output_type": "display_data"
    }
   ],
   "source": [
    "# Draw a categorical scatterplot to show each observation\n",
    "sns.lmplot(x=\"Facilitative\", y=\"Appetitive\", hue=\"group\", data=sortDf,palette=myPal);"
   ]
  },
  {
   "cell_type": "code",
   "execution_count": 27,
   "metadata": {
    "collapsed": false
   },
   "outputs": [
    {
     "data": {
      "text/html": [
       "<div>\n",
       "<table border=\"1\" class=\"dataframe\">\n",
       "  <thead>\n",
       "    <tr>\n",
       "      <th>group</th>\n",
       "      <th colspan=\"2\" halign=\"left\">0</th>\n",
       "      <th colspan=\"2\" halign=\"left\">1</th>\n",
       "      <th colspan=\"2\" halign=\"left\">2</th>\n",
       "    </tr>\n",
       "    <tr>\n",
       "      <th></th>\n",
       "      <th>mean</th>\n",
       "      <th>std</th>\n",
       "      <th>mean</th>\n",
       "      <th>std</th>\n",
       "      <th>mean</th>\n",
       "      <th>std</th>\n",
       "    </tr>\n",
       "  </thead>\n",
       "  <tbody>\n",
       "    <tr>\n",
       "      <th>Appetitive</th>\n",
       "      <td>0.964444</td>\n",
       "      <td>0.874103</td>\n",
       "      <td>0.252381</td>\n",
       "      <td>0.265611</td>\n",
       "      <td>0.329412</td>\n",
       "      <td>0.288165</td>\n",
       "    </tr>\n",
       "    <tr>\n",
       "      <th>Facilitative</th>\n",
       "      <td>1.264444</td>\n",
       "      <td>0.924504</td>\n",
       "      <td>0.466667</td>\n",
       "      <td>0.361384</td>\n",
       "      <td>0.650980</td>\n",
       "      <td>0.411319</td>\n",
       "    </tr>\n",
       "    <tr>\n",
       "      <th>Overall</th>\n",
       "      <td>1.114444</td>\n",
       "      <td>0.876893</td>\n",
       "      <td>0.359524</td>\n",
       "      <td>0.272744</td>\n",
       "      <td>0.490196</td>\n",
       "      <td>0.329723</td>\n",
       "    </tr>\n",
       "  </tbody>\n",
       "</table>\n",
       "</div>"
      ],
      "text/plain": [
       "group                0                   1                   2          \n",
       "                  mean       std      mean       std      mean       std\n",
       "Appetitive    0.964444  0.874103  0.252381  0.265611  0.329412  0.288165\n",
       "Facilitative  1.264444  0.924504  0.466667  0.361384  0.650980  0.411319\n",
       "Overall       1.114444  0.876893  0.359524  0.272744  0.490196  0.329723"
      ]
     },
     "execution_count": 27,
     "metadata": {},
     "output_type": "execute_result"
    }
   ],
   "source": [
    "meanDf.groupby(\"group\").describe().T[[1,2,9,10,17,18]]"
   ]
  },
  {
   "cell_type": "markdown",
   "metadata": {
    "collapsed": true
   },
   "source": [
    "# PPI-R"
   ]
  },
  {
   "cell_type": "code",
   "execution_count": 40,
   "metadata": {
    "collapsed": false
   },
   "outputs": [],
   "source": [
    "ppiDf = pd.read_csv('../experiment/ppi_r.csv',\n",
    "                   index_col=[0,1])\n",
    "\n",
    "ppiDf['group'] = [ labelCoding[x[0]] for x in ppiDf.index.levels[1]]\n",
    "ppiDf = ppiDf.replace(-99,np.nan)\n",
    "ppiDf = ppiDf.dropna()\n",
    "ppiDf = ppiDf"
   ]
  },
  {
   "cell_type": "code",
   "execution_count": 41,
   "metadata": {
    "collapsed": false
   },
   "outputs": [
    {
     "data": {
      "text/html": [
       "<div>\n",
       "<table border=\"1\" class=\"dataframe\">\n",
       "  <thead>\n",
       "    <tr style=\"text-align: right;\">\n",
       "      <th></th>\n",
       "      <th></th>\n",
       "      <th>Blame externalization</th>\n",
       "      <th>Rebellious nonconformity</th>\n",
       "      <th>Stress immunity</th>\n",
       "      <th>Social influence</th>\n",
       "      <th>Coldheartedness</th>\n",
       "      <th>Machiavellian egocentricity</th>\n",
       "      <th>Carefree nonplanfulness</th>\n",
       "      <th>Fearlessness</th>\n",
       "      <th>Sum PPI-R</th>\n",
       "      <th>Insincere Answers</th>\n",
       "      <th>group</th>\n",
       "    </tr>\n",
       "    <tr>\n",
       "      <th>g</th>\n",
       "      <th>id</th>\n",
       "      <th></th>\n",
       "      <th></th>\n",
       "      <th></th>\n",
       "      <th></th>\n",
       "      <th></th>\n",
       "      <th></th>\n",
       "      <th></th>\n",
       "      <th></th>\n",
       "      <th></th>\n",
       "      <th></th>\n",
       "      <th></th>\n",
       "    </tr>\n",
       "  </thead>\n",
       "  <tbody>\n",
       "    <tr>\n",
       "      <th rowspan=\"5\" valign=\"top\">A</th>\n",
       "      <th>A001</th>\n",
       "      <td>18</td>\n",
       "      <td>57</td>\n",
       "      <td>46</td>\n",
       "      <td>53</td>\n",
       "      <td>27</td>\n",
       "      <td>35</td>\n",
       "      <td>24</td>\n",
       "      <td>25</td>\n",
       "      <td>285</td>\n",
       "      <td>53</td>\n",
       "      <td>2</td>\n",
       "    </tr>\n",
       "    <tr>\n",
       "      <th>A002</th>\n",
       "      <td>22</td>\n",
       "      <td>41</td>\n",
       "      <td>46</td>\n",
       "      <td>46</td>\n",
       "      <td>30</td>\n",
       "      <td>32</td>\n",
       "      <td>30</td>\n",
       "      <td>9</td>\n",
       "      <td>256</td>\n",
       "      <td>43</td>\n",
       "      <td>2</td>\n",
       "    </tr>\n",
       "    <tr>\n",
       "      <th>A003</th>\n",
       "      <td>34</td>\n",
       "      <td>56</td>\n",
       "      <td>37</td>\n",
       "      <td>46</td>\n",
       "      <td>32</td>\n",
       "      <td>31</td>\n",
       "      <td>30</td>\n",
       "      <td>24</td>\n",
       "      <td>290</td>\n",
       "      <td>41</td>\n",
       "      <td>2</td>\n",
       "    </tr>\n",
       "    <tr>\n",
       "      <th>A004</th>\n",
       "      <td>19</td>\n",
       "      <td>46</td>\n",
       "      <td>51</td>\n",
       "      <td>34</td>\n",
       "      <td>38</td>\n",
       "      <td>32</td>\n",
       "      <td>22</td>\n",
       "      <td>18</td>\n",
       "      <td>260</td>\n",
       "      <td>47</td>\n",
       "      <td>2</td>\n",
       "    </tr>\n",
       "    <tr>\n",
       "      <th>A005</th>\n",
       "      <td>45</td>\n",
       "      <td>82</td>\n",
       "      <td>37</td>\n",
       "      <td>37</td>\n",
       "      <td>37</td>\n",
       "      <td>46</td>\n",
       "      <td>38</td>\n",
       "      <td>27</td>\n",
       "      <td>349</td>\n",
       "      <td>31</td>\n",
       "      <td>2</td>\n",
       "    </tr>\n",
       "  </tbody>\n",
       "</table>\n",
       "</div>"
      ],
      "text/plain": [
       "        Blame externalization  Rebellious nonconformity  Stress immunity  \\\n",
       "g id                                                                       \n",
       "A A001                     18                        57               46   \n",
       "  A002                     22                        41               46   \n",
       "  A003                     34                        56               37   \n",
       "  A004                     19                        46               51   \n",
       "  A005                     45                        82               37   \n",
       "\n",
       "        Social influence  Coldheartedness  Machiavellian egocentricity  \\\n",
       "g id                                                                     \n",
       "A A001                53               27                           35   \n",
       "  A002                46               30                           32   \n",
       "  A003                46               32                           31   \n",
       "  A004                34               38                           32   \n",
       "  A005                37               37                           46   \n",
       "\n",
       "        Carefree nonplanfulness  Fearlessness  Sum PPI-R  Insincere Answers  \\\n",
       "g id                                                                          \n",
       "A A001                       24            25        285                 53   \n",
       "  A002                       30             9        256                 43   \n",
       "  A003                       30            24        290                 41   \n",
       "  A004                       22            18        260                 47   \n",
       "  A005                       38            27        349                 31   \n",
       "\n",
       "        group  \n",
       "g id           \n",
       "A A001      2  \n",
       "  A002      2  \n",
       "  A003      2  \n",
       "  A004      2  \n",
       "  A005      2  "
      ]
     },
     "execution_count": 41,
     "metadata": {},
     "output_type": "execute_result"
    }
   ],
   "source": [
    "ppiDf.head()"
   ]
  },
  {
   "cell_type": "code",
   "execution_count": 42,
   "metadata": {
    "collapsed": true
   },
   "outputs": [],
   "source": [
    "ppiDf.to_csv('../outputs/ppiDf.csv')"
   ]
  },
  {
   "cell_type": "code",
   "execution_count": 43,
   "metadata": {
    "collapsed": true
   },
   "outputs": [],
   "source": [
    "def makeBoxPlot(df):\n",
    "    fig = plt.figure(figsize=(15,8))\n",
    "\n",
    "    sortDf = df.sort_values('group')\n",
    "    \n",
    "    myColumns = df.columns[:-1]\n",
    "    numColumns = len(myColumns)\n",
    "    \n",
    "    for i,metric in enumerate(myColumns):\n",
    "\n",
    "        ax = fig.add_subplot(2,numColumns/2.,i+1)\n",
    "\n",
    "        sns.boxplot(x='group',y=metric,data=sortDf,\n",
    "                    width=0.4,linewidth=1,color='white',whis=True,notch=True,fliersize=0,ax=ax)\n",
    "\n",
    "        sns.stripplot(x='group', y=metric, data=sortDf,\n",
    "                      jitter=True, edgecolor='white',palette=myPal,ax=ax)\n",
    "\n",
    "        ax.set_title(metric,fontsize=15)\n",
    "\n",
    "        ax.set_xticklabels(['Violence\\nOffenders','Child\\nMolesters','General\\nPopulation'],fontsize=9)\n",
    "        ax.set_xlabel('')\n",
    "        if i%5 ==  0: \n",
    "            ax.set_ylabel('Sum Score',fontsize=15)\n",
    "        else:\n",
    "            ax.set_ylabel('')\n",
    "        #ax.set_ylim(-0.2,4)\n",
    "        sns.despine()\n",
    "\n",
    "    plt.suptitle('PPI-R Scores',fontsize=20, position=(0.51,1.02))\n",
    "    # save to file\n",
    "    #plt.savefig('../figures/afasFig.png',dpi=300) \n",
    "    # show in notebook\n",
    "    plt.tight_layout()\n",
    "    plt.show()"
   ]
  },
  {
   "cell_type": "code",
   "execution_count": 44,
   "metadata": {
    "collapsed": false
   },
   "outputs": [
    {
     "data": {
      "image/png": "[encoded data removed]",
      "text/plain": [
       "<matplotlib.figure.Figure at 0x7fcc2732f690>"
      ]
     },
     "metadata": {},
     "output_type": "display_data"
    }
   ],
   "source": [
    "makeBoxPlot(ppiDf)"
   ]
  },
  {
   "cell_type": "code",
   "execution_count": 45,
   "metadata": {
    "collapsed": false
   },
   "outputs": [
    {
     "data": {
      "text/html": [
       "<div>\n",
       "<table border=\"1\" class=\"dataframe\">\n",
       "  <thead>\n",
       "    <tr>\n",
       "      <th>group</th>\n",
       "      <th colspan=\"2\" halign=\"left\">0</th>\n",
       "      <th colspan=\"2\" halign=\"left\">1</th>\n",
       "      <th colspan=\"2\" halign=\"left\">2</th>\n",
       "    </tr>\n",
       "    <tr>\n",
       "      <th></th>\n",
       "      <th>mean</th>\n",
       "      <th>std</th>\n",
       "      <th>mean</th>\n",
       "      <th>std</th>\n",
       "      <th>mean</th>\n",
       "      <th>std</th>\n",
       "    </tr>\n",
       "  </thead>\n",
       "  <tbody>\n",
       "    <tr>\n",
       "      <th>Blame externalization</th>\n",
       "      <td>33.172414</td>\n",
       "      <td>9.606802</td>\n",
       "      <td>37.923077</td>\n",
       "      <td>8.836115</td>\n",
       "      <td>26.647059</td>\n",
       "      <td>7.565887</td>\n",
       "    </tr>\n",
       "    <tr>\n",
       "      <th>Carefree nonplanfulness</th>\n",
       "      <td>27.551724</td>\n",
       "      <td>5.520004</td>\n",
       "      <td>31.153846</td>\n",
       "      <td>6.053183</td>\n",
       "      <td>29.647059</td>\n",
       "      <td>6.660904</td>\n",
       "    </tr>\n",
       "    <tr>\n",
       "      <th>Coldheartedness</th>\n",
       "      <td>32.758621</td>\n",
       "      <td>5.841081</td>\n",
       "      <td>29.615385</td>\n",
       "      <td>3.819652</td>\n",
       "      <td>30.529412</td>\n",
       "      <td>5.917323</td>\n",
       "    </tr>\n",
       "    <tr>\n",
       "      <th>Fearlessness</th>\n",
       "      <td>17.827586</td>\n",
       "      <td>5.910457</td>\n",
       "      <td>15.384615</td>\n",
       "      <td>5.058631</td>\n",
       "      <td>18.176471</td>\n",
       "      <td>5.491303</td>\n",
       "    </tr>\n",
       "    <tr>\n",
       "      <th>Insincere Answers</th>\n",
       "      <td>41.758621</td>\n",
       "      <td>6.456753</td>\n",
       "      <td>45.153846</td>\n",
       "      <td>7.278349</td>\n",
       "      <td>41.588235</td>\n",
       "      <td>7.141943</td>\n",
       "    </tr>\n",
       "    <tr>\n",
       "      <th>Machiavellian egocentricity</th>\n",
       "      <td>34.620690</td>\n",
       "      <td>6.008410</td>\n",
       "      <td>33.846154</td>\n",
       "      <td>5.459642</td>\n",
       "      <td>33.647059</td>\n",
       "      <td>4.755801</td>\n",
       "    </tr>\n",
       "    <tr>\n",
       "      <th>Rebellious nonconformity</th>\n",
       "      <td>54.310345</td>\n",
       "      <td>16.444937</td>\n",
       "      <td>50.538462</td>\n",
       "      <td>10.689679</td>\n",
       "      <td>53.000000</td>\n",
       "      <td>13.486104</td>\n",
       "    </tr>\n",
       "    <tr>\n",
       "      <th>Social influence</th>\n",
       "      <td>44.827586</td>\n",
       "      <td>8.888472</td>\n",
       "      <td>34.538462</td>\n",
       "      <td>8.903327</td>\n",
       "      <td>45.588235</td>\n",
       "      <td>5.916701</td>\n",
       "    </tr>\n",
       "    <tr>\n",
       "      <th>Stress immunity</th>\n",
       "      <td>44.517241</td>\n",
       "      <td>9.649651</td>\n",
       "      <td>44.538462</td>\n",
       "      <td>8.809232</td>\n",
       "      <td>43.000000</td>\n",
       "      <td>6.855655</td>\n",
       "    </tr>\n",
       "    <tr>\n",
       "      <th>Sum PPI-R</th>\n",
       "      <td>289.586207</td>\n",
       "      <td>34.983177</td>\n",
       "      <td>277.538462</td>\n",
       "      <td>29.452265</td>\n",
       "      <td>280.235294</td>\n",
       "      <td>27.148963</td>\n",
       "    </tr>\n",
       "  </tbody>\n",
       "</table>\n",
       "</div>"
      ],
      "text/plain": [
       "group                                 0                      1             \\\n",
       "                                   mean        std        mean        std   \n",
       "Blame externalization         33.172414   9.606802   37.923077   8.836115   \n",
       "Carefree nonplanfulness       27.551724   5.520004   31.153846   6.053183   \n",
       "Coldheartedness               32.758621   5.841081   29.615385   3.819652   \n",
       "Fearlessness                  17.827586   5.910457   15.384615   5.058631   \n",
       "Insincere Answers             41.758621   6.456753   45.153846   7.278349   \n",
       "Machiavellian egocentricity   34.620690   6.008410   33.846154   5.459642   \n",
       "Rebellious nonconformity      54.310345  16.444937   50.538462  10.689679   \n",
       "Social influence              44.827586   8.888472   34.538462   8.903327   \n",
       "Stress immunity               44.517241   9.649651   44.538462   8.809232   \n",
       "Sum PPI-R                    289.586207  34.983177  277.538462  29.452265   \n",
       "\n",
       "group                                 2             \n",
       "                                   mean        std  \n",
       "Blame externalization         26.647059   7.565887  \n",
       "Carefree nonplanfulness       29.647059   6.660904  \n",
       "Coldheartedness               30.529412   5.917323  \n",
       "Fearlessness                  18.176471   5.491303  \n",
       "Insincere Answers             41.588235   7.141943  \n",
       "Machiavellian egocentricity   33.647059   4.755801  \n",
       "Rebellious nonconformity      53.000000  13.486104  \n",
       "Social influence              45.588235   5.916701  \n",
       "Stress immunity               43.000000   6.855655  \n",
       "Sum PPI-R                    280.235294  27.148963  "
      ]
     },
     "execution_count": 45,
     "metadata": {},
     "output_type": "execute_result"
    }
   ],
   "source": [
    "ppiDf.groupby(\"group\").describe().T[[1,2,9,10,17,18]]"
   ]
  },
  {
   "cell_type": "markdown",
   "metadata": {},
   "source": [
    "### Inferential statistics"
   ]
  },
  {
   "cell_type": "code",
   "execution_count": 46,
   "metadata": {
    "collapsed": false
   },
   "outputs": [
    {
     "data": {
      "text/html": [
       "<div>\n",
       "<table border=\"1\" class=\"dataframe\">\n",
       "  <thead>\n",
       "    <tr>\n",
       "      <th></th>\n",
       "      <th colspan=\"3\" halign=\"left\">G &gt; K</th>\n",
       "      <th colspan=\"3\" halign=\"left\">G &gt; A</th>\n",
       "      <th colspan=\"3\" halign=\"left\">K &gt; A</th>\n",
       "    </tr>\n",
       "    <tr>\n",
       "      <th></th>\n",
       "      <th>U</th>\n",
       "      <th>p</th>\n",
       "      <th>sig</th>\n",
       "      <th>U</th>\n",
       "      <th>p</th>\n",
       "      <th>sig</th>\n",
       "      <th>U</th>\n",
       "      <th>p</th>\n",
       "      <th>sig</th>\n",
       "    </tr>\n",
       "  </thead>\n",
       "  <tbody>\n",
       "    <tr>\n",
       "      <th>Blame externalization</th>\n",
       "      <td>132</td>\n",
       "      <td>0.127</td>\n",
       "      <td>n.s.</td>\n",
       "      <td>349</td>\n",
       "      <td>0.02</td>\n",
       "      <td>*</td>\n",
       "      <td>182.5</td>\n",
       "      <td>0.003</td>\n",
       "      <td>*</td>\n",
       "    </tr>\n",
       "    <tr>\n",
       "      <th>Carefree nonplanfulness</th>\n",
       "      <td>120</td>\n",
       "      <td>0.064</td>\n",
       "      <td>n.s.</td>\n",
       "      <td>195.5</td>\n",
       "      <td>0.249</td>\n",
       "      <td>n.s.</td>\n",
       "      <td>124.5</td>\n",
       "      <td>0.571</td>\n",
       "      <td>n.s.</td>\n",
       "    </tr>\n",
       "    <tr>\n",
       "      <th>Coldheartedness</th>\n",
       "      <td>254.5</td>\n",
       "      <td>0.074</td>\n",
       "      <td>n.s.</td>\n",
       "      <td>284.5</td>\n",
       "      <td>0.392</td>\n",
       "      <td>n.s.</td>\n",
       "      <td>94</td>\n",
       "      <td>0.501</td>\n",
       "      <td>n.s.</td>\n",
       "    </tr>\n",
       "    <tr>\n",
       "      <th>Fearlessness</th>\n",
       "      <td>241</td>\n",
       "      <td>0.156</td>\n",
       "      <td>n.s.</td>\n",
       "      <td>246.5</td>\n",
       "      <td>0.991</td>\n",
       "      <td>n.s.</td>\n",
       "      <td>78.5</td>\n",
       "      <td>0.185</td>\n",
       "      <td>n.s.</td>\n",
       "    </tr>\n",
       "    <tr>\n",
       "      <th>Insincere Answers</th>\n",
       "      <td>121.5</td>\n",
       "      <td>0.07</td>\n",
       "      <td>n.s.</td>\n",
       "      <td>249</td>\n",
       "      <td>0.964</td>\n",
       "      <td>n.s.</td>\n",
       "      <td>145.5</td>\n",
       "      <td>0.148</td>\n",
       "      <td>n.s.</td>\n",
       "    </tr>\n",
       "    <tr>\n",
       "      <th>Machiavellian egocentricity</th>\n",
       "      <td>193</td>\n",
       "      <td>0.913</td>\n",
       "      <td>n.s.</td>\n",
       "      <td>272</td>\n",
       "      <td>0.568</td>\n",
       "      <td>n.s.</td>\n",
       "      <td>121</td>\n",
       "      <td>0.674</td>\n",
       "      <td>n.s.</td>\n",
       "    </tr>\n",
       "    <tr>\n",
       "      <th>Rebellious nonconformity</th>\n",
       "      <td>203</td>\n",
       "      <td>0.703</td>\n",
       "      <td>n.s.</td>\n",
       "      <td>237.5</td>\n",
       "      <td>0.847</td>\n",
       "      <td>n.s.</td>\n",
       "      <td>102</td>\n",
       "      <td>0.737</td>\n",
       "      <td>n.s.</td>\n",
       "    </tr>\n",
       "    <tr>\n",
       "      <th>Social influence</th>\n",
       "      <td>294</td>\n",
       "      <td>0.004</td>\n",
       "      <td>*</td>\n",
       "      <td>220</td>\n",
       "      <td>0.553</td>\n",
       "      <td>n.s.</td>\n",
       "      <td>34</td>\n",
       "      <td>0.001</td>\n",
       "      <td>*</td>\n",
       "    </tr>\n",
       "    <tr>\n",
       "      <th>Stress immunity</th>\n",
       "      <td>212</td>\n",
       "      <td>0.531</td>\n",
       "      <td>n.s.</td>\n",
       "      <td>285.5</td>\n",
       "      <td>0.38</td>\n",
       "      <td>n.s.</td>\n",
       "      <td>117</td>\n",
       "      <td>0.801</td>\n",
       "      <td>n.s.</td>\n",
       "    </tr>\n",
       "    <tr>\n",
       "      <th>Sum PPI-R</th>\n",
       "      <td>219</td>\n",
       "      <td>0.414</td>\n",
       "      <td>n.s.</td>\n",
       "      <td>289.5</td>\n",
       "      <td>0.333</td>\n",
       "      <td>n.s.</td>\n",
       "      <td>108</td>\n",
       "      <td>0.933</td>\n",
       "      <td>n.s.</td>\n",
       "    </tr>\n",
       "  </tbody>\n",
       "</table>\n",
       "</div>"
      ],
      "text/plain": [
       "                             G > K               G > A               K > A  \\\n",
       "                                 U      p   sig      U      p   sig      U   \n",
       "Blame externalization          132  0.127  n.s.    349   0.02     *  182.5   \n",
       "Carefree nonplanfulness        120  0.064  n.s.  195.5  0.249  n.s.  124.5   \n",
       "Coldheartedness              254.5  0.074  n.s.  284.5  0.392  n.s.     94   \n",
       "Fearlessness                   241  0.156  n.s.  246.5  0.991  n.s.   78.5   \n",
       "Insincere Answers            121.5   0.07  n.s.    249  0.964  n.s.  145.5   \n",
       "Machiavellian egocentricity    193  0.913  n.s.    272  0.568  n.s.    121   \n",
       "Rebellious nonconformity       203  0.703  n.s.  237.5  0.847  n.s.    102   \n",
       "Social influence               294  0.004     *    220  0.553  n.s.     34   \n",
       "Stress immunity                212  0.531  n.s.  285.5   0.38  n.s.    117   \n",
       "Sum PPI-R                      219  0.414  n.s.  289.5  0.333  n.s.    108   \n",
       "\n",
       "                                          \n",
       "                                 p   sig  \n",
       "Blame externalization        0.003     *  \n",
       "Carefree nonplanfulness      0.571  n.s.  \n",
       "Coldheartedness              0.501  n.s.  \n",
       "Fearlessness                 0.185  n.s.  \n",
       "Insincere Answers            0.148  n.s.  \n",
       "Machiavellian egocentricity  0.674  n.s.  \n",
       "Rebellious nonconformity     0.737  n.s.  \n",
       "Social influence             0.001     *  \n",
       "Stress immunity              0.801  n.s.  \n",
       "Sum PPI-R                    0.933  n.s.  "
      ]
     },
     "execution_count": 46,
     "metadata": {},
     "output_type": "execute_result"
    }
   ],
   "source": [
    "makeUTests(ppiDf)"
   ]
  },
  {
   "cell_type": "markdown",
   "metadata": {},
   "source": [
    "# SCID-II"
   ]
  },
  {
   "cell_type": "code",
   "execution_count": 47,
   "metadata": {
    "collapsed": true
   },
   "outputs": [],
   "source": [
    "scidDf = pd.read_csv('../experiment/scid_ii.csv',\n",
    "                   index_col=[0,1])\n",
    "\n",
    "scidDf = scidDf.replace(-99,np.nan)\n",
    "scidDf = scidDf.dropna()\n",
    "scidDf = scidDf[:-1]"
   ]
  },
  {
   "cell_type": "code",
   "execution_count": 48,
   "metadata": {
    "collapsed": true
   },
   "outputs": [],
   "source": [
    "scidDf.to_csv('../outputs/scidDf.csv')"
   ]
  },
  {
   "cell_type": "code",
   "execution_count": 49,
   "metadata": {
    "collapsed": false,
    "scrolled": true
   },
   "outputs": [
    {
     "data": {
      "text/html": [
       "<div>\n",
       "<table border=\"1\" class=\"dataframe\">\n",
       "  <thead>\n",
       "    <tr style=\"text-align: right;\">\n",
       "      <th></th>\n",
       "      <th></th>\n",
       "      <th>Avoidant</th>\n",
       "      <th>Dependent</th>\n",
       "      <th>OCD</th>\n",
       "      <th>Negativistic</th>\n",
       "      <th>Depressive</th>\n",
       "      <th>Paranoid</th>\n",
       "      <th>Schizotypal</th>\n",
       "      <th>Schizoid</th>\n",
       "      <th>Histrionic</th>\n",
       "      <th>Narcissitic</th>\n",
       "      <th>Borderline</th>\n",
       "      <th>Antisocial</th>\n",
       "      <th>group</th>\n",
       "    </tr>\n",
       "    <tr>\n",
       "      <th>g</th>\n",
       "      <th>id</th>\n",
       "      <th></th>\n",
       "      <th></th>\n",
       "      <th></th>\n",
       "      <th></th>\n",
       "      <th></th>\n",
       "      <th></th>\n",
       "      <th></th>\n",
       "      <th></th>\n",
       "      <th></th>\n",
       "      <th></th>\n",
       "      <th></th>\n",
       "      <th></th>\n",
       "      <th></th>\n",
       "    </tr>\n",
       "  </thead>\n",
       "  <tbody>\n",
       "    <tr>\n",
       "      <th rowspan=\"5\" valign=\"top\">K</th>\n",
       "      <th>K010</th>\n",
       "      <td>5</td>\n",
       "      <td>5</td>\n",
       "      <td>7</td>\n",
       "      <td>7</td>\n",
       "      <td>7</td>\n",
       "      <td>8</td>\n",
       "      <td>7</td>\n",
       "      <td>4</td>\n",
       "      <td>0</td>\n",
       "      <td>11</td>\n",
       "      <td>10</td>\n",
       "      <td>7</td>\n",
       "      <td>1</td>\n",
       "    </tr>\n",
       "    <tr>\n",
       "      <th>K011</th>\n",
       "      <td>1</td>\n",
       "      <td>0</td>\n",
       "      <td>3</td>\n",
       "      <td>0</td>\n",
       "      <td>0</td>\n",
       "      <td>1</td>\n",
       "      <td>0</td>\n",
       "      <td>1</td>\n",
       "      <td>0</td>\n",
       "      <td>1</td>\n",
       "      <td>0</td>\n",
       "      <td>0</td>\n",
       "      <td>1</td>\n",
       "    </tr>\n",
       "    <tr>\n",
       "      <th>K012</th>\n",
       "      <td>2</td>\n",
       "      <td>0</td>\n",
       "      <td>2</td>\n",
       "      <td>2</td>\n",
       "      <td>2</td>\n",
       "      <td>5</td>\n",
       "      <td>7</td>\n",
       "      <td>1</td>\n",
       "      <td>0</td>\n",
       "      <td>2</td>\n",
       "      <td>3</td>\n",
       "      <td>0</td>\n",
       "      <td>1</td>\n",
       "    </tr>\n",
       "    <tr>\n",
       "      <th>K013</th>\n",
       "      <td>4</td>\n",
       "      <td>6</td>\n",
       "      <td>5</td>\n",
       "      <td>0</td>\n",
       "      <td>3</td>\n",
       "      <td>4</td>\n",
       "      <td>2</td>\n",
       "      <td>2</td>\n",
       "      <td>1</td>\n",
       "      <td>4</td>\n",
       "      <td>0</td>\n",
       "      <td>2</td>\n",
       "      <td>1</td>\n",
       "    </tr>\n",
       "    <tr>\n",
       "      <th>K014</th>\n",
       "      <td>0</td>\n",
       "      <td>2</td>\n",
       "      <td>5</td>\n",
       "      <td>2</td>\n",
       "      <td>2</td>\n",
       "      <td>0</td>\n",
       "      <td>0</td>\n",
       "      <td>0</td>\n",
       "      <td>0</td>\n",
       "      <td>0</td>\n",
       "      <td>0</td>\n",
       "      <td>0</td>\n",
       "      <td>1</td>\n",
       "    </tr>\n",
       "  </tbody>\n",
       "</table>\n",
       "</div>"
      ],
      "text/plain": [
       "        Avoidant  Dependent  OCD  Negativistic  Depressive  Paranoid  \\\n",
       "g id                                                                   \n",
       "K K010         5          5    7             7           7         8   \n",
       "  K011         1          0    3             0           0         1   \n",
       "  K012         2          0    2             2           2         5   \n",
       "  K013         4          6    5             0           3         4   \n",
       "  K014         0          2    5             2           2         0   \n",
       "\n",
       "        Schizotypal  Schizoid  Histrionic  Narcissitic  Borderline  \\\n",
       "g id                                                                 \n",
       "K K010            7         4           0           11          10   \n",
       "  K011            0         1           0            1           0   \n",
       "  K012            7         1           0            2           3   \n",
       "  K013            2         2           1            4           0   \n",
       "  K014            0         0           0            0           0   \n",
       "\n",
       "        Antisocial  group  \n",
       "g id                       \n",
       "K K010           7      1  \n",
       "  K011           0      1  \n",
       "  K012           0      1  \n",
       "  K013           2      1  \n",
       "  K014           0      1  "
      ]
     },
     "execution_count": 49,
     "metadata": {},
     "output_type": "execute_result"
    }
   ],
   "source": [
    "scidDf.tail()"
   ]
  },
  {
   "cell_type": "code",
   "execution_count": 50,
   "metadata": {
    "collapsed": false
   },
   "outputs": [],
   "source": [
    "def makeScidPlot(df):\n",
    "    fig = plt.figure(figsize=(15,9))\n",
    "    sns.set_style('ticks')\n",
    "\n",
    "    sortDf = df.sort_values('group')\n",
    "    \n",
    "    myColumns = df.columns[:-1]\n",
    "    numColumns = len(myColumns)\n",
    "    \n",
    "    for i,metric in enumerate(myColumns):\n",
    "\n",
    "        ax = fig.add_subplot(3,4,i+1)\n",
    "\n",
    "        sns.boxplot(x='group',y=metric,data=sortDf,\n",
    "                    width=0.4,linewidth=1,color='white',whis=True,notch=True,fliersize=0,ax=ax)\n",
    "\n",
    "        sns.stripplot(x='group', y=metric, data=sortDf,\n",
    "                      jitter=True, edgecolor='white',palette=myPal,ax=ax)\n",
    "\n",
    "        ax.set_title(metric)\n",
    "\n",
    "        ax.set_xticklabels(['Violence\\nOffenders','Child\\nMolesters','General\\nPopulation'],fontsize=9)\n",
    "        #ax.set_xticks(range(3),['Violence\\nOffenders','Child\\nMolesters','General\\nPopulation'])\n",
    "        ax.set_xlabel('')\n",
    "        if i%4 ==  0: \n",
    "            ax.set_ylabel('Sum Score',fontsize=15)\n",
    "        else:\n",
    "            ax.set_ylabel('')\n",
    "        #ax.set_ylim(-0.2,4)\n",
    "        sns.despine()\n",
    "    plt.suptitle('SCID-II',fontsize=20, position=(0.51,1.02))\n",
    "    # save to file\n",
    "    #plt.savefig('../figures/afasFig.png',dpi=300) \n",
    "    # show in notebook\n",
    "    plt.tight_layout()\n",
    "    plt.show()"
   ]
  },
  {
   "cell_type": "code",
   "execution_count": 51,
   "metadata": {
    "collapsed": false
   },
   "outputs": [
    {
     "data": {
      "image/png": "[encoded data removed]",
      "text/plain": [
       "<matplotlib.figure.Figure at 0x7fcc27599910>"
      ]
     },
     "metadata": {},
     "output_type": "display_data"
    }
   ],
   "source": [
    "makeScidPlot(scidDf)"
   ]
  },
  {
   "cell_type": "code",
   "execution_count": 52,
   "metadata": {
    "collapsed": false
   },
   "outputs": [
    {
     "data": {
      "text/html": [
       "<div>\n",
       "<table border=\"1\" class=\"dataframe\">\n",
       "  <thead>\n",
       "    <tr>\n",
       "      <th>group</th>\n",
       "      <th colspan=\"2\" halign=\"left\">0</th>\n",
       "      <th colspan=\"2\" halign=\"left\">1</th>\n",
       "      <th colspan=\"2\" halign=\"left\">2</th>\n",
       "    </tr>\n",
       "    <tr>\n",
       "      <th></th>\n",
       "      <th>mean</th>\n",
       "      <th>std</th>\n",
       "      <th>mean</th>\n",
       "      <th>std</th>\n",
       "      <th>mean</th>\n",
       "      <th>std</th>\n",
       "    </tr>\n",
       "  </thead>\n",
       "  <tbody>\n",
       "    <tr>\n",
       "      <th>Antisocial</th>\n",
       "      <td>4.233333</td>\n",
       "      <td>4.190986</td>\n",
       "      <td>2.428571</td>\n",
       "      <td>2.208873</td>\n",
       "      <td>1.823529</td>\n",
       "      <td>2.811479</td>\n",
       "    </tr>\n",
       "    <tr>\n",
       "      <th>Avoidant</th>\n",
       "      <td>1.500000</td>\n",
       "      <td>1.696853</td>\n",
       "      <td>2.357143</td>\n",
       "      <td>1.984833</td>\n",
       "      <td>0.764706</td>\n",
       "      <td>1.091410</td>\n",
       "    </tr>\n",
       "    <tr>\n",
       "      <th>Borderline</th>\n",
       "      <td>3.533333</td>\n",
       "      <td>3.234868</td>\n",
       "      <td>2.214286</td>\n",
       "      <td>2.887069</td>\n",
       "      <td>2.470588</td>\n",
       "      <td>2.648529</td>\n",
       "    </tr>\n",
       "    <tr>\n",
       "      <th>Dependent</th>\n",
       "      <td>1.400000</td>\n",
       "      <td>1.522249</td>\n",
       "      <td>2.142857</td>\n",
       "      <td>1.833750</td>\n",
       "      <td>1.117647</td>\n",
       "      <td>1.053705</td>\n",
       "    </tr>\n",
       "    <tr>\n",
       "      <th>Depressive</th>\n",
       "      <td>1.833333</td>\n",
       "      <td>2.069205</td>\n",
       "      <td>3.071429</td>\n",
       "      <td>2.335818</td>\n",
       "      <td>0.882353</td>\n",
       "      <td>1.536325</td>\n",
       "    </tr>\n",
       "    <tr>\n",
       "      <th>Histrionic</th>\n",
       "      <td>1.600000</td>\n",
       "      <td>1.811838</td>\n",
       "      <td>0.571429</td>\n",
       "      <td>0.755929</td>\n",
       "      <td>1.411765</td>\n",
       "      <td>1.325652</td>\n",
       "    </tr>\n",
       "    <tr>\n",
       "      <th>Narcissitic</th>\n",
       "      <td>4.000000</td>\n",
       "      <td>2.936101</td>\n",
       "      <td>3.071429</td>\n",
       "      <td>3.149219</td>\n",
       "      <td>2.176471</td>\n",
       "      <td>1.776066</td>\n",
       "    </tr>\n",
       "    <tr>\n",
       "      <th>Negativistic</th>\n",
       "      <td>1.566667</td>\n",
       "      <td>1.675036</td>\n",
       "      <td>2.071429</td>\n",
       "      <td>1.899971</td>\n",
       "      <td>1.235294</td>\n",
       "      <td>1.437420</td>\n",
       "    </tr>\n",
       "    <tr>\n",
       "      <th>OCD</th>\n",
       "      <td>3.600000</td>\n",
       "      <td>1.631585</td>\n",
       "      <td>4.428571</td>\n",
       "      <td>1.785165</td>\n",
       "      <td>4.294118</td>\n",
       "      <td>2.114377</td>\n",
       "    </tr>\n",
       "    <tr>\n",
       "      <th>Paranoid</th>\n",
       "      <td>2.566667</td>\n",
       "      <td>2.095699</td>\n",
       "      <td>2.857143</td>\n",
       "      <td>2.567763</td>\n",
       "      <td>1.352941</td>\n",
       "      <td>1.656094</td>\n",
       "    </tr>\n",
       "    <tr>\n",
       "      <th>Schizoid</th>\n",
       "      <td>1.800000</td>\n",
       "      <td>1.423933</td>\n",
       "      <td>2.642857</td>\n",
       "      <td>1.984833</td>\n",
       "      <td>1.588235</td>\n",
       "      <td>1.003670</td>\n",
       "    </tr>\n",
       "    <tr>\n",
       "      <th>Schizotypal</th>\n",
       "      <td>1.233333</td>\n",
       "      <td>0.935261</td>\n",
       "      <td>2.142857</td>\n",
       "      <td>2.381245</td>\n",
       "      <td>1.411765</td>\n",
       "      <td>1.371989</td>\n",
       "    </tr>\n",
       "  </tbody>\n",
       "</table>\n",
       "</div>"
      ],
      "text/plain": [
       "group                0                   1                   2          \n",
       "                  mean       std      mean       std      mean       std\n",
       "Antisocial    4.233333  4.190986  2.428571  2.208873  1.823529  2.811479\n",
       "Avoidant      1.500000  1.696853  2.357143  1.984833  0.764706  1.091410\n",
       "Borderline    3.533333  3.234868  2.214286  2.887069  2.470588  2.648529\n",
       "Dependent     1.400000  1.522249  2.142857  1.833750  1.117647  1.053705\n",
       "Depressive    1.833333  2.069205  3.071429  2.335818  0.882353  1.536325\n",
       "Histrionic    1.600000  1.811838  0.571429  0.755929  1.411765  1.325652\n",
       "Narcissitic   4.000000  2.936101  3.071429  3.149219  2.176471  1.776066\n",
       "Negativistic  1.566667  1.675036  2.071429  1.899971  1.235294  1.437420\n",
       "OCD           3.600000  1.631585  4.428571  1.785165  4.294118  2.114377\n",
       "Paranoid      2.566667  2.095699  2.857143  2.567763  1.352941  1.656094\n",
       "Schizoid      1.800000  1.423933  2.642857  1.984833  1.588235  1.003670\n",
       "Schizotypal   1.233333  0.935261  2.142857  2.381245  1.411765  1.371989"
      ]
     },
     "execution_count": 52,
     "metadata": {},
     "output_type": "execute_result"
    }
   ],
   "source": [
    "scidDf.groupby(\"group\").describe().T[[1,2,9,10,17,18]]"
   ]
  },
  {
   "cell_type": "markdown",
   "metadata": {},
   "source": [
    "### inferential statistics"
   ]
  },
  {
   "cell_type": "code",
   "execution_count": 53,
   "metadata": {
    "collapsed": false
   },
   "outputs": [
    {
     "data": {
      "text/html": [
       "<div>\n",
       "<table border=\"1\" class=\"dataframe\">\n",
       "  <thead>\n",
       "    <tr>\n",
       "      <th></th>\n",
       "      <th colspan=\"3\" halign=\"left\">G &gt; K</th>\n",
       "      <th colspan=\"3\" halign=\"left\">G &gt; A</th>\n",
       "      <th colspan=\"3\" halign=\"left\">K &gt; A</th>\n",
       "    </tr>\n",
       "    <tr>\n",
       "      <th></th>\n",
       "      <th>U</th>\n",
       "      <th>p</th>\n",
       "      <th>sig</th>\n",
       "      <th>U</th>\n",
       "      <th>p</th>\n",
       "      <th>sig</th>\n",
       "      <th>U</th>\n",
       "      <th>p</th>\n",
       "      <th>sig</th>\n",
       "    </tr>\n",
       "  </thead>\n",
       "  <tbody>\n",
       "    <tr>\n",
       "      <th>Antisocial</th>\n",
       "      <td>250.5</td>\n",
       "      <td>0.308</td>\n",
       "      <td>n.s.</td>\n",
       "      <td>355</td>\n",
       "      <td>0.025</td>\n",
       "      <td>*</td>\n",
       "      <td>147.5</td>\n",
       "      <td>0.252</td>\n",
       "      <td>n.s.</td>\n",
       "    </tr>\n",
       "    <tr>\n",
       "      <th>Avoidant</th>\n",
       "      <td>154</td>\n",
       "      <td>0.151</td>\n",
       "      <td>n.s.</td>\n",
       "      <td>314</td>\n",
       "      <td>0.171</td>\n",
       "      <td>n.s.</td>\n",
       "      <td>177.5</td>\n",
       "      <td>0.016</td>\n",
       "      <td>*</td>\n",
       "    </tr>\n",
       "    <tr>\n",
       "      <th>Borderline</th>\n",
       "      <td>273.5</td>\n",
       "      <td>0.108</td>\n",
       "      <td>n.s.</td>\n",
       "      <td>309.5</td>\n",
       "      <td>0.227</td>\n",
       "      <td>n.s.</td>\n",
       "      <td>107.5</td>\n",
       "      <td>0.653</td>\n",
       "      <td>n.s.</td>\n",
       "    </tr>\n",
       "    <tr>\n",
       "      <th>Dependent</th>\n",
       "      <td>155.5</td>\n",
       "      <td>0.15</td>\n",
       "      <td>n.s.</td>\n",
       "      <td>275</td>\n",
       "      <td>0.642</td>\n",
       "      <td>n.s.</td>\n",
       "      <td>159</td>\n",
       "      <td>0.1</td>\n",
       "      <td>n.s.</td>\n",
       "    </tr>\n",
       "    <tr>\n",
       "      <th>Depressive</th>\n",
       "      <td>137</td>\n",
       "      <td>0.063</td>\n",
       "      <td>n.s.</td>\n",
       "      <td>331.5</td>\n",
       "      <td>0.077</td>\n",
       "      <td>n.s.</td>\n",
       "      <td>194</td>\n",
       "      <td>0.002</td>\n",
       "      <td>*</td>\n",
       "    </tr>\n",
       "    <tr>\n",
       "      <th>Histrionic</th>\n",
       "      <td>279</td>\n",
       "      <td>0.069</td>\n",
       "      <td>n.s.</td>\n",
       "      <td>256</td>\n",
       "      <td>0.991</td>\n",
       "      <td>n.s.</td>\n",
       "      <td>76</td>\n",
       "      <td>0.074</td>\n",
       "      <td>n.s.</td>\n",
       "    </tr>\n",
       "    <tr>\n",
       "      <th>Narcissitic</th>\n",
       "      <td>255.5</td>\n",
       "      <td>0.253</td>\n",
       "      <td>n.s.</td>\n",
       "      <td>349.5</td>\n",
       "      <td>0.036</td>\n",
       "      <td>*</td>\n",
       "      <td>132</td>\n",
       "      <td>0.615</td>\n",
       "      <td>n.s.</td>\n",
       "    </tr>\n",
       "    <tr>\n",
       "      <th>Negativistic</th>\n",
       "      <td>169.5</td>\n",
       "      <td>0.3</td>\n",
       "      <td>n.s.</td>\n",
       "      <td>285.5</td>\n",
       "      <td>0.49</td>\n",
       "      <td>n.s.</td>\n",
       "      <td>153.5</td>\n",
       "      <td>0.164</td>\n",
       "      <td>n.s.</td>\n",
       "    </tr>\n",
       "    <tr>\n",
       "      <th>OCD</th>\n",
       "      <td>152.5</td>\n",
       "      <td>0.145</td>\n",
       "      <td>n.s.</td>\n",
       "      <td>195</td>\n",
       "      <td>0.182</td>\n",
       "      <td>n.s.</td>\n",
       "      <td>120</td>\n",
       "      <td>0.984</td>\n",
       "      <td>n.s.</td>\n",
       "    </tr>\n",
       "    <tr>\n",
       "      <th>Paranoid</th>\n",
       "      <td>198.5</td>\n",
       "      <td>0.778</td>\n",
       "      <td>n.s.</td>\n",
       "      <td>348.5</td>\n",
       "      <td>0.035</td>\n",
       "      <td>*</td>\n",
       "      <td>169</td>\n",
       "      <td>0.044</td>\n",
       "      <td>*</td>\n",
       "    </tr>\n",
       "    <tr>\n",
       "      <th>Schizoid</th>\n",
       "      <td>158.5</td>\n",
       "      <td>0.188</td>\n",
       "      <td>n.s.</td>\n",
       "      <td>274</td>\n",
       "      <td>0.669</td>\n",
       "      <td>n.s.</td>\n",
       "      <td>155</td>\n",
       "      <td>0.144</td>\n",
       "      <td>n.s.</td>\n",
       "    </tr>\n",
       "    <tr>\n",
       "      <th>Schizotypal</th>\n",
       "      <td>178.5</td>\n",
       "      <td>0.408</td>\n",
       "      <td>n.s.</td>\n",
       "      <td>246</td>\n",
       "      <td>0.841</td>\n",
       "      <td>n.s.</td>\n",
       "      <td>133.5</td>\n",
       "      <td>0.568</td>\n",
       "      <td>n.s.</td>\n",
       "    </tr>\n",
       "  </tbody>\n",
       "</table>\n",
       "</div>"
      ],
      "text/plain": [
       "              G > K               G > A               K > A             \n",
       "                  U      p   sig      U      p   sig      U      p   sig\n",
       "Antisocial    250.5  0.308  n.s.    355  0.025     *  147.5  0.252  n.s.\n",
       "Avoidant        154  0.151  n.s.    314  0.171  n.s.  177.5  0.016     *\n",
       "Borderline    273.5  0.108  n.s.  309.5  0.227  n.s.  107.5  0.653  n.s.\n",
       "Dependent     155.5   0.15  n.s.    275  0.642  n.s.    159    0.1  n.s.\n",
       "Depressive      137  0.063  n.s.  331.5  0.077  n.s.    194  0.002     *\n",
       "Histrionic      279  0.069  n.s.    256  0.991  n.s.     76  0.074  n.s.\n",
       "Narcissitic   255.5  0.253  n.s.  349.5  0.036     *    132  0.615  n.s.\n",
       "Negativistic  169.5    0.3  n.s.  285.5   0.49  n.s.  153.5  0.164  n.s.\n",
       "OCD           152.5  0.145  n.s.    195  0.182  n.s.    120  0.984  n.s.\n",
       "Paranoid      198.5  0.778  n.s.  348.5  0.035     *    169  0.044     *\n",
       "Schizoid      158.5  0.188  n.s.    274  0.669  n.s.    155  0.144  n.s.\n",
       "Schizotypal   178.5  0.408  n.s.    246  0.841  n.s.  133.5  0.568  n.s."
      ]
     },
     "execution_count": 53,
     "metadata": {},
     "output_type": "execute_result"
    }
   ],
   "source": [
    "makeUTests(scidDf)"
   ]
  }
 ],
 "metadata": {
  "kernelspec": {
   "display_name": "Python 2",
   "language": "python",
   "name": "python2"
  },
  "language_info": {
   "codemirror_mode": {
    "name": "ipython",
    "version": 2
   },
   "file_extension": ".py",
   "mimetype": "text/x-python",
   "name": "python",
   "nbconvert_exporter": "python",
   "pygments_lexer": "ipython2",
   "version": "2.7.11"
  }
 },
 "nbformat": 4,
 "nbformat_minor": 0
}
