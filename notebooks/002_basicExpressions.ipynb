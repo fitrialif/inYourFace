{
 "cells": [
  {
   "cell_type": "markdown",
   "metadata": {},
   "source": [
    "<center><h1>In your face:<br>Biased judgement of fear-anger expressions in violence offenders.</h1></center>\n",
    "\n",
    "# 2. Analysis of Basic Emotion Recognition"
   ]
  },
  {
   "cell_type": "markdown",
   "metadata": {},
   "source": [
    "This is an analysis of a basic emotion recognition paradigm, where 12 faces (6 female, 6 male) were shown to the participants, each displaying all basic expressions (happy, sad, angry, fearful, disgusted, suprised + neutral).  \n",
    "Hence, there are 12 trials per expression and 12\\*7=84 trials in total for each participant."
   ]
  },
  {
   "cell_type": "markdown",
   "metadata": {},
   "source": [
    "### importing modules"
   ]
  },
  {
   "cell_type": "code",
   "execution_count": 1,
   "metadata": {
    "collapsed": false
   },
   "outputs": [],
   "source": [
    "import numpy as np\n",
    "import pandas as pd\n",
    "\n",
    "import os\n",
    "import fnmatch\n",
    "\n",
    "import seaborn as sns\n",
    "import matplotlib.pyplot as plt\n",
    "%matplotlib inline\n",
    "\n",
    "from myBasics import *"
   ]
  },
  {
   "cell_type": "markdown",
   "metadata": {},
   "source": [
    "### get logfiles"
   ]
  },
  {
   "cell_type": "code",
   "execution_count": 2,
   "metadata": {
    "collapsed": true
   },
   "outputs": [],
   "source": [
    "def getLogfile(whichfolder, whichexperiment):\n",
    "\n",
    "    loglist = []\n",
    "    for fileName in os.listdir(whichfolder):\n",
    "        if fnmatch.fnmatch(fileName, whichexperiment):\n",
    "            loglist.append(whichfolder+fileName)\n",
    "    return loglist"
   ]
  },
  {
   "cell_type": "code",
   "execution_count": 3,
   "metadata": {
    "collapsed": false
   },
   "outputs": [],
   "source": [
    "logList = getLogfile('../experiment/data/','*facesParametric*.csv')\n",
    "logList.sort()"
   ]
  },
  {
   "cell_type": "markdown",
   "metadata": {},
   "source": [
    "Example:"
   ]
  },
  {
   "cell_type": "code",
   "execution_count": 4,
   "metadata": {
    "collapsed": false,
    "scrolled": true
   },
   "outputs": [
    {
     "data": {
      "text/plain": [
       "['../experiment/data/A_10_facesParametric_2015_Sep_20_1307.csv',\n",
       " '../experiment/data/A_11_facesParametric_2015_Sep_25_1753.csv',\n",
       " '../experiment/data/A_12_facesParametric_2015_Oct_11_1221.csv',\n",
       " '../experiment/data/A_13_facesParametric_2015_Oct_11_1620.csv',\n",
       " '../experiment/data/A_14_facesParametric_2015_Nov_01_1250.csv']"
      ]
     },
     "execution_count": 4,
     "metadata": {},
     "output_type": "execute_result"
    }
   ],
   "source": [
    "logList[:5]"
   ]
  },
  {
   "cell_type": "markdown",
   "metadata": {},
   "source": [
    "### Extract Responses from logfile"
   ]
  },
  {
   "cell_type": "code",
   "execution_count": 5,
   "metadata": {
    "collapsed": false
   },
   "outputs": [],
   "source": [
    "def getBasicResps(fileName):\n",
    "    df = pd.read_csv(fileName)\n",
    "\n",
    "    ## merge scales into one column\n",
    "    \n",
    "    # convert None to NaN\n",
    "    df = df.replace(r'None', np.nan, regex=True)\n",
    "    df['basicRating1.response'] = df['basicRating1.response'].fillna(df['basicRating2.response']).fillna(df['basicRating3.response']).fillna(df['basicRating4.response'])\n",
    "    df['basicRating1.rt'] = df['basicRating1.rt'].fillna(df['basicRating2.rt']).fillna(df['basicRating3.rt']).fillna(df['basicRating4.rt'])\n",
    "   \n",
    "    # boil down to just the essentials\n",
    "    thisDf = pd.concat([df['img'],\n",
    "                        df['basicRating1.response'],\n",
    "                        df['basicRating1.rt']\n",
    "                       ],axis=1)\n",
    "    \n",
    "    return thisDf[1:85]"
   ]
  },
  {
   "cell_type": "markdown",
   "metadata": {},
   "source": [
    "Example: "
   ]
  },
  {
   "cell_type": "code",
   "execution_count": 6,
   "metadata": {
    "collapsed": false,
    "scrolled": true
   },
   "outputs": [
    {
     "data": {
      "text/html": [
       "<div>\n",
       "<table border=\"1\" class=\"dataframe\">\n",
       "  <thead>\n",
       "    <tr style=\"text-align: right;\">\n",
       "      <th></th>\n",
       "      <th>img</th>\n",
       "      <th>basicRating1.response</th>\n",
       "      <th>basicRating1.rt</th>\n",
       "    </tr>\n",
       "  </thead>\n",
       "  <tbody>\n",
       "    <tr>\n",
       "      <th>1</th>\n",
       "      <td>./basicStim/21M_DI_O.jpg</td>\n",
       "      <td>HAP</td>\n",
       "      <td>18.338</td>\n",
       "    </tr>\n",
       "    <tr>\n",
       "      <th>2</th>\n",
       "      <td>./basicStim/28M_HA_O.jpg</td>\n",
       "      <td>HAP</td>\n",
       "      <td>6.682</td>\n",
       "    </tr>\n",
       "    <tr>\n",
       "      <th>3</th>\n",
       "      <td>./basicStim/23M_NE_C.jpg</td>\n",
       "      <td>ANG</td>\n",
       "      <td>3.406</td>\n",
       "    </tr>\n",
       "    <tr>\n",
       "      <th>4</th>\n",
       "      <td>./basicStim/07F_FE_O.jpg</td>\n",
       "      <td>DIS</td>\n",
       "      <td>2.154</td>\n",
       "    </tr>\n",
       "    <tr>\n",
       "      <th>5</th>\n",
       "      <td>./basicStim/07F_HA_O.jpg</td>\n",
       "      <td>HAP</td>\n",
       "      <td>1.73</td>\n",
       "    </tr>\n",
       "  </tbody>\n",
       "</table>\n",
       "</div>"
      ],
      "text/plain": [
       "                        img basicRating1.response basicRating1.rt\n",
       "1  ./basicStim/21M_DI_O.jpg                   HAP          18.338\n",
       "2  ./basicStim/28M_HA_O.jpg                   HAP           6.682\n",
       "3  ./basicStim/23M_NE_C.jpg                   ANG           3.406\n",
       "4  ./basicStim/07F_FE_O.jpg                   DIS           2.154\n",
       "5  ./basicStim/07F_HA_O.jpg                   HAP            1.73"
      ]
     },
     "execution_count": 6,
     "metadata": {},
     "output_type": "execute_result"
    }
   ],
   "source": [
    "getBasicResps(logList[-1]).head()"
   ]
  },
  {
   "cell_type": "markdown",
   "metadata": {},
   "source": [
    "## Get Conditions from Filenames"
   ]
  },
  {
   "cell_type": "code",
   "execution_count": 7,
   "metadata": {
    "collapsed": false
   },
   "outputs": [],
   "source": [
    "def getConds(df):\n",
    "    \n",
    "    df['conds'] = [entry[entry.find('_')+1:entry.rfind('_')] for entry in df['img'] ]\n",
    "    df = df.sort_values(by='conds')\n",
    "    df.index = [df['conds'],df.index]\n",
    "    \n",
    "    return df"
   ]
  },
  {
   "cell_type": "markdown",
   "metadata": {},
   "source": [
    "Example:"
   ]
  },
  {
   "cell_type": "code",
   "execution_count": 8,
   "metadata": {
    "collapsed": false
   },
   "outputs": [
    {
     "data": {
      "text/html": [
       "<div>\n",
       "<table border=\"1\" class=\"dataframe\">\n",
       "  <thead>\n",
       "    <tr style=\"text-align: right;\">\n",
       "      <th></th>\n",
       "      <th></th>\n",
       "      <th>img</th>\n",
       "      <th>basicRating1.response</th>\n",
       "      <th>basicRating1.rt</th>\n",
       "      <th>conds</th>\n",
       "    </tr>\n",
       "    <tr>\n",
       "      <th>conds</th>\n",
       "      <th></th>\n",
       "      <th></th>\n",
       "      <th></th>\n",
       "      <th></th>\n",
       "      <th></th>\n",
       "    </tr>\n",
       "  </thead>\n",
       "  <tbody>\n",
       "    <tr>\n",
       "      <th rowspan=\"5\" valign=\"top\">AN</th>\n",
       "      <th>64</th>\n",
       "      <td>./basicStim/24M_AN_O.jpg</td>\n",
       "      <td>ANG</td>\n",
       "      <td>2.939</td>\n",
       "      <td>AN</td>\n",
       "    </tr>\n",
       "    <tr>\n",
       "      <th>66</th>\n",
       "      <td>./basicStim/07F_AN_O.jpg</td>\n",
       "      <td>ANG</td>\n",
       "      <td>2.871</td>\n",
       "      <td>AN</td>\n",
       "    </tr>\n",
       "    <tr>\n",
       "      <th>56</th>\n",
       "      <td>./basicStim/34M_AN_O.jpg</td>\n",
       "      <td>ANG</td>\n",
       "      <td>2.016</td>\n",
       "      <td>AN</td>\n",
       "    </tr>\n",
       "    <tr>\n",
       "      <th>69</th>\n",
       "      <td>./basicStim/36M_AN_O.jpg</td>\n",
       "      <td>SUP</td>\n",
       "      <td>2.318</td>\n",
       "      <td>AN</td>\n",
       "    </tr>\n",
       "    <tr>\n",
       "      <th>70</th>\n",
       "      <td>./basicStim/21M_AN_O.jpg</td>\n",
       "      <td>ANG</td>\n",
       "      <td>2.809</td>\n",
       "      <td>AN</td>\n",
       "    </tr>\n",
       "  </tbody>\n",
       "</table>\n",
       "</div>"
      ],
      "text/plain": [
       "                               img basicRating1.response basicRating1.rt conds\n",
       "conds                                                                         \n",
       "AN    64  ./basicStim/24M_AN_O.jpg                   ANG           2.939    AN\n",
       "      66  ./basicStim/07F_AN_O.jpg                   ANG           2.871    AN\n",
       "      56  ./basicStim/34M_AN_O.jpg                   ANG           2.016    AN\n",
       "      69  ./basicStim/36M_AN_O.jpg                   SUP           2.318    AN\n",
       "      70  ./basicStim/21M_AN_O.jpg                   ANG           2.809    AN"
      ]
     },
     "execution_count": 8,
     "metadata": {},
     "output_type": "execute_result"
    }
   ],
   "source": [
    "getConds(getBasicResps(logList[-1])).head()"
   ]
  },
  {
   "cell_type": "markdown",
   "metadata": {},
   "source": [
    "### Evaluate whether response is correct or not (binary)"
   ]
  },
  {
   "cell_type": "code",
   "execution_count": 9,
   "metadata": {
    "collapsed": false,
    "scrolled": true
   },
   "outputs": [],
   "source": [
    "def addEval(df):\n",
    "    \n",
    "    resp = []\n",
    "    for index,entry in enumerate( df['basicRating1.response'] ):\n",
    "        # for each correct response, append a one\n",
    "        if entry=='ANG' and df['conds'][index]=='AN':\n",
    "            resp.append(1)\n",
    "        elif entry=='ANG' and df['conds'][index]=='AN':\n",
    "            resp.append(1)\n",
    "        elif entry=='DIS' and df['conds'][index]=='DI':\n",
    "            resp.append(1)\n",
    "        elif entry=='FEA' and df['conds'][index]=='FE':\n",
    "            resp.append(1)\n",
    "        elif entry=='HAP' and df['conds'][index]=='HA':\n",
    "            resp.append(1)\n",
    "        elif entry=='NTR' and df['conds'][index]=='NE':\n",
    "            resp.append(1)\n",
    "        elif entry=='SAD' and df['conds'][index]=='SA':\n",
    "            resp.append(1)\n",
    "        elif entry=='SUP' and df['conds'][index]=='SP':\n",
    "            resp.append(1)   \n",
    "        # all other responses must be incorrect; we append a zero\n",
    "        else:\n",
    "            resp.append(0)\n",
    "\n",
    "    df['resp'] = resp\n",
    "        \n",
    "    return df"
   ]
  },
  {
   "cell_type": "markdown",
   "metadata": {},
   "source": [
    "Example:"
   ]
  },
  {
   "cell_type": "code",
   "execution_count": 10,
   "metadata": {
    "collapsed": false
   },
   "outputs": [
    {
     "data": {
      "text/html": [
       "<div>\n",
       "<table border=\"1\" class=\"dataframe\">\n",
       "  <thead>\n",
       "    <tr style=\"text-align: right;\">\n",
       "      <th></th>\n",
       "      <th></th>\n",
       "      <th>img</th>\n",
       "      <th>basicRating1.response</th>\n",
       "      <th>basicRating1.rt</th>\n",
       "      <th>conds</th>\n",
       "      <th>resp</th>\n",
       "    </tr>\n",
       "    <tr>\n",
       "      <th>conds</th>\n",
       "      <th></th>\n",
       "      <th></th>\n",
       "      <th></th>\n",
       "      <th></th>\n",
       "      <th></th>\n",
       "      <th></th>\n",
       "    </tr>\n",
       "  </thead>\n",
       "  <tbody>\n",
       "    <tr>\n",
       "      <th rowspan=\"5\" valign=\"top\">AN</th>\n",
       "      <th>64</th>\n",
       "      <td>./basicStim/24M_AN_O.jpg</td>\n",
       "      <td>ANG</td>\n",
       "      <td>2.939</td>\n",
       "      <td>AN</td>\n",
       "      <td>1</td>\n",
       "    </tr>\n",
       "    <tr>\n",
       "      <th>66</th>\n",
       "      <td>./basicStim/07F_AN_O.jpg</td>\n",
       "      <td>ANG</td>\n",
       "      <td>2.871</td>\n",
       "      <td>AN</td>\n",
       "      <td>1</td>\n",
       "    </tr>\n",
       "    <tr>\n",
       "      <th>56</th>\n",
       "      <td>./basicStim/34M_AN_O.jpg</td>\n",
       "      <td>ANG</td>\n",
       "      <td>2.016</td>\n",
       "      <td>AN</td>\n",
       "      <td>1</td>\n",
       "    </tr>\n",
       "    <tr>\n",
       "      <th>69</th>\n",
       "      <td>./basicStim/36M_AN_O.jpg</td>\n",
       "      <td>SUP</td>\n",
       "      <td>2.318</td>\n",
       "      <td>AN</td>\n",
       "      <td>0</td>\n",
       "    </tr>\n",
       "    <tr>\n",
       "      <th>70</th>\n",
       "      <td>./basicStim/21M_AN_O.jpg</td>\n",
       "      <td>ANG</td>\n",
       "      <td>2.809</td>\n",
       "      <td>AN</td>\n",
       "      <td>1</td>\n",
       "    </tr>\n",
       "  </tbody>\n",
       "</table>\n",
       "</div>"
      ],
      "text/plain": [
       "                               img basicRating1.response basicRating1.rt  \\\n",
       "conds                                                                      \n",
       "AN    64  ./basicStim/24M_AN_O.jpg                   ANG           2.939   \n",
       "      66  ./basicStim/07F_AN_O.jpg                   ANG           2.871   \n",
       "      56  ./basicStim/34M_AN_O.jpg                   ANG           2.016   \n",
       "      69  ./basicStim/36M_AN_O.jpg                   SUP           2.318   \n",
       "      70  ./basicStim/21M_AN_O.jpg                   ANG           2.809   \n",
       "\n",
       "         conds  resp  \n",
       "conds                 \n",
       "AN    64    AN     1  \n",
       "      66    AN     1  \n",
       "      56    AN     1  \n",
       "      69    AN     0  \n",
       "      70    AN     1  "
      ]
     },
     "execution_count": 10,
     "metadata": {},
     "output_type": "execute_result"
    }
   ],
   "source": [
    "addEval(getConds(getBasicResps(logList[-1]))).head()"
   ]
  },
  {
   "cell_type": "markdown",
   "metadata": {},
   "source": [
    "### Average over trials"
   ]
  },
  {
   "cell_type": "markdown",
   "metadata": {},
   "source": [
    "Count and average the correct responses. Add a participant number to the index."
   ]
  },
  {
   "cell_type": "code",
   "execution_count": 11,
   "metadata": {
    "collapsed": true
   },
   "outputs": [],
   "source": [
    "def getAvg(df,p):\n",
    "    meanDf = pd.DataFrame([df.ix[cond]['resp'].mean()] for cond in df.index.levels[0])\n",
    "    meanDf['cond'] = [cond for cond in df.index.levels[0]]\n",
    "    meanDf.index = [[p]*len(meanDf.index), meanDf['cond'] ]\n",
    "    meanDf.index.names = ['id','cond']\n",
    "    \n",
    "    return meanDf"
   ]
  },
  {
   "cell_type": "markdown",
   "metadata": {},
   "source": [
    "Example:"
   ]
  },
  {
   "cell_type": "code",
   "execution_count": 12,
   "metadata": {
    "collapsed": false
   },
   "outputs": [
    {
     "data": {
      "text/html": [
       "<div>\n",
       "<table border=\"1\" class=\"dataframe\">\n",
       "  <thead>\n",
       "    <tr style=\"text-align: right;\">\n",
       "      <th></th>\n",
       "      <th></th>\n",
       "      <th>0</th>\n",
       "      <th>cond</th>\n",
       "    </tr>\n",
       "    <tr>\n",
       "      <th>id</th>\n",
       "      <th>cond</th>\n",
       "      <th></th>\n",
       "      <th></th>\n",
       "    </tr>\n",
       "  </thead>\n",
       "  <tbody>\n",
       "    <tr>\n",
       "      <th rowspan=\"5\" valign=\"top\">pXYZ</th>\n",
       "      <th>AN</th>\n",
       "      <td>0.666667</td>\n",
       "      <td>AN</td>\n",
       "    </tr>\n",
       "    <tr>\n",
       "      <th>DI</th>\n",
       "      <td>0.666667</td>\n",
       "      <td>DI</td>\n",
       "    </tr>\n",
       "    <tr>\n",
       "      <th>FE</th>\n",
       "      <td>0.166667</td>\n",
       "      <td>FE</td>\n",
       "    </tr>\n",
       "    <tr>\n",
       "      <th>HA</th>\n",
       "      <td>1.000000</td>\n",
       "      <td>HA</td>\n",
       "    </tr>\n",
       "    <tr>\n",
       "      <th>NE</th>\n",
       "      <td>0.750000</td>\n",
       "      <td>NE</td>\n",
       "    </tr>\n",
       "  </tbody>\n",
       "</table>\n",
       "</div>"
      ],
      "text/plain": [
       "                  0 cond\n",
       "id   cond               \n",
       "pXYZ AN    0.666667   AN\n",
       "     DI    0.666667   DI\n",
       "     FE    0.166667   FE\n",
       "     HA    1.000000   HA\n",
       "     NE    0.750000   NE"
      ]
     },
     "execution_count": 12,
     "metadata": {},
     "output_type": "execute_result"
    }
   ],
   "source": [
    "getAvg(addEval(getConds(getBasicResps(logList[-1]))),'pXYZ').head()"
   ]
  },
  {
   "cell_type": "markdown",
   "metadata": {},
   "source": [
    "### Do all this for a participant"
   ]
  },
  {
   "cell_type": "markdown",
   "metadata": {},
   "source": [
    "Takes all the functions from above and applies them directly to a logfile. Also gets the participant number form the logfile name."
   ]
  },
  {
   "cell_type": "code",
   "execution_count": 13,
   "metadata": {
    "collapsed": false,
    "scrolled": true
   },
   "outputs": [],
   "source": [
    "def makeOne(fileName):\n",
    "    df = getBasicResps(fileName)\n",
    "\n",
    "    condDf = getConds(df)\n",
    "    \n",
    "    respDf = addEval(condDf)\n",
    "    \n",
    "    p = fileName[fileName.find('_')-1:fileName.find('faces')-1]\n",
    "    avgDf = getAvg(respDf,p)\n",
    "    return avgDf"
   ]
  },
  {
   "cell_type": "markdown",
   "metadata": {},
   "source": [
    "Example:"
   ]
  },
  {
   "cell_type": "code",
   "execution_count": 14,
   "metadata": {
    "collapsed": false,
    "scrolled": true
   },
   "outputs": [
    {
     "data": {
      "text/html": [
       "<div>\n",
       "<table border=\"1\" class=\"dataframe\">\n",
       "  <thead>\n",
       "    <tr style=\"text-align: right;\">\n",
       "      <th></th>\n",
       "      <th></th>\n",
       "      <th>0</th>\n",
       "      <th>cond</th>\n",
       "    </tr>\n",
       "    <tr>\n",
       "      <th>id</th>\n",
       "      <th>cond</th>\n",
       "      <th></th>\n",
       "      <th></th>\n",
       "    </tr>\n",
       "  </thead>\n",
       "  <tbody>\n",
       "    <tr>\n",
       "      <th rowspan=\"7\" valign=\"top\">K_9</th>\n",
       "      <th>AN</th>\n",
       "      <td>0.666667</td>\n",
       "      <td>AN</td>\n",
       "    </tr>\n",
       "    <tr>\n",
       "      <th>DI</th>\n",
       "      <td>0.666667</td>\n",
       "      <td>DI</td>\n",
       "    </tr>\n",
       "    <tr>\n",
       "      <th>FE</th>\n",
       "      <td>0.166667</td>\n",
       "      <td>FE</td>\n",
       "    </tr>\n",
       "    <tr>\n",
       "      <th>HA</th>\n",
       "      <td>1.000000</td>\n",
       "      <td>HA</td>\n",
       "    </tr>\n",
       "    <tr>\n",
       "      <th>NE</th>\n",
       "      <td>0.750000</td>\n",
       "      <td>NE</td>\n",
       "    </tr>\n",
       "    <tr>\n",
       "      <th>SA</th>\n",
       "      <td>0.083333</td>\n",
       "      <td>SA</td>\n",
       "    </tr>\n",
       "    <tr>\n",
       "      <th>SP</th>\n",
       "      <td>0.833333</td>\n",
       "      <td>SP</td>\n",
       "    </tr>\n",
       "  </tbody>\n",
       "</table>\n",
       "</div>"
      ],
      "text/plain": [
       "                 0 cond\n",
       "id  cond               \n",
       "K_9 AN    0.666667   AN\n",
       "    DI    0.666667   DI\n",
       "    FE    0.166667   FE\n",
       "    HA    1.000000   HA\n",
       "    NE    0.750000   NE\n",
       "    SA    0.083333   SA\n",
       "    SP    0.833333   SP"
      ]
     },
     "execution_count": 14,
     "metadata": {},
     "output_type": "execute_result"
    }
   ],
   "source": [
    "makeOne(logList[-1])"
   ]
  },
  {
   "cell_type": "markdown",
   "metadata": {},
   "source": [
    "## Do this for whole group"
   ]
  },
  {
   "cell_type": "code",
   "execution_count": 15,
   "metadata": {
    "collapsed": false
   },
   "outputs": [],
   "source": [
    "def makeBig(loglist):\n",
    "    for logfile in loglist:\n",
    "        thisDf = makeOne(logfile)\n",
    "        withinDf = thisDf.drop('cond',1).unstack()\n",
    "        \n",
    "        try:\n",
    "            bigDf = pd.concat([bigDf,withinDf])\n",
    "        except:\n",
    "            bigDf = withinDf\n",
    "    \n",
    "    groups = [a[0] for a in bigDf.index]\n",
    "    \n",
    "    bigDf.index = [groups, bigDf.index ]\n",
    "    bigDf.index.names = ['group','id']\n",
    "    bigDf.columns = bigDf.columns.droplevel()\n",
    "    return bigDf"
   ]
  },
  {
   "cell_type": "markdown",
   "metadata": {},
   "source": [
    "This is the main table for the analyses:"
   ]
  },
  {
   "cell_type": "code",
   "execution_count": 16,
   "metadata": {
    "collapsed": false
   },
   "outputs": [],
   "source": [
    "bigDf = makeBig(logList)"
   ]
  },
  {
   "cell_type": "code",
   "execution_count": 17,
   "metadata": {
    "collapsed": false,
    "scrolled": false
   },
   "outputs": [
    {
     "data": {
      "text/html": [
       "<div>\n",
       "<table border=\"1\" class=\"dataframe\">\n",
       "  <thead>\n",
       "    <tr style=\"text-align: right;\">\n",
       "      <th></th>\n",
       "      <th>cond</th>\n",
       "      <th>AN</th>\n",
       "      <th>DI</th>\n",
       "      <th>FE</th>\n",
       "      <th>HA</th>\n",
       "      <th>NE</th>\n",
       "      <th>SA</th>\n",
       "      <th>SP</th>\n",
       "    </tr>\n",
       "    <tr>\n",
       "      <th>group</th>\n",
       "      <th>id</th>\n",
       "      <th></th>\n",
       "      <th></th>\n",
       "      <th></th>\n",
       "      <th></th>\n",
       "      <th></th>\n",
       "      <th></th>\n",
       "      <th></th>\n",
       "    </tr>\n",
       "  </thead>\n",
       "  <tbody>\n",
       "    <tr>\n",
       "      <th rowspan=\"5\" valign=\"top\">A</th>\n",
       "      <th>A_10</th>\n",
       "      <td>1.000000</td>\n",
       "      <td>0.750000</td>\n",
       "      <td>0.416667</td>\n",
       "      <td>1.000000</td>\n",
       "      <td>0.916667</td>\n",
       "      <td>0.916667</td>\n",
       "      <td>0.500000</td>\n",
       "    </tr>\n",
       "    <tr>\n",
       "      <th>A_11</th>\n",
       "      <td>0.916667</td>\n",
       "      <td>0.916667</td>\n",
       "      <td>0.833333</td>\n",
       "      <td>1.000000</td>\n",
       "      <td>0.666667</td>\n",
       "      <td>0.666667</td>\n",
       "      <td>0.916667</td>\n",
       "    </tr>\n",
       "    <tr>\n",
       "      <th>A_12</th>\n",
       "      <td>0.666667</td>\n",
       "      <td>0.666667</td>\n",
       "      <td>0.083333</td>\n",
       "      <td>1.000000</td>\n",
       "      <td>0.916667</td>\n",
       "      <td>0.750000</td>\n",
       "      <td>0.833333</td>\n",
       "    </tr>\n",
       "    <tr>\n",
       "      <th>A_13</th>\n",
       "      <td>0.833333</td>\n",
       "      <td>0.916667</td>\n",
       "      <td>0.416667</td>\n",
       "      <td>1.000000</td>\n",
       "      <td>0.916667</td>\n",
       "      <td>0.750000</td>\n",
       "      <td>1.000000</td>\n",
       "    </tr>\n",
       "    <tr>\n",
       "      <th>A_14</th>\n",
       "      <td>1.000000</td>\n",
       "      <td>0.833333</td>\n",
       "      <td>0.250000</td>\n",
       "      <td>0.916667</td>\n",
       "      <td>1.000000</td>\n",
       "      <td>0.750000</td>\n",
       "      <td>0.916667</td>\n",
       "    </tr>\n",
       "  </tbody>\n",
       "</table>\n",
       "</div>"
      ],
      "text/plain": [
       "cond              AN        DI        FE        HA        NE        SA  \\\n",
       "group id                                                                 \n",
       "A     A_10  1.000000  0.750000  0.416667  1.000000  0.916667  0.916667   \n",
       "      A_11  0.916667  0.916667  0.833333  1.000000  0.666667  0.666667   \n",
       "      A_12  0.666667  0.666667  0.083333  1.000000  0.916667  0.750000   \n",
       "      A_13  0.833333  0.916667  0.416667  1.000000  0.916667  0.750000   \n",
       "      A_14  1.000000  0.833333  0.250000  0.916667  1.000000  0.750000   \n",
       "\n",
       "cond              SP  \n",
       "group id              \n",
       "A     A_10  0.500000  \n",
       "      A_11  0.916667  \n",
       "      A_12  0.833333  \n",
       "      A_13  1.000000  \n",
       "      A_14  0.916667  "
      ]
     },
     "execution_count": 17,
     "metadata": {},
     "output_type": "execute_result"
    }
   ],
   "source": [
    "bigDf.head()"
   ]
  },
  {
   "cell_type": "markdown",
   "metadata": {},
   "source": [
    "Save as csv for later re-use:"
   ]
  },
  {
   "cell_type": "code",
   "execution_count": 18,
   "metadata": {
    "collapsed": false
   },
   "outputs": [],
   "source": [
    "bigDf.to_csv('../outputs/basicExpressionsCorrect.csv')"
   ]
  },
  {
   "cell_type": "markdown",
   "metadata": {},
   "source": [
    "## Basic Plotting"
   ]
  },
  {
   "cell_type": "code",
   "execution_count": 19,
   "metadata": {
    "collapsed": false,
    "scrolled": true
   },
   "outputs": [],
   "source": [
    "def makeBar(bigDf):\n",
    "    fig = plt.figure(figsize=(12,8))\n",
    "    add = 0\n",
    "    for index,group in enumerate(bigDf.index.levels[0]):\n",
    "\n",
    "        plt.bar(np.arange(0,14,2)+add,\n",
    "                bigDf.ix[group].mean(),\n",
    "                yerr=bigDf.ix[group].std()/np.sqrt(len(bigDf.ix[group]))*1.96,\n",
    "                color=myPal[labelCoding[group]],\n",
    "                ecolor='k',\n",
    "                label=group)\n",
    "\n",
    "        add+=0.5\n",
    "\n",
    "    plt.legend(loc='lower right',bbox_to_anchor=(1.2,0.1))\n",
    "    plt.xticks(np.arange(0,14,2)+1, bigDf.columns )\n",
    "    sns.despine()\n",
    "    plt.show()"
   ]
  },
  {
   "cell_type": "code",
   "execution_count": 20,
   "metadata": {
    "collapsed": false
   },
   "outputs": [
    {
     "data": {
      "image/png": "[encoded data removed]",
      "text/plain": [
       "<matplotlib.figure.Figure at 0x7f0377f7fe50>"
      ]
     },
     "metadata": {},
     "output_type": "display_data"
    }
   ],
   "source": [
    "makeBar(bigDf)"
   ]
  },
  {
   "cell_type": "markdown",
   "metadata": {},
   "source": [
    "## Responses with confusions"
   ]
  },
  {
   "cell_type": "markdown",
   "metadata": {},
   "source": [
    "Extract information from dataFrame in a more systematic way:"
   ]
  },
  {
   "cell_type": "code",
   "execution_count": 21,
   "metadata": {
    "collapsed": false,
    "scrolled": true
   },
   "outputs": [],
   "source": [
    "def recodeResponses(df):\n",
    "    g = []; e = []\n",
    "    for i in df.index:\n",
    "        thisImg = df.ix[i]['img']\n",
    "        thisGender = thisImg[ thisImg.rfind('/')+3 ]\n",
    "        thisEmo = thisImg[ thisImg.find('_')+1 : thisImg.find('_')+3 ]\n",
    "\n",
    "        g.append(thisGender)\n",
    "        e.append(thisEmo)\n",
    "    \n",
    "    df['fgender'] = g\n",
    "    df['emo'] = e\n",
    "\n",
    "    return df "
   ]
  },
  {
   "cell_type": "markdown",
   "metadata": {},
   "source": [
    "Example:"
   ]
  },
  {
   "cell_type": "code",
   "execution_count": 22,
   "metadata": {
    "collapsed": true
   },
   "outputs": [],
   "source": [
    "df = getBasicResps(logList[-1])"
   ]
  },
  {
   "cell_type": "code",
   "execution_count": 23,
   "metadata": {
    "collapsed": false,
    "scrolled": true
   },
   "outputs": [
    {
     "data": {
      "text/html": [
       "<div>\n",
       "<table border=\"1\" class=\"dataframe\">\n",
       "  <thead>\n",
       "    <tr style=\"text-align: right;\">\n",
       "      <th></th>\n",
       "      <th>img</th>\n",
       "      <th>basicRating1.response</th>\n",
       "      <th>basicRating1.rt</th>\n",
       "      <th>fgender</th>\n",
       "      <th>emo</th>\n",
       "    </tr>\n",
       "  </thead>\n",
       "  <tbody>\n",
       "    <tr>\n",
       "      <th>1</th>\n",
       "      <td>./basicStim/21M_DI_O.jpg</td>\n",
       "      <td>HAP</td>\n",
       "      <td>18.338</td>\n",
       "      <td>M</td>\n",
       "      <td>DI</td>\n",
       "    </tr>\n",
       "    <tr>\n",
       "      <th>2</th>\n",
       "      <td>./basicStim/28M_HA_O.jpg</td>\n",
       "      <td>HAP</td>\n",
       "      <td>6.682</td>\n",
       "      <td>M</td>\n",
       "      <td>HA</td>\n",
       "    </tr>\n",
       "    <tr>\n",
       "      <th>3</th>\n",
       "      <td>./basicStim/23M_NE_C.jpg</td>\n",
       "      <td>ANG</td>\n",
       "      <td>3.406</td>\n",
       "      <td>M</td>\n",
       "      <td>NE</td>\n",
       "    </tr>\n",
       "    <tr>\n",
       "      <th>4</th>\n",
       "      <td>./basicStim/07F_FE_O.jpg</td>\n",
       "      <td>DIS</td>\n",
       "      <td>2.154</td>\n",
       "      <td>F</td>\n",
       "      <td>FE</td>\n",
       "    </tr>\n",
       "    <tr>\n",
       "      <th>5</th>\n",
       "      <td>./basicStim/07F_HA_O.jpg</td>\n",
       "      <td>HAP</td>\n",
       "      <td>1.73</td>\n",
       "      <td>F</td>\n",
       "      <td>HA</td>\n",
       "    </tr>\n",
       "  </tbody>\n",
       "</table>\n",
       "</div>"
      ],
      "text/plain": [
       "                        img basicRating1.response basicRating1.rt fgender emo\n",
       "1  ./basicStim/21M_DI_O.jpg                   HAP          18.338       M  DI\n",
       "2  ./basicStim/28M_HA_O.jpg                   HAP           6.682       M  HA\n",
       "3  ./basicStim/23M_NE_C.jpg                   ANG           3.406       M  NE\n",
       "4  ./basicStim/07F_FE_O.jpg                   DIS           2.154       F  FE\n",
       "5  ./basicStim/07F_HA_O.jpg                   HAP            1.73       F  HA"
      ]
     },
     "execution_count": 23,
     "metadata": {},
     "output_type": "execute_result"
    }
   ],
   "source": [
    "recodeResponses(df).head()"
   ]
  },
  {
   "cell_type": "markdown",
   "metadata": {},
   "source": [
    "Get full range of responses to each expression:"
   ]
  },
  {
   "cell_type": "code",
   "execution_count": 24,
   "metadata": {
    "collapsed": false
   },
   "outputs": [],
   "source": [
    "def getAllResponses(df,p):\n",
    "    \n",
    "    d = {}\n",
    "\n",
    "    # prepare dict\n",
    "    for entry in df.index:\n",
    "        d[df.ix[entry]['emo']] = { 'F':{'HAP':0,'SAD':0,'ANG':0,'FEA':0,'DIS':0,'SUP':0,'NTR':0},\n",
    "                                   'M':{'HAP':0,'SAD':0,'ANG':0,'FEA':0,'DIS':0,'SUP':0,'NTR':0}\n",
    "                                 }  \n",
    "    # fill dict\n",
    "    for entry in df.index:\n",
    "        thisResp = df.ix[entry]['basicRating1.response']\n",
    "        thisFace = df.ix[entry]['emo']\n",
    "        thisFGender = df.ix[entry]['fgender']\n",
    "        try:\n",
    "            d[thisFace][thisFGender][thisResp] +=1\n",
    "        except:\n",
    "            pass\n",
    "\n",
    "\n",
    "    bigDf = pd.DataFrame()\n",
    "    for entry in d:\n",
    "        thisDf = pd.DataFrame(d[entry])\n",
    "        thisDf.index = [ [entry]*len(thisDf.index), thisDf.index ]\n",
    "        bigDf = pd.concat([bigDf, thisDf])\n",
    "\n",
    "\n",
    "    bigDf = bigDf.sort_index()\n",
    "    bigDf = bigDf.T\n",
    "    bigDf.index = [[p]*len(bigDf.index), bigDf.index]\n",
    "    bigDf.index.names = ['pNum','fGender']\n",
    "\n",
    "    return bigDf"
   ]
  },
  {
   "cell_type": "markdown",
   "metadata": {},
   "source": [
    "Example:"
   ]
  },
  {
   "cell_type": "code",
   "execution_count": 25,
   "metadata": {
    "collapsed": false,
    "scrolled": true
   },
   "outputs": [
    {
     "data": {
      "text/html": [
       "<div>\n",
       "<table border=\"1\" class=\"dataframe\">\n",
       "  <thead>\n",
       "    <tr>\n",
       "      <th></th>\n",
       "      <th></th>\n",
       "      <th colspan=\"7\" halign=\"left\">AN</th>\n",
       "      <th colspan=\"3\" halign=\"left\">DI</th>\n",
       "      <th>...</th>\n",
       "      <th colspan=\"3\" halign=\"left\">SA</th>\n",
       "      <th colspan=\"7\" halign=\"left\">SP</th>\n",
       "    </tr>\n",
       "    <tr>\n",
       "      <th></th>\n",
       "      <th></th>\n",
       "      <th>ANG</th>\n",
       "      <th>DIS</th>\n",
       "      <th>FEA</th>\n",
       "      <th>HAP</th>\n",
       "      <th>NTR</th>\n",
       "      <th>SAD</th>\n",
       "      <th>SUP</th>\n",
       "      <th>ANG</th>\n",
       "      <th>DIS</th>\n",
       "      <th>FEA</th>\n",
       "      <th>...</th>\n",
       "      <th>NTR</th>\n",
       "      <th>SAD</th>\n",
       "      <th>SUP</th>\n",
       "      <th>ANG</th>\n",
       "      <th>DIS</th>\n",
       "      <th>FEA</th>\n",
       "      <th>HAP</th>\n",
       "      <th>NTR</th>\n",
       "      <th>SAD</th>\n",
       "      <th>SUP</th>\n",
       "    </tr>\n",
       "    <tr>\n",
       "      <th>pNum</th>\n",
       "      <th>fGender</th>\n",
       "      <th></th>\n",
       "      <th></th>\n",
       "      <th></th>\n",
       "      <th></th>\n",
       "      <th></th>\n",
       "      <th></th>\n",
       "      <th></th>\n",
       "      <th></th>\n",
       "      <th></th>\n",
       "      <th></th>\n",
       "      <th></th>\n",
       "      <th></th>\n",
       "      <th></th>\n",
       "      <th></th>\n",
       "      <th></th>\n",
       "      <th></th>\n",
       "      <th></th>\n",
       "      <th></th>\n",
       "      <th></th>\n",
       "      <th></th>\n",
       "      <th></th>\n",
       "    </tr>\n",
       "  </thead>\n",
       "  <tbody>\n",
       "    <tr>\n",
       "      <th rowspan=\"2\" valign=\"top\">pXXX</th>\n",
       "      <th>F</th>\n",
       "      <td>4</td>\n",
       "      <td>1</td>\n",
       "      <td>0</td>\n",
       "      <td>0</td>\n",
       "      <td>0</td>\n",
       "      <td>0</td>\n",
       "      <td>1</td>\n",
       "      <td>1</td>\n",
       "      <td>5</td>\n",
       "      <td>0</td>\n",
       "      <td>...</td>\n",
       "      <td>1</td>\n",
       "      <td>1</td>\n",
       "      <td>2</td>\n",
       "      <td>0</td>\n",
       "      <td>0</td>\n",
       "      <td>0</td>\n",
       "      <td>1</td>\n",
       "      <td>0</td>\n",
       "      <td>0</td>\n",
       "      <td>5</td>\n",
       "    </tr>\n",
       "    <tr>\n",
       "      <th>M</th>\n",
       "      <td>4</td>\n",
       "      <td>1</td>\n",
       "      <td>0</td>\n",
       "      <td>0</td>\n",
       "      <td>0</td>\n",
       "      <td>0</td>\n",
       "      <td>1</td>\n",
       "      <td>0</td>\n",
       "      <td>3</td>\n",
       "      <td>0</td>\n",
       "      <td>...</td>\n",
       "      <td>0</td>\n",
       "      <td>0</td>\n",
       "      <td>2</td>\n",
       "      <td>0</td>\n",
       "      <td>0</td>\n",
       "      <td>0</td>\n",
       "      <td>1</td>\n",
       "      <td>0</td>\n",
       "      <td>0</td>\n",
       "      <td>5</td>\n",
       "    </tr>\n",
       "  </tbody>\n",
       "</table>\n",
       "<p>2 rows × 49 columns</p>\n",
       "</div>"
      ],
      "text/plain": [
       "              AN                          DI         ...  SA          SP      \\\n",
       "             ANG DIS FEA HAP NTR SAD SUP ANG DIS FEA ... NTR SAD SUP ANG DIS   \n",
       "pNum fGender                                         ...                       \n",
       "pXXX F         4   1   0   0   0   0   1   1   5   0 ...   1   1   2   0   0   \n",
       "     M         4   1   0   0   0   0   1   0   3   0 ...   0   0   2   0   0   \n",
       "\n",
       "                                  \n",
       "             FEA HAP NTR SAD SUP  \n",
       "pNum fGender                      \n",
       "pXXX F         0   1   0   0   5  \n",
       "     M         0   1   0   0   5  \n",
       "\n",
       "[2 rows x 49 columns]"
      ]
     },
     "execution_count": 25,
     "metadata": {},
     "output_type": "execute_result"
    }
   ],
   "source": [
    "getAllResponses(df,'pXXX')"
   ]
  },
  {
   "cell_type": "code",
   "execution_count": 26,
   "metadata": {
    "collapsed": false
   },
   "outputs": [
    {
     "data": {
      "text/html": [
       "<div>\n",
       "<table border=\"1\" class=\"dataframe\">\n",
       "  <thead>\n",
       "    <tr>\n",
       "      <th></th>\n",
       "      <th colspan=\"7\" halign=\"left\">F</th>\n",
       "    </tr>\n",
       "    <tr>\n",
       "      <th></th>\n",
       "      <th>ANG</th>\n",
       "      <th>DIS</th>\n",
       "      <th>FEA</th>\n",
       "      <th>HAP</th>\n",
       "      <th>NTR</th>\n",
       "      <th>SAD</th>\n",
       "      <th>SUP</th>\n",
       "    </tr>\n",
       "  </thead>\n",
       "  <tbody>\n",
       "    <tr>\n",
       "      <th>AN</th>\n",
       "      <td>66.666667</td>\n",
       "      <td>16.666667</td>\n",
       "      <td>0.000000</td>\n",
       "      <td>0.000000</td>\n",
       "      <td>0.000000</td>\n",
       "      <td>0.000000</td>\n",
       "      <td>16.666667</td>\n",
       "    </tr>\n",
       "    <tr>\n",
       "      <th>DI</th>\n",
       "      <td>16.666667</td>\n",
       "      <td>83.333333</td>\n",
       "      <td>0.000000</td>\n",
       "      <td>0.000000</td>\n",
       "      <td>0.000000</td>\n",
       "      <td>0.000000</td>\n",
       "      <td>0.000000</td>\n",
       "    </tr>\n",
       "    <tr>\n",
       "      <th>FE</th>\n",
       "      <td>0.000000</td>\n",
       "      <td>33.333333</td>\n",
       "      <td>0.000000</td>\n",
       "      <td>0.000000</td>\n",
       "      <td>0.000000</td>\n",
       "      <td>0.000000</td>\n",
       "      <td>66.666667</td>\n",
       "    </tr>\n",
       "    <tr>\n",
       "      <th>HA</th>\n",
       "      <td>0.000000</td>\n",
       "      <td>0.000000</td>\n",
       "      <td>0.000000</td>\n",
       "      <td>100.000000</td>\n",
       "      <td>0.000000</td>\n",
       "      <td>0.000000</td>\n",
       "      <td>0.000000</td>\n",
       "    </tr>\n",
       "    <tr>\n",
       "      <th>NE</th>\n",
       "      <td>0.000000</td>\n",
       "      <td>0.000000</td>\n",
       "      <td>16.666667</td>\n",
       "      <td>0.000000</td>\n",
       "      <td>66.666667</td>\n",
       "      <td>0.000000</td>\n",
       "      <td>16.666667</td>\n",
       "    </tr>\n",
       "    <tr>\n",
       "      <th>SA</th>\n",
       "      <td>0.000000</td>\n",
       "      <td>33.333333</td>\n",
       "      <td>0.000000</td>\n",
       "      <td>0.000000</td>\n",
       "      <td>16.666667</td>\n",
       "      <td>16.666667</td>\n",
       "      <td>33.333333</td>\n",
       "    </tr>\n",
       "    <tr>\n",
       "      <th>SP</th>\n",
       "      <td>0.000000</td>\n",
       "      <td>0.000000</td>\n",
       "      <td>0.000000</td>\n",
       "      <td>16.666667</td>\n",
       "      <td>0.000000</td>\n",
       "      <td>0.000000</td>\n",
       "      <td>83.333333</td>\n",
       "    </tr>\n",
       "  </tbody>\n",
       "</table>\n",
       "</div>"
      ],
      "text/plain": [
       "            F                                                          \\\n",
       "          ANG        DIS        FEA         HAP        NTR        SAD   \n",
       "AN  66.666667  16.666667   0.000000    0.000000   0.000000   0.000000   \n",
       "DI  16.666667  83.333333   0.000000    0.000000   0.000000   0.000000   \n",
       "FE   0.000000  33.333333   0.000000    0.000000   0.000000   0.000000   \n",
       "HA   0.000000   0.000000   0.000000  100.000000   0.000000   0.000000   \n",
       "NE   0.000000   0.000000  16.666667    0.000000  66.666667   0.000000   \n",
       "SA   0.000000  33.333333   0.000000    0.000000  16.666667  16.666667   \n",
       "SP   0.000000   0.000000   0.000000   16.666667   0.000000   0.000000   \n",
       "\n",
       "               \n",
       "          SUP  \n",
       "AN  16.666667  \n",
       "DI   0.000000  \n",
       "FE  66.666667  \n",
       "HA   0.000000  \n",
       "NE  16.666667  \n",
       "SA  33.333333  \n",
       "SP  83.333333  "
      ]
     },
     "execution_count": 26,
     "metadata": {},
     "output_type": "execute_result"
    }
   ],
   "source": [
    "pd.DataFrame( pd.DataFrame( getAllResponses(df,'pXXX').ix['pXXX'].ix['F'] ).unstack() )/6.*100"
   ]
  },
  {
   "cell_type": "markdown",
   "metadata": {},
   "source": [
    "### Showing full confusion matrix as heatmap"
   ]
  },
  {
   "cell_type": "code",
   "execution_count": 27,
   "metadata": {
    "collapsed": false
   },
   "outputs": [
    {
     "data": {
      "image/png": "[encoded data removed]",
      "text/plain": [
       "<matplotlib.figure.Figure at 0x7f0377f36ad0>"
      ]
     },
     "metadata": {},
     "output_type": "display_data"
    }
   ],
   "source": [
    "fig = plt.figure(figsize=(14,7))\n",
    "for i,fGender in enumerate(['F','M']):\n",
    "    confDf = pd.DataFrame( pd.DataFrame( getAllResponses(df,'pXXX').ix['pXXX'].ix[fGender] ).unstack() )/6.*100\n",
    "    ax = plt.subplot('12'+str(i+1))\n",
    "    sns.heatmap(confDf,square=True);\n",
    "    ax.set_title(fGender)\n",
    "plt.show()"
   ]
  },
  {
   "cell_type": "markdown",
   "metadata": {},
   "source": [
    "### Do this for all participants"
   ]
  },
  {
   "cell_type": "code",
   "execution_count": 28,
   "metadata": {
    "collapsed": false,
    "scrolled": true
   },
   "outputs": [],
   "source": [
    "def confusionDf(loglist):\n",
    "    allRespDf = pd.DataFrame()\n",
    "\n",
    "    for logfile in loglist:\n",
    "        \n",
    "        rawDf = getBasicResps(logfile)\n",
    "        pName = logfile[logfile.rfind('/')+1:logfile.find('_faces')]\n",
    "        thisDf = getAllResponses( recodeResponses(rawDf),pName )\n",
    "\n",
    "        allRespDf = pd.concat([allRespDf,thisDf])\n",
    "    \n",
    "    # some restructuring...\n",
    "    allRespDf = allRespDf.unstack(1)\n",
    "    groupIndex = [ x[0] for x in allRespDf.index ]\n",
    "    allRespDf.index = [ groupIndex,allRespDf.index  ]\n",
    "    allRespDf.columns = allRespDf.columns.swaplevel(0, 2)\n",
    "    allRespDf.sortlevel(0, axis=1, inplace=True)\n",
    "    allRespDf.columns = allRespDf.columns.swaplevel(1, 2)\n",
    "    allRespDf.sortlevel(0, axis=1, inplace=True)\n",
    "    return allRespDf/6. # divide by number of trials in each condition (12 faces)"
   ]
  },
  {
   "cell_type": "code",
   "execution_count": 29,
   "metadata": {
    "collapsed": false
   },
   "outputs": [],
   "source": [
    "confDf = confusionDf(logList)"
   ]
  },
  {
   "cell_type": "markdown",
   "metadata": {},
   "source": [
    "Example:"
   ]
  },
  {
   "cell_type": "code",
   "execution_count": 30,
   "metadata": {
    "collapsed": false,
    "scrolled": true
   },
   "outputs": [
    {
     "data": {
      "text/html": [
       "<div>\n",
       "<table border=\"1\" class=\"dataframe\">\n",
       "  <thead>\n",
       "    <tr>\n",
       "      <th></th>\n",
       "      <th>fGender</th>\n",
       "      <th colspan=\"10\" halign=\"left\">F</th>\n",
       "      <th>...</th>\n",
       "      <th colspan=\"10\" halign=\"left\">M</th>\n",
       "    </tr>\n",
       "    <tr>\n",
       "      <th></th>\n",
       "      <th></th>\n",
       "      <th colspan=\"7\" halign=\"left\">AN</th>\n",
       "      <th colspan=\"3\" halign=\"left\">DI</th>\n",
       "      <th>...</th>\n",
       "      <th colspan=\"3\" halign=\"left\">SA</th>\n",
       "      <th colspan=\"7\" halign=\"left\">SP</th>\n",
       "    </tr>\n",
       "    <tr>\n",
       "      <th></th>\n",
       "      <th></th>\n",
       "      <th>ANG</th>\n",
       "      <th>DIS</th>\n",
       "      <th>FEA</th>\n",
       "      <th>HAP</th>\n",
       "      <th>NTR</th>\n",
       "      <th>SAD</th>\n",
       "      <th>SUP</th>\n",
       "      <th>ANG</th>\n",
       "      <th>DIS</th>\n",
       "      <th>FEA</th>\n",
       "      <th>...</th>\n",
       "      <th>NTR</th>\n",
       "      <th>SAD</th>\n",
       "      <th>SUP</th>\n",
       "      <th>ANG</th>\n",
       "      <th>DIS</th>\n",
       "      <th>FEA</th>\n",
       "      <th>HAP</th>\n",
       "      <th>NTR</th>\n",
       "      <th>SAD</th>\n",
       "      <th>SUP</th>\n",
       "    </tr>\n",
       "    <tr>\n",
       "      <th></th>\n",
       "      <th>pNum</th>\n",
       "      <th></th>\n",
       "      <th></th>\n",
       "      <th></th>\n",
       "      <th></th>\n",
       "      <th></th>\n",
       "      <th></th>\n",
       "      <th></th>\n",
       "      <th></th>\n",
       "      <th></th>\n",
       "      <th></th>\n",
       "      <th></th>\n",
       "      <th></th>\n",
       "      <th></th>\n",
       "      <th></th>\n",
       "      <th></th>\n",
       "      <th></th>\n",
       "      <th></th>\n",
       "      <th></th>\n",
       "      <th></th>\n",
       "      <th></th>\n",
       "      <th></th>\n",
       "    </tr>\n",
       "  </thead>\n",
       "  <tbody>\n",
       "    <tr>\n",
       "      <th rowspan=\"5\" valign=\"top\">A</th>\n",
       "      <th>A_1</th>\n",
       "      <td>1.000000</td>\n",
       "      <td>0</td>\n",
       "      <td>0.000000</td>\n",
       "      <td>0</td>\n",
       "      <td>0</td>\n",
       "      <td>0</td>\n",
       "      <td>0</td>\n",
       "      <td>0.166667</td>\n",
       "      <td>0.833333</td>\n",
       "      <td>0.000000</td>\n",
       "      <td>...</td>\n",
       "      <td>0.000000</td>\n",
       "      <td>0.833333</td>\n",
       "      <td>0.000000</td>\n",
       "      <td>0</td>\n",
       "      <td>0.000000</td>\n",
       "      <td>0.166667</td>\n",
       "      <td>0.000000</td>\n",
       "      <td>0</td>\n",
       "      <td>0</td>\n",
       "      <td>0.833333</td>\n",
       "    </tr>\n",
       "    <tr>\n",
       "      <th>A_10</th>\n",
       "      <td>1.000000</td>\n",
       "      <td>0</td>\n",
       "      <td>0.000000</td>\n",
       "      <td>0</td>\n",
       "      <td>0</td>\n",
       "      <td>0</td>\n",
       "      <td>0</td>\n",
       "      <td>0.000000</td>\n",
       "      <td>0.833333</td>\n",
       "      <td>0.166667</td>\n",
       "      <td>...</td>\n",
       "      <td>0.000000</td>\n",
       "      <td>0.833333</td>\n",
       "      <td>0.000000</td>\n",
       "      <td>0</td>\n",
       "      <td>0.166667</td>\n",
       "      <td>0.333333</td>\n",
       "      <td>0.000000</td>\n",
       "      <td>0</td>\n",
       "      <td>0</td>\n",
       "      <td>0.500000</td>\n",
       "    </tr>\n",
       "    <tr>\n",
       "      <th>A_11</th>\n",
       "      <td>1.000000</td>\n",
       "      <td>0</td>\n",
       "      <td>0.000000</td>\n",
       "      <td>0</td>\n",
       "      <td>0</td>\n",
       "      <td>0</td>\n",
       "      <td>0</td>\n",
       "      <td>0.000000</td>\n",
       "      <td>1.000000</td>\n",
       "      <td>0.000000</td>\n",
       "      <td>...</td>\n",
       "      <td>0.000000</td>\n",
       "      <td>0.666667</td>\n",
       "      <td>0.000000</td>\n",
       "      <td>0</td>\n",
       "      <td>0.000000</td>\n",
       "      <td>0.000000</td>\n",
       "      <td>0.000000</td>\n",
       "      <td>0</td>\n",
       "      <td>0</td>\n",
       "      <td>1.000000</td>\n",
       "    </tr>\n",
       "    <tr>\n",
       "      <th>A_12</th>\n",
       "      <td>0.833333</td>\n",
       "      <td>0</td>\n",
       "      <td>0.166667</td>\n",
       "      <td>0</td>\n",
       "      <td>0</td>\n",
       "      <td>0</td>\n",
       "      <td>0</td>\n",
       "      <td>0.333333</td>\n",
       "      <td>0.666667</td>\n",
       "      <td>0.000000</td>\n",
       "      <td>...</td>\n",
       "      <td>0.000000</td>\n",
       "      <td>0.500000</td>\n",
       "      <td>0.333333</td>\n",
       "      <td>0</td>\n",
       "      <td>0.000000</td>\n",
       "      <td>0.000000</td>\n",
       "      <td>0.166667</td>\n",
       "      <td>0</td>\n",
       "      <td>0</td>\n",
       "      <td>0.833333</td>\n",
       "    </tr>\n",
       "    <tr>\n",
       "      <th>A_13</th>\n",
       "      <td>0.833333</td>\n",
       "      <td>0</td>\n",
       "      <td>0.166667</td>\n",
       "      <td>0</td>\n",
       "      <td>0</td>\n",
       "      <td>0</td>\n",
       "      <td>0</td>\n",
       "      <td>0.000000</td>\n",
       "      <td>1.000000</td>\n",
       "      <td>0.000000</td>\n",
       "      <td>...</td>\n",
       "      <td>0.166667</td>\n",
       "      <td>0.500000</td>\n",
       "      <td>0.000000</td>\n",
       "      <td>0</td>\n",
       "      <td>0.000000</td>\n",
       "      <td>0.000000</td>\n",
       "      <td>0.000000</td>\n",
       "      <td>0</td>\n",
       "      <td>0</td>\n",
       "      <td>1.000000</td>\n",
       "    </tr>\n",
       "  </tbody>\n",
       "</table>\n",
       "<p>5 rows × 98 columns</p>\n",
       "</div>"
      ],
      "text/plain": [
       "fGender         F                                                              \\\n",
       "               AN                                      DI                       \n",
       "              ANG DIS       FEA HAP NTR SAD SUP       ANG       DIS       FEA   \n",
       "  pNum                                                                          \n",
       "A A_1    1.000000   0  0.000000   0   0   0   0  0.166667  0.833333  0.000000   \n",
       "  A_10   1.000000   0  0.000000   0   0   0   0  0.000000  0.833333  0.166667   \n",
       "  A_11   1.000000   0  0.000000   0   0   0   0  0.000000  1.000000  0.000000   \n",
       "  A_12   0.833333   0  0.166667   0   0   0   0  0.333333  0.666667  0.000000   \n",
       "  A_13   0.833333   0  0.166667   0   0   0   0  0.000000  1.000000  0.000000   \n",
       "\n",
       "fGender    ...            M                                              \\\n",
       "           ...           SA                      SP                       \n",
       "           ...          NTR       SAD       SUP ANG       DIS       FEA   \n",
       "  pNum     ...                                                            \n",
       "A A_1      ...     0.000000  0.833333  0.000000   0  0.000000  0.166667   \n",
       "  A_10     ...     0.000000  0.833333  0.000000   0  0.166667  0.333333   \n",
       "  A_11     ...     0.000000  0.666667  0.000000   0  0.000000  0.000000   \n",
       "  A_12     ...     0.000000  0.500000  0.333333   0  0.000000  0.000000   \n",
       "  A_13     ...     0.166667  0.500000  0.000000   0  0.000000  0.000000   \n",
       "\n",
       "fGender                              \n",
       "                                     \n",
       "              HAP NTR SAD       SUP  \n",
       "  pNum                               \n",
       "A A_1    0.000000   0   0  0.833333  \n",
       "  A_10   0.000000   0   0  0.500000  \n",
       "  A_11   0.000000   0   0  1.000000  \n",
       "  A_12   0.166667   0   0  0.833333  \n",
       "  A_13   0.000000   0   0  1.000000  \n",
       "\n",
       "[5 rows x 98 columns]"
      ]
     },
     "execution_count": 30,
     "metadata": {},
     "output_type": "execute_result"
    }
   ],
   "source": [
    "confDf.head()"
   ]
  },
  {
   "cell_type": "markdown",
   "metadata": {},
   "source": [
    "### Split the big plot into one for female, one for male faces"
   ]
  },
  {
   "cell_type": "code",
   "execution_count": 31,
   "metadata": {
    "collapsed": false
   },
   "outputs": [],
   "source": [
    "fConfDf = confDf['F']\n",
    "mConfDf = confDf['M']"
   ]
  },
  {
   "cell_type": "code",
   "execution_count": 32,
   "metadata": {
    "collapsed": false
   },
   "outputs": [
    {
     "data": {
      "text/html": [
       "<div>\n",
       "<table border=\"1\" class=\"dataframe\">\n",
       "  <thead>\n",
       "    <tr>\n",
       "      <th></th>\n",
       "      <th></th>\n",
       "      <th colspan=\"7\" halign=\"left\">AN</th>\n",
       "      <th colspan=\"3\" halign=\"left\">DI</th>\n",
       "      <th>...</th>\n",
       "      <th colspan=\"3\" halign=\"left\">SA</th>\n",
       "      <th colspan=\"7\" halign=\"left\">SP</th>\n",
       "    </tr>\n",
       "    <tr>\n",
       "      <th></th>\n",
       "      <th></th>\n",
       "      <th>ANG</th>\n",
       "      <th>DIS</th>\n",
       "      <th>FEA</th>\n",
       "      <th>HAP</th>\n",
       "      <th>NTR</th>\n",
       "      <th>SAD</th>\n",
       "      <th>SUP</th>\n",
       "      <th>ANG</th>\n",
       "      <th>DIS</th>\n",
       "      <th>FEA</th>\n",
       "      <th>...</th>\n",
       "      <th>NTR</th>\n",
       "      <th>SAD</th>\n",
       "      <th>SUP</th>\n",
       "      <th>ANG</th>\n",
       "      <th>DIS</th>\n",
       "      <th>FEA</th>\n",
       "      <th>HAP</th>\n",
       "      <th>NTR</th>\n",
       "      <th>SAD</th>\n",
       "      <th>SUP</th>\n",
       "    </tr>\n",
       "    <tr>\n",
       "      <th></th>\n",
       "      <th>pNum</th>\n",
       "      <th></th>\n",
       "      <th></th>\n",
       "      <th></th>\n",
       "      <th></th>\n",
       "      <th></th>\n",
       "      <th></th>\n",
       "      <th></th>\n",
       "      <th></th>\n",
       "      <th></th>\n",
       "      <th></th>\n",
       "      <th></th>\n",
       "      <th></th>\n",
       "      <th></th>\n",
       "      <th></th>\n",
       "      <th></th>\n",
       "      <th></th>\n",
       "      <th></th>\n",
       "      <th></th>\n",
       "      <th></th>\n",
       "      <th></th>\n",
       "      <th></th>\n",
       "    </tr>\n",
       "  </thead>\n",
       "  <tbody>\n",
       "    <tr>\n",
       "      <th rowspan=\"5\" valign=\"top\">A</th>\n",
       "      <th>A_1</th>\n",
       "      <td>1.000000</td>\n",
       "      <td>0</td>\n",
       "      <td>0.000000</td>\n",
       "      <td>0</td>\n",
       "      <td>0</td>\n",
       "      <td>0</td>\n",
       "      <td>0</td>\n",
       "      <td>0.166667</td>\n",
       "      <td>0.833333</td>\n",
       "      <td>0.000000</td>\n",
       "      <td>...</td>\n",
       "      <td>0</td>\n",
       "      <td>0.500000</td>\n",
       "      <td>0.166667</td>\n",
       "      <td>0</td>\n",
       "      <td>0</td>\n",
       "      <td>0.166667</td>\n",
       "      <td>0.000000</td>\n",
       "      <td>0</td>\n",
       "      <td>0</td>\n",
       "      <td>0.833333</td>\n",
       "    </tr>\n",
       "    <tr>\n",
       "      <th>A_10</th>\n",
       "      <td>1.000000</td>\n",
       "      <td>0</td>\n",
       "      <td>0.000000</td>\n",
       "      <td>0</td>\n",
       "      <td>0</td>\n",
       "      <td>0</td>\n",
       "      <td>0</td>\n",
       "      <td>0.000000</td>\n",
       "      <td>0.833333</td>\n",
       "      <td>0.166667</td>\n",
       "      <td>...</td>\n",
       "      <td>0</td>\n",
       "      <td>1.000000</td>\n",
       "      <td>0.000000</td>\n",
       "      <td>0</td>\n",
       "      <td>0</td>\n",
       "      <td>0.333333</td>\n",
       "      <td>0.166667</td>\n",
       "      <td>0</td>\n",
       "      <td>0</td>\n",
       "      <td>0.500000</td>\n",
       "    </tr>\n",
       "    <tr>\n",
       "      <th>A_11</th>\n",
       "      <td>1.000000</td>\n",
       "      <td>0</td>\n",
       "      <td>0.000000</td>\n",
       "      <td>0</td>\n",
       "      <td>0</td>\n",
       "      <td>0</td>\n",
       "      <td>0</td>\n",
       "      <td>0.000000</td>\n",
       "      <td>1.000000</td>\n",
       "      <td>0.000000</td>\n",
       "      <td>...</td>\n",
       "      <td>0</td>\n",
       "      <td>0.666667</td>\n",
       "      <td>0.000000</td>\n",
       "      <td>0</td>\n",
       "      <td>0</td>\n",
       "      <td>0.000000</td>\n",
       "      <td>0.166667</td>\n",
       "      <td>0</td>\n",
       "      <td>0</td>\n",
       "      <td>0.833333</td>\n",
       "    </tr>\n",
       "    <tr>\n",
       "      <th>A_12</th>\n",
       "      <td>0.833333</td>\n",
       "      <td>0</td>\n",
       "      <td>0.166667</td>\n",
       "      <td>0</td>\n",
       "      <td>0</td>\n",
       "      <td>0</td>\n",
       "      <td>0</td>\n",
       "      <td>0.333333</td>\n",
       "      <td>0.666667</td>\n",
       "      <td>0.000000</td>\n",
       "      <td>...</td>\n",
       "      <td>0</td>\n",
       "      <td>1.000000</td>\n",
       "      <td>0.000000</td>\n",
       "      <td>0</td>\n",
       "      <td>0</td>\n",
       "      <td>0.000000</td>\n",
       "      <td>0.166667</td>\n",
       "      <td>0</td>\n",
       "      <td>0</td>\n",
       "      <td>0.833333</td>\n",
       "    </tr>\n",
       "    <tr>\n",
       "      <th>A_13</th>\n",
       "      <td>0.833333</td>\n",
       "      <td>0</td>\n",
       "      <td>0.166667</td>\n",
       "      <td>0</td>\n",
       "      <td>0</td>\n",
       "      <td>0</td>\n",
       "      <td>0</td>\n",
       "      <td>0.000000</td>\n",
       "      <td>1.000000</td>\n",
       "      <td>0.000000</td>\n",
       "      <td>...</td>\n",
       "      <td>0</td>\n",
       "      <td>1.000000</td>\n",
       "      <td>0.000000</td>\n",
       "      <td>0</td>\n",
       "      <td>0</td>\n",
       "      <td>0.000000</td>\n",
       "      <td>0.000000</td>\n",
       "      <td>0</td>\n",
       "      <td>0</td>\n",
       "      <td>1.000000</td>\n",
       "    </tr>\n",
       "  </tbody>\n",
       "</table>\n",
       "<p>5 rows × 49 columns</p>\n",
       "</div>"
      ],
      "text/plain": [
       "              AN                                      DI                      \\\n",
       "             ANG DIS       FEA HAP NTR SAD SUP       ANG       DIS       FEA   \n",
       "  pNum                                                                         \n",
       "A A_1   1.000000   0  0.000000   0   0   0   0  0.166667  0.833333  0.000000   \n",
       "  A_10  1.000000   0  0.000000   0   0   0   0  0.000000  0.833333  0.166667   \n",
       "  A_11  1.000000   0  0.000000   0   0   0   0  0.000000  1.000000  0.000000   \n",
       "  A_12  0.833333   0  0.166667   0   0   0   0  0.333333  0.666667  0.000000   \n",
       "  A_13  0.833333   0  0.166667   0   0   0   0  0.000000  1.000000  0.000000   \n",
       "\n",
       "          ...     SA                      SP                                  \\\n",
       "          ...    NTR       SAD       SUP ANG DIS       FEA       HAP NTR SAD   \n",
       "  pNum    ...                                                                  \n",
       "A A_1     ...      0  0.500000  0.166667   0   0  0.166667  0.000000   0   0   \n",
       "  A_10    ...      0  1.000000  0.000000   0   0  0.333333  0.166667   0   0   \n",
       "  A_11    ...      0  0.666667  0.000000   0   0  0.000000  0.166667   0   0   \n",
       "  A_12    ...      0  1.000000  0.000000   0   0  0.000000  0.166667   0   0   \n",
       "  A_13    ...      0  1.000000  0.000000   0   0  0.000000  0.000000   0   0   \n",
       "\n",
       "                  \n",
       "             SUP  \n",
       "  pNum            \n",
       "A A_1   0.833333  \n",
       "  A_10  0.500000  \n",
       "  A_11  0.833333  \n",
       "  A_12  0.833333  \n",
       "  A_13  1.000000  \n",
       "\n",
       "[5 rows x 49 columns]"
      ]
     },
     "execution_count": 32,
     "metadata": {},
     "output_type": "execute_result"
    }
   ],
   "source": [
    "fConfDf.head()"
   ]
  },
  {
   "cell_type": "code",
   "execution_count": 33,
   "metadata": {
    "collapsed": false
   },
   "outputs": [
    {
     "data": {
      "text/html": [
       "<div>\n",
       "<table border=\"1\" class=\"dataframe\">\n",
       "  <thead>\n",
       "    <tr>\n",
       "      <th></th>\n",
       "      <th></th>\n",
       "      <th colspan=\"7\" halign=\"left\">AN</th>\n",
       "      <th colspan=\"3\" halign=\"left\">DI</th>\n",
       "      <th>...</th>\n",
       "      <th colspan=\"3\" halign=\"left\">SA</th>\n",
       "      <th colspan=\"7\" halign=\"left\">SP</th>\n",
       "    </tr>\n",
       "    <tr>\n",
       "      <th></th>\n",
       "      <th></th>\n",
       "      <th>ANG</th>\n",
       "      <th>DIS</th>\n",
       "      <th>FEA</th>\n",
       "      <th>HAP</th>\n",
       "      <th>NTR</th>\n",
       "      <th>SAD</th>\n",
       "      <th>SUP</th>\n",
       "      <th>ANG</th>\n",
       "      <th>DIS</th>\n",
       "      <th>FEA</th>\n",
       "      <th>...</th>\n",
       "      <th>NTR</th>\n",
       "      <th>SAD</th>\n",
       "      <th>SUP</th>\n",
       "      <th>ANG</th>\n",
       "      <th>DIS</th>\n",
       "      <th>FEA</th>\n",
       "      <th>HAP</th>\n",
       "      <th>NTR</th>\n",
       "      <th>SAD</th>\n",
       "      <th>SUP</th>\n",
       "    </tr>\n",
       "    <tr>\n",
       "      <th></th>\n",
       "      <th>pNum</th>\n",
       "      <th></th>\n",
       "      <th></th>\n",
       "      <th></th>\n",
       "      <th></th>\n",
       "      <th></th>\n",
       "      <th></th>\n",
       "      <th></th>\n",
       "      <th></th>\n",
       "      <th></th>\n",
       "      <th></th>\n",
       "      <th></th>\n",
       "      <th></th>\n",
       "      <th></th>\n",
       "      <th></th>\n",
       "      <th></th>\n",
       "      <th></th>\n",
       "      <th></th>\n",
       "      <th></th>\n",
       "      <th></th>\n",
       "      <th></th>\n",
       "      <th></th>\n",
       "    </tr>\n",
       "  </thead>\n",
       "  <tbody>\n",
       "    <tr>\n",
       "      <th rowspan=\"5\" valign=\"top\">A</th>\n",
       "      <th>A_1</th>\n",
       "      <td>1.000000</td>\n",
       "      <td>0.000000</td>\n",
       "      <td>0</td>\n",
       "      <td>0</td>\n",
       "      <td>0</td>\n",
       "      <td>0</td>\n",
       "      <td>0</td>\n",
       "      <td>0.166667</td>\n",
       "      <td>0.833333</td>\n",
       "      <td>0.000000</td>\n",
       "      <td>...</td>\n",
       "      <td>0.000000</td>\n",
       "      <td>0.833333</td>\n",
       "      <td>0.000000</td>\n",
       "      <td>0</td>\n",
       "      <td>0.000000</td>\n",
       "      <td>0.166667</td>\n",
       "      <td>0.000000</td>\n",
       "      <td>0</td>\n",
       "      <td>0</td>\n",
       "      <td>0.833333</td>\n",
       "    </tr>\n",
       "    <tr>\n",
       "      <th>A_10</th>\n",
       "      <td>1.000000</td>\n",
       "      <td>0.000000</td>\n",
       "      <td>0</td>\n",
       "      <td>0</td>\n",
       "      <td>0</td>\n",
       "      <td>0</td>\n",
       "      <td>0</td>\n",
       "      <td>0.000000</td>\n",
       "      <td>0.666667</td>\n",
       "      <td>0.166667</td>\n",
       "      <td>...</td>\n",
       "      <td>0.000000</td>\n",
       "      <td>0.833333</td>\n",
       "      <td>0.000000</td>\n",
       "      <td>0</td>\n",
       "      <td>0.166667</td>\n",
       "      <td>0.333333</td>\n",
       "      <td>0.000000</td>\n",
       "      <td>0</td>\n",
       "      <td>0</td>\n",
       "      <td>0.500000</td>\n",
       "    </tr>\n",
       "    <tr>\n",
       "      <th>A_11</th>\n",
       "      <td>0.833333</td>\n",
       "      <td>0.166667</td>\n",
       "      <td>0</td>\n",
       "      <td>0</td>\n",
       "      <td>0</td>\n",
       "      <td>0</td>\n",
       "      <td>0</td>\n",
       "      <td>0.000000</td>\n",
       "      <td>0.833333</td>\n",
       "      <td>0.000000</td>\n",
       "      <td>...</td>\n",
       "      <td>0.000000</td>\n",
       "      <td>0.666667</td>\n",
       "      <td>0.000000</td>\n",
       "      <td>0</td>\n",
       "      <td>0.000000</td>\n",
       "      <td>0.000000</td>\n",
       "      <td>0.000000</td>\n",
       "      <td>0</td>\n",
       "      <td>0</td>\n",
       "      <td>1.000000</td>\n",
       "    </tr>\n",
       "    <tr>\n",
       "      <th>A_12</th>\n",
       "      <td>0.500000</td>\n",
       "      <td>0.500000</td>\n",
       "      <td>0</td>\n",
       "      <td>0</td>\n",
       "      <td>0</td>\n",
       "      <td>0</td>\n",
       "      <td>0</td>\n",
       "      <td>0.000000</td>\n",
       "      <td>0.666667</td>\n",
       "      <td>0.000000</td>\n",
       "      <td>...</td>\n",
       "      <td>0.000000</td>\n",
       "      <td>0.500000</td>\n",
       "      <td>0.333333</td>\n",
       "      <td>0</td>\n",
       "      <td>0.000000</td>\n",
       "      <td>0.000000</td>\n",
       "      <td>0.166667</td>\n",
       "      <td>0</td>\n",
       "      <td>0</td>\n",
       "      <td>0.833333</td>\n",
       "    </tr>\n",
       "    <tr>\n",
       "      <th>A_13</th>\n",
       "      <td>0.833333</td>\n",
       "      <td>0.166667</td>\n",
       "      <td>0</td>\n",
       "      <td>0</td>\n",
       "      <td>0</td>\n",
       "      <td>0</td>\n",
       "      <td>0</td>\n",
       "      <td>0.000000</td>\n",
       "      <td>0.833333</td>\n",
       "      <td>0.000000</td>\n",
       "      <td>...</td>\n",
       "      <td>0.166667</td>\n",
       "      <td>0.500000</td>\n",
       "      <td>0.000000</td>\n",
       "      <td>0</td>\n",
       "      <td>0.000000</td>\n",
       "      <td>0.000000</td>\n",
       "      <td>0.000000</td>\n",
       "      <td>0</td>\n",
       "      <td>0</td>\n",
       "      <td>1.000000</td>\n",
       "    </tr>\n",
       "  </tbody>\n",
       "</table>\n",
       "<p>5 rows × 49 columns</p>\n",
       "</div>"
      ],
      "text/plain": [
       "              AN                                      DI                      \\\n",
       "             ANG       DIS FEA HAP NTR SAD SUP       ANG       DIS       FEA   \n",
       "  pNum                                                                         \n",
       "A A_1   1.000000  0.000000   0   0   0   0   0  0.166667  0.833333  0.000000   \n",
       "  A_10  1.000000  0.000000   0   0   0   0   0  0.000000  0.666667  0.166667   \n",
       "  A_11  0.833333  0.166667   0   0   0   0   0  0.000000  0.833333  0.000000   \n",
       "  A_12  0.500000  0.500000   0   0   0   0   0  0.000000  0.666667  0.000000   \n",
       "  A_13  0.833333  0.166667   0   0   0   0   0  0.000000  0.833333  0.000000   \n",
       "\n",
       "          ...           SA                      SP                      \\\n",
       "          ...          NTR       SAD       SUP ANG       DIS       FEA   \n",
       "  pNum    ...                                                            \n",
       "A A_1     ...     0.000000  0.833333  0.000000   0  0.000000  0.166667   \n",
       "  A_10    ...     0.000000  0.833333  0.000000   0  0.166667  0.333333   \n",
       "  A_11    ...     0.000000  0.666667  0.000000   0  0.000000  0.000000   \n",
       "  A_12    ...     0.000000  0.500000  0.333333   0  0.000000  0.000000   \n",
       "  A_13    ...     0.166667  0.500000  0.000000   0  0.000000  0.000000   \n",
       "\n",
       "                                    \n",
       "             HAP NTR SAD       SUP  \n",
       "  pNum                              \n",
       "A A_1   0.000000   0   0  0.833333  \n",
       "  A_10  0.000000   0   0  0.500000  \n",
       "  A_11  0.000000   0   0  1.000000  \n",
       "  A_12  0.166667   0   0  0.833333  \n",
       "  A_13  0.000000   0   0  1.000000  \n",
       "\n",
       "[5 rows x 49 columns]"
      ]
     },
     "execution_count": 33,
     "metadata": {},
     "output_type": "execute_result"
    }
   ],
   "source": [
    "mConfDf.head()"
   ]
  },
  {
   "cell_type": "markdown",
   "metadata": {},
   "source": [
    "## Plotting of all responses (incl. confusions)"
   ]
  },
  {
   "cell_type": "code",
   "execution_count": 34,
   "metadata": {
    "collapsed": false
   },
   "outputs": [
    {
     "data": {
      "image/png": "[encoded data removed]",
      "text/plain": [
       "<matplotlib.figure.Figure at 0x7f03759b6150>"
      ]
     },
     "metadata": {},
     "output_type": "display_data"
    }
   ],
   "source": [
    "stackColors = sns.color_palette(\"Set1\", 7)\n",
    "sns.palplot(stackColors)"
   ]
  },
  {
   "cell_type": "code",
   "execution_count": 35,
   "metadata": {
    "collapsed": true
   },
   "outputs": [],
   "source": [
    "#http://stackoverflow.com/a/214657\n",
    "def rgb2hex(rgb):\n",
    "    return '#%02x%02x%02x' % rgb"
   ]
  },
  {
   "cell_type": "code",
   "execution_count": 36,
   "metadata": {
    "collapsed": false
   },
   "outputs": [],
   "source": [
    "def makeConfPlot(confDf,group,count):\n",
    "    \n",
    "    # we have 3 subplots here\n",
    "    ax = plt.subplot(1,3,count)\n",
    "\n",
    "    # order of face expressions is defined by hand here, instead of\n",
    "    # using the columns, so the order is as we wish it to be\n",
    "    faceExpressions = ['HA','NE','SP','AN','DI','SA','FE']\n",
    "    faceAnswers = ['HAP','NTR','SUP','ANG','DIS','SAD','FEA']\n",
    "    \n",
    "    # we loop through all expressions\n",
    "    for i,emo in enumerate( faceExpressions ):\n",
    "        \n",
    "        # since we build a stacked plot, we have to initialize a value that\n",
    "        # tells us where to start. We start at the very bottom, hence 0\n",
    "        sumSoFar = 0\n",
    "        \n",
    "        # we get the values of all conditions, and their names, as defined\n",
    "        # in the index\n",
    "        thisMean = confDf.ix[group][emo].mean()\n",
    "        thisIndex = thisMean.index\n",
    "        \n",
    "        # firstly, we are interested in the correct response, which will be\n",
    "        # always at the bottom of the stack plot and printed in a strong color\n",
    "        \n",
    "        # corrPos is the position of the current expression in the list of all expressions\n",
    "        corrPos = faceExpressions.index(emo)\n",
    "        # and we also get the name of the answer at this position (cave: the order of lists\n",
    "        # must match!)\n",
    "        corrEntry = faceAnswers[corrPos]\n",
    "\n",
    "        # we get the positions of all the other answers\n",
    "        incorrAnswers = faceAnswers[:corrPos]+faceAnswers[corrPos+1:]\n",
    "        \n",
    "        # we get the value of the correct answer\n",
    "        entry = thisMean[corrEntry]\n",
    "        # we get the name of the correct answer\n",
    "        answer = faceAnswers[corrPos]\n",
    "        \n",
    "        # we take the color list and extract the color for the correct position\n",
    "        thisColor = stackColors[corrPos]\n",
    "        thisHex = rgb2hex( (thisColor[0]*255,thisColor[1]*255,thisColor[2]*255) )\n",
    "        # the colors for the remaining 7-1 colors are stored here:\n",
    "        incorrColors = stackColors[:corrPos]+stackColors[corrPos+1:]\n",
    "        \n",
    "            \n",
    "        # this is the first bar we generate, it starts at the bottom (sumSoFar=0) and\n",
    "        # has a strong color (alpha=1)\n",
    "        ax.bar(i,\n",
    "                entry,\n",
    "                bottom=sumSoFar,\n",
    "                color=thisHex,\n",
    "                label=answer,\n",
    "                alpha=1.)      \n",
    "        \n",
    "        # to stack the rest of the bars on top, we update the sum to be\n",
    "        # the value (% correct) of the current condition\n",
    "        sumSoFar = entry\n",
    "        \n",
    "        # we loop through the remaining (incorrect answers)\n",
    "        for j,answer in enumerate(incorrAnswers):\n",
    "            entry = thisMean[answer]\n",
    "\n",
    "            thisColor = incorrColors[j]\n",
    "            thisHex = rgb2hex( (thisColor[0]*255,thisColor[1]*255,thisColor[2]*255) )\n",
    "            \n",
    "            # same thing as above, but without the legend and with transparency\n",
    "            ax.bar(i,\n",
    "                    entry,\n",
    "                    bottom=sumSoFar,\n",
    "                    color=thisHex,\n",
    "                    alpha=0.5\n",
    "                        )           \n",
    "            # for each run of the loop, we update the sumSoFar so we\n",
    "            # always stack each expression at the top\n",
    "            sumSoFar+=entry\n",
    "    \n",
    "    # get rid of figure box\n",
    "    sns.despine()\n",
    "    \n",
    "    # x labels for each plot\n",
    "    ax.set_xlabel('Basic Expression',fontsize=14)\n",
    "    # y labels only for the first plot\n",
    "    if i ==0:\n",
    "        ax.set_ylabel('% of responses')\n",
    "    else:\n",
    "        ax.set_ylabel('')\n",
    "\n",
    "    # axes annotation for all plots\n",
    "    plt.xticks(np.arange(0,7.1,1)+0.4, faceExpressions,fontsize=12)\n",
    "    plt.yticks(np.arange(0,1.01,0.1), [str(a)+'%' for a in  np.arange(0,101,10)],fontsize=14)\n",
    "\n",
    "    ax.set_ylim(0,1)\n",
    "    \n",
    "    # getting the name of each subplot right\n",
    "    groupNames = {'A':'General Population',\n",
    "                  'G':'Violence Offenders',\n",
    "                  'K':'Child Molesters'\n",
    "                 }\n",
    "    ax.set_title(groupNames[group],position=(0.5,1.03) )\n",
    "    \n",
    "    # legend only at the very end (3rd plot)\n",
    "    if count == 3:\n",
    "        plt.legend(loc='best',bbox_to_anchor=[1,1])"
   ]
  },
  {
   "cell_type": "code",
   "execution_count": 37,
   "metadata": {
    "collapsed": true
   },
   "outputs": [],
   "source": [
    "def makeAllConfPlots(confDf):\n",
    "    \n",
    "    # loop through male and female faces\n",
    "    for fGender in confDf.columns.levels[0][::-1]:\n",
    "        \n",
    "        plt.figure(figsize=(16,4))\n",
    "        thisDf = confDf[fGender]\n",
    "        \n",
    "        # loop through participant groups\n",
    "        for i,group in enumerate( ['G','K','A'] ):\n",
    "            makeConfPlot(thisDf,group,i+1)\n",
    "\n",
    "        # each plot gets a title...\n",
    "        titleDict = {'M':'Male Faces','F':'Female Faces'}\n",
    "        plt.suptitle(titleDict[fGender], position=(0.5, 1.1),fontsize=20)\n",
    "        # ...and is saved seperately under a differnt name\n",
    "        plt.savefig('../figures/basicEmoPlot_'+fGender+'.png',\n",
    "                    dpi=300,\n",
    "                    bbox_inches='tight')\n",
    "        # show in notebook\n",
    "        plt.show()    "
   ]
  },
  {
   "cell_type": "code",
   "execution_count": 38,
   "metadata": {
    "collapsed": false
   },
   "outputs": [
    {
     "data": {
      "image/png": "[encoded data removed]",
      "text/plain": [
       "<matplotlib.figure.Figure at 0x7f0375950c90>"
      ]
     },
     "metadata": {},
     "output_type": "display_data"
    },
    {
     "data": {
      "image/png": "[encoded data removed]",
      "text/plain": [
       "<matplotlib.figure.Figure at 0x7f03753dc8d0>"
      ]
     },
     "metadata": {},
     "output_type": "display_data"
    }
   ],
   "source": [
    "makeAllConfPlots(confDf)"
   ]
  },
  {
   "cell_type": "markdown",
   "metadata": {},
   "source": [
    "## Getting a global emo score for each participant"
   ]
  },
  {
   "cell_type": "markdown",
   "metadata": {},
   "source": [
    "This averages all correct responses, so we have one value per participant, which indicates percentage of correct responses overall."
   ]
  },
  {
   "cell_type": "code",
   "execution_count": 39,
   "metadata": {
    "collapsed": false
   },
   "outputs": [
    {
     "data": {
      "text/html": [
       "<div>\n",
       "<table border=\"1\" class=\"dataframe\">\n",
       "  <thead>\n",
       "    <tr style=\"text-align: right;\">\n",
       "      <th></th>\n",
       "      <th>cond</th>\n",
       "      <th>AN</th>\n",
       "      <th>DI</th>\n",
       "      <th>FE</th>\n",
       "      <th>HA</th>\n",
       "      <th>NE</th>\n",
       "      <th>SA</th>\n",
       "      <th>SP</th>\n",
       "    </tr>\n",
       "    <tr>\n",
       "      <th>group</th>\n",
       "      <th>id</th>\n",
       "      <th></th>\n",
       "      <th></th>\n",
       "      <th></th>\n",
       "      <th></th>\n",
       "      <th></th>\n",
       "      <th></th>\n",
       "      <th></th>\n",
       "    </tr>\n",
       "  </thead>\n",
       "  <tbody>\n",
       "    <tr>\n",
       "      <th rowspan=\"5\" valign=\"top\">A</th>\n",
       "      <th>A_10</th>\n",
       "      <td>1.000000</td>\n",
       "      <td>0.750000</td>\n",
       "      <td>0.416667</td>\n",
       "      <td>1.000000</td>\n",
       "      <td>0.916667</td>\n",
       "      <td>0.916667</td>\n",
       "      <td>0.500000</td>\n",
       "    </tr>\n",
       "    <tr>\n",
       "      <th>A_11</th>\n",
       "      <td>0.916667</td>\n",
       "      <td>0.916667</td>\n",
       "      <td>0.833333</td>\n",
       "      <td>1.000000</td>\n",
       "      <td>0.666667</td>\n",
       "      <td>0.666667</td>\n",
       "      <td>0.916667</td>\n",
       "    </tr>\n",
       "    <tr>\n",
       "      <th>A_12</th>\n",
       "      <td>0.666667</td>\n",
       "      <td>0.666667</td>\n",
       "      <td>0.083333</td>\n",
       "      <td>1.000000</td>\n",
       "      <td>0.916667</td>\n",
       "      <td>0.750000</td>\n",
       "      <td>0.833333</td>\n",
       "    </tr>\n",
       "    <tr>\n",
       "      <th>A_13</th>\n",
       "      <td>0.833333</td>\n",
       "      <td>0.916667</td>\n",
       "      <td>0.416667</td>\n",
       "      <td>1.000000</td>\n",
       "      <td>0.916667</td>\n",
       "      <td>0.750000</td>\n",
       "      <td>1.000000</td>\n",
       "    </tr>\n",
       "    <tr>\n",
       "      <th>A_14</th>\n",
       "      <td>1.000000</td>\n",
       "      <td>0.833333</td>\n",
       "      <td>0.250000</td>\n",
       "      <td>0.916667</td>\n",
       "      <td>1.000000</td>\n",
       "      <td>0.750000</td>\n",
       "      <td>0.916667</td>\n",
       "    </tr>\n",
       "  </tbody>\n",
       "</table>\n",
       "</div>"
      ],
      "text/plain": [
       "cond              AN        DI        FE        HA        NE        SA  \\\n",
       "group id                                                                 \n",
       "A     A_10  1.000000  0.750000  0.416667  1.000000  0.916667  0.916667   \n",
       "      A_11  0.916667  0.916667  0.833333  1.000000  0.666667  0.666667   \n",
       "      A_12  0.666667  0.666667  0.083333  1.000000  0.916667  0.750000   \n",
       "      A_13  0.833333  0.916667  0.416667  1.000000  0.916667  0.750000   \n",
       "      A_14  1.000000  0.833333  0.250000  0.916667  1.000000  0.750000   \n",
       "\n",
       "cond              SP  \n",
       "group id              \n",
       "A     A_10  0.500000  \n",
       "      A_11  0.916667  \n",
       "      A_12  0.833333  \n",
       "      A_13  1.000000  \n",
       "      A_14  0.916667  "
      ]
     },
     "execution_count": 39,
     "metadata": {},
     "output_type": "execute_result"
    }
   ],
   "source": [
    "bigDf.head()"
   ]
  },
  {
   "cell_type": "code",
   "execution_count": 40,
   "metadata": {
    "collapsed": false
   },
   "outputs": [],
   "source": [
    "globalCorrect = pd.DataFrame( bigDf.mean(axis=1) )\n",
    "globalCorrect['group'] = [ labelCoding[x[0]] for x in globalCorrect.index.levels[1] ]\n",
    "globalCorrect = globalCorrect.sort_values(by='group')"
   ]
  },
  {
   "cell_type": "code",
   "execution_count": 41,
   "metadata": {
    "collapsed": false,
    "scrolled": true
   },
   "outputs": [
    {
     "data": {
      "text/html": [
       "<div>\n",
       "<table border=\"1\" class=\"dataframe\">\n",
       "  <thead>\n",
       "    <tr style=\"text-align: right;\">\n",
       "      <th></th>\n",
       "      <th></th>\n",
       "      <th>0</th>\n",
       "      <th>group</th>\n",
       "    </tr>\n",
       "    <tr>\n",
       "      <th>group</th>\n",
       "      <th>id</th>\n",
       "      <th></th>\n",
       "      <th></th>\n",
       "    </tr>\n",
       "  </thead>\n",
       "  <tbody>\n",
       "    <tr>\n",
       "      <th rowspan=\"5\" valign=\"top\">G</th>\n",
       "      <th>G_22</th>\n",
       "      <td>0.654762</td>\n",
       "      <td>0</td>\n",
       "    </tr>\n",
       "    <tr>\n",
       "      <th>G_16</th>\n",
       "      <td>0.607143</td>\n",
       "      <td>0</td>\n",
       "    </tr>\n",
       "    <tr>\n",
       "      <th>G_17</th>\n",
       "      <td>0.761905</td>\n",
       "      <td>0</td>\n",
       "    </tr>\n",
       "    <tr>\n",
       "      <th>G_18</th>\n",
       "      <td>0.738095</td>\n",
       "      <td>0</td>\n",
       "    </tr>\n",
       "    <tr>\n",
       "      <th>G_19</th>\n",
       "      <td>0.821429</td>\n",
       "      <td>0</td>\n",
       "    </tr>\n",
       "  </tbody>\n",
       "</table>\n",
       "</div>"
      ],
      "text/plain": [
       "                   0  group\n",
       "group id                   \n",
       "G     G_22  0.654762      0\n",
       "      G_16  0.607143      0\n",
       "      G_17  0.761905      0\n",
       "      G_18  0.738095      0\n",
       "      G_19  0.821429      0"
      ]
     },
     "execution_count": 41,
     "metadata": {},
     "output_type": "execute_result"
    }
   ],
   "source": [
    "globalCorrect.head()"
   ]
  },
  {
   "cell_type": "markdown",
   "metadata": {},
   "source": [
    "### Plot"
   ]
  },
  {
   "cell_type": "code",
   "execution_count": 42,
   "metadata": {
    "collapsed": false,
    "scrolled": true
   },
   "outputs": [
    {
     "data": {
      "image/png": "[encoded data removed]",
      "text/plain": [
       "<matplotlib.figure.Figure at 0x7f037501bc90>"
      ]
     },
     "metadata": {},
     "output_type": "display_data"
    }
   ],
   "source": [
    "fig = plt.figure(figsize=(7,7))\n",
    "\n",
    "sns.boxplot(x='group',y=0,data=globalCorrect,\n",
    "            width=0.4,linewidth=1,color='white',whis=True,notch=True,fliersize=0)\n",
    "\n",
    "sns.stripplot(x=globalCorrect['group'],y=globalCorrect[0],\n",
    "              jitter=True,palette=stackColors)\n",
    "sns.despine()\n",
    "plt.ylim(0.5,1.);"
   ]
  },
  {
   "cell_type": "markdown",
   "metadata": {},
   "source": [
    "### Make correct responses for male and female faces for 2x3x7 ANOVA in JASP"
   ]
  },
  {
   "cell_type": "code",
   "execution_count": 43,
   "metadata": {
    "collapsed": false,
    "scrolled": true
   },
   "outputs": [],
   "source": [
    "faceList = list(confDf.columns.levels[1])\n",
    "respList = list(confDf.columns.levels[2])\n",
    "\n",
    "jaspDf = pd.DataFrame()\n",
    "\n",
    "for fGender in confDf.columns.levels[0]:\n",
    "\n",
    "    for face in faceList:\n",
    "        for resp in respList:\n",
    "            if faceList.index(face) == respList.index(resp):\n",
    "                thisDf =  confDf[fGender][face][resp] \n",
    "                thisDf.name = fGender+'_'+thisDf.name\n",
    "                jaspDf = pd.concat([jaspDf,thisDf ],axis=1)\n",
    "                \n",
    "jaspDf['group'] = [ x[0] for x in jaspDf.index.levels[1]]"
   ]
  },
  {
   "cell_type": "code",
   "execution_count": 44,
   "metadata": {
    "collapsed": false
   },
   "outputs": [
    {
     "data": {
      "text/html": [
       "<div>\n",
       "<table border=\"1\" class=\"dataframe\">\n",
       "  <thead>\n",
       "    <tr style=\"text-align: right;\">\n",
       "      <th></th>\n",
       "      <th></th>\n",
       "      <th>F_ANG</th>\n",
       "      <th>F_DIS</th>\n",
       "      <th>F_FEA</th>\n",
       "      <th>F_HAP</th>\n",
       "      <th>F_NTR</th>\n",
       "      <th>F_SAD</th>\n",
       "      <th>F_SUP</th>\n",
       "      <th>M_ANG</th>\n",
       "      <th>M_DIS</th>\n",
       "      <th>M_FEA</th>\n",
       "      <th>M_HAP</th>\n",
       "      <th>M_NTR</th>\n",
       "      <th>M_SAD</th>\n",
       "      <th>M_SUP</th>\n",
       "      <th>group</th>\n",
       "    </tr>\n",
       "    <tr>\n",
       "      <th></th>\n",
       "      <th>pNum</th>\n",
       "      <th></th>\n",
       "      <th></th>\n",
       "      <th></th>\n",
       "      <th></th>\n",
       "      <th></th>\n",
       "      <th></th>\n",
       "      <th></th>\n",
       "      <th></th>\n",
       "      <th></th>\n",
       "      <th></th>\n",
       "      <th></th>\n",
       "      <th></th>\n",
       "      <th></th>\n",
       "      <th></th>\n",
       "      <th></th>\n",
       "    </tr>\n",
       "  </thead>\n",
       "  <tbody>\n",
       "    <tr>\n",
       "      <th rowspan=\"5\" valign=\"top\">A</th>\n",
       "      <th>A_1</th>\n",
       "      <td>1.000000</td>\n",
       "      <td>0.833333</td>\n",
       "      <td>0.500000</td>\n",
       "      <td>1</td>\n",
       "      <td>0.166667</td>\n",
       "      <td>0.500000</td>\n",
       "      <td>0.833333</td>\n",
       "      <td>1.000000</td>\n",
       "      <td>0.833333</td>\n",
       "      <td>0.333333</td>\n",
       "      <td>1</td>\n",
       "      <td>0.500000</td>\n",
       "      <td>0.833333</td>\n",
       "      <td>0.833333</td>\n",
       "      <td>A</td>\n",
       "    </tr>\n",
       "    <tr>\n",
       "      <th>A_10</th>\n",
       "      <td>1.000000</td>\n",
       "      <td>0.833333</td>\n",
       "      <td>0.166667</td>\n",
       "      <td>1</td>\n",
       "      <td>1.000000</td>\n",
       "      <td>1.000000</td>\n",
       "      <td>0.500000</td>\n",
       "      <td>1.000000</td>\n",
       "      <td>0.666667</td>\n",
       "      <td>0.666667</td>\n",
       "      <td>1</td>\n",
       "      <td>0.833333</td>\n",
       "      <td>0.833333</td>\n",
       "      <td>0.500000</td>\n",
       "      <td>A</td>\n",
       "    </tr>\n",
       "    <tr>\n",
       "      <th>A_11</th>\n",
       "      <td>1.000000</td>\n",
       "      <td>1.000000</td>\n",
       "      <td>0.833333</td>\n",
       "      <td>1</td>\n",
       "      <td>0.833333</td>\n",
       "      <td>0.666667</td>\n",
       "      <td>0.833333</td>\n",
       "      <td>0.833333</td>\n",
       "      <td>0.833333</td>\n",
       "      <td>0.833333</td>\n",
       "      <td>1</td>\n",
       "      <td>0.500000</td>\n",
       "      <td>0.666667</td>\n",
       "      <td>1.000000</td>\n",
       "      <td>A</td>\n",
       "    </tr>\n",
       "    <tr>\n",
       "      <th>A_12</th>\n",
       "      <td>0.833333</td>\n",
       "      <td>0.666667</td>\n",
       "      <td>0.166667</td>\n",
       "      <td>1</td>\n",
       "      <td>1.000000</td>\n",
       "      <td>1.000000</td>\n",
       "      <td>0.833333</td>\n",
       "      <td>0.500000</td>\n",
       "      <td>0.666667</td>\n",
       "      <td>0.000000</td>\n",
       "      <td>1</td>\n",
       "      <td>0.833333</td>\n",
       "      <td>0.500000</td>\n",
       "      <td>0.833333</td>\n",
       "      <td>A</td>\n",
       "    </tr>\n",
       "    <tr>\n",
       "      <th>A_13</th>\n",
       "      <td>0.833333</td>\n",
       "      <td>1.000000</td>\n",
       "      <td>0.500000</td>\n",
       "      <td>1</td>\n",
       "      <td>0.833333</td>\n",
       "      <td>1.000000</td>\n",
       "      <td>1.000000</td>\n",
       "      <td>0.833333</td>\n",
       "      <td>0.833333</td>\n",
       "      <td>0.333333</td>\n",
       "      <td>1</td>\n",
       "      <td>1.000000</td>\n",
       "      <td>0.500000</td>\n",
       "      <td>1.000000</td>\n",
       "      <td>A</td>\n",
       "    </tr>\n",
       "  </tbody>\n",
       "</table>\n",
       "</div>"
      ],
      "text/plain": [
       "           F_ANG     F_DIS     F_FEA  F_HAP     F_NTR     F_SAD     F_SUP  \\\n",
       "  pNum                                                                      \n",
       "A A_1   1.000000  0.833333  0.500000      1  0.166667  0.500000  0.833333   \n",
       "  A_10  1.000000  0.833333  0.166667      1  1.000000  1.000000  0.500000   \n",
       "  A_11  1.000000  1.000000  0.833333      1  0.833333  0.666667  0.833333   \n",
       "  A_12  0.833333  0.666667  0.166667      1  1.000000  1.000000  0.833333   \n",
       "  A_13  0.833333  1.000000  0.500000      1  0.833333  1.000000  1.000000   \n",
       "\n",
       "           M_ANG     M_DIS     M_FEA  M_HAP     M_NTR     M_SAD     M_SUP  \\\n",
       "  pNum                                                                      \n",
       "A A_1   1.000000  0.833333  0.333333      1  0.500000  0.833333  0.833333   \n",
       "  A_10  1.000000  0.666667  0.666667      1  0.833333  0.833333  0.500000   \n",
       "  A_11  0.833333  0.833333  0.833333      1  0.500000  0.666667  1.000000   \n",
       "  A_12  0.500000  0.666667  0.000000      1  0.833333  0.500000  0.833333   \n",
       "  A_13  0.833333  0.833333  0.333333      1  1.000000  0.500000  1.000000   \n",
       "\n",
       "       group  \n",
       "  pNum        \n",
       "A A_1      A  \n",
       "  A_10     A  \n",
       "  A_11     A  \n",
       "  A_12     A  \n",
       "  A_13     A  "
      ]
     },
     "execution_count": 44,
     "metadata": {},
     "output_type": "execute_result"
    }
   ],
   "source": [
    "jaspDf.head()"
   ]
  },
  {
   "cell_type": "code",
   "execution_count": 45,
   "metadata": {
    "collapsed": true
   },
   "outputs": [],
   "source": [
    "jaspDf.to_csv('../outputs/basicExpressionsJASP.csv')"
   ]
  }
 ],
 "metadata": {
  "kernelspec": {
   "display_name": "Python 2",
   "language": "python",
   "name": "python2"
  },
  "language_info": {
   "codemirror_mode": {
    "name": "ipython",
    "version": 2
   },
   "file_extension": ".py",
   "mimetype": "text/x-python",
   "name": "python",
   "nbconvert_exporter": "python",
   "pygments_lexer": "ipython2",
   "version": "2.7.11"
  }
 },
 "nbformat": 4,
 "nbformat_minor": 0
}
