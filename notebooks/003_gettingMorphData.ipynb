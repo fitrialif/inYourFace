{
 "cells": [
  {
   "cell_type": "markdown",
   "metadata": {},
   "source": [
    "<center><h1>In your face:<br>Biased judgement of fear-anger expressions in violence offenders.</h1></center>\n",
    "\n",
    "# 3. Extracting Morph data from Logfiles"
   ]
  },
  {
   "cell_type": "markdown",
   "metadata": {},
   "source": [
    "This notebook extracts the data from the main experiment, i.e. the face morphing"
   ]
  },
  {
   "cell_type": "markdown",
   "metadata": {},
   "source": [
    "### import libraries"
   ]
  },
  {
   "cell_type": "code",
   "execution_count": 1,
   "metadata": {},
   "outputs": [],
   "source": [
    "import numpy as np\n",
    "import pandas as pd\n",
    "\n",
    "import os\n",
    "import fnmatch\n",
    "\n",
    "from myBasics import *"
   ]
  },
  {
   "cell_type": "markdown",
   "metadata": {},
   "source": [
    "### get logfiles"
   ]
  },
  {
   "cell_type": "code",
   "execution_count": 2,
   "metadata": {},
   "outputs": [],
   "source": [
    "def get_logfile(whichfolder, whichexperiment):\n",
    "\n",
    "    loglist = []\n",
    "    for fileName in os.listdir(whichfolder):\n",
    "        if fnmatch.fnmatch(fileName, whichexperiment):\n",
    "            loglist.append(whichfolder+fileName)\n",
    "    return loglist"
   ]
  },
  {
   "cell_type": "code",
   "execution_count": 3,
   "metadata": {},
   "outputs": [],
   "source": [
    "loglist = get_logfile('../experiment/data/','*facesParametric*.csv')\n",
    "loglist.sort()"
   ]
  },
  {
   "cell_type": "markdown",
   "metadata": {},
   "source": [
    "Example:"
   ]
  },
  {
   "cell_type": "code",
   "execution_count": 4,
   "metadata": {
    "scrolled": true
   },
   "outputs": [
    {
     "data": {
      "text/plain": [
       "['../experiment/data/A_10_facesParametric_2015_Sep_20_1307.csv',\n",
       " '../experiment/data/A_11_facesParametric_2015_Sep_25_1753.csv',\n",
       " '../experiment/data/A_12_facesParametric_2015_Oct_11_1221.csv',\n",
       " '../experiment/data/A_13_facesParametric_2015_Oct_11_1620.csv',\n",
       " '../experiment/data/A_14_facesParametric_2015_Nov_01_1250.csv']"
      ]
     },
     "execution_count": 4,
     "metadata": {},
     "output_type": "execute_result"
    }
   ],
   "source": [
    "loglist[:5]"
   ]
  },
  {
   "cell_type": "code",
   "execution_count": 5,
   "metadata": {
    "collapsed": true
   },
   "outputs": [],
   "source": [
    "def getMorphResps(fileName):\n",
    "    fullDf = pd.read_csv(fileName)\n",
    "    \n",
    "    # boil down to just the essentials\n",
    "    thisDf = pd.concat([fullDf['img'],\n",
    "                    fullDf['mouseResp.leftButton'],\n",
    "                    fullDf['mouseResp.rightButton'],\n",
    "                    fullDf['mouseResp.time']\n",
    "                   ],axis=1)\n",
    "    \n",
    "    # we output starting at row 89, because the previous\n",
    "    # rows belong the previous experiment (basic expression recognition)\n",
    "    return thisDf[89:]"
   ]
  },
  {
   "cell_type": "markdown",
   "metadata": {},
   "source": [
    "Example:"
   ]
  },
  {
   "cell_type": "code",
   "execution_count": 6,
   "metadata": {
    "scrolled": true
   },
   "outputs": [
    {
     "data": {
      "text/html": [
       "<div>\n",
       "<table border=\"1\" class=\"dataframe\">\n",
       "  <thead>\n",
       "    <tr style=\"text-align: right;\">\n",
       "      <th></th>\n",
       "      <th>img</th>\n",
       "      <th>mouseResp.leftButton</th>\n",
       "      <th>mouseResp.rightButton</th>\n",
       "      <th>mouseResp.time</th>\n",
       "    </tr>\n",
       "  </thead>\n",
       "  <tbody>\n",
       "    <tr>\n",
       "      <th>89</th>\n",
       "      <td>./stim/MorphM9_07_orig.jpg</td>\n",
       "      <td>1.0</td>\n",
       "      <td>0.0</td>\n",
       "      <td>3.044200</td>\n",
       "    </tr>\n",
       "    <tr>\n",
       "      <th>90</th>\n",
       "      <td>./stim/MorphM10_05_orig.jpg</td>\n",
       "      <td>0.0</td>\n",
       "      <td>1.0</td>\n",
       "      <td>1.925446</td>\n",
       "    </tr>\n",
       "    <tr>\n",
       "      <th>91</th>\n",
       "      <td>./stim/MorphM2_07_orig.jpg</td>\n",
       "      <td>0.0</td>\n",
       "      <td>1.0</td>\n",
       "      <td>1.942962</td>\n",
       "    </tr>\n",
       "    <tr>\n",
       "      <th>92</th>\n",
       "      <td>./stim/MorphF5_06_orig.jpg</td>\n",
       "      <td>0.0</td>\n",
       "      <td>1.0</td>\n",
       "      <td>1.305991</td>\n",
       "    </tr>\n",
       "    <tr>\n",
       "      <th>93</th>\n",
       "      <td>./stim/MorphM3_09_orig.jpg</td>\n",
       "      <td>0.0</td>\n",
       "      <td>1.0</td>\n",
       "      <td>2.845542</td>\n",
       "    </tr>\n",
       "  </tbody>\n",
       "</table>\n",
       "</div>"
      ],
      "text/plain": [
       "                            img  mouseResp.leftButton  mouseResp.rightButton  \\\n",
       "89   ./stim/MorphM9_07_orig.jpg                   1.0                    0.0   \n",
       "90  ./stim/MorphM10_05_orig.jpg                   0.0                    1.0   \n",
       "91   ./stim/MorphM2_07_orig.jpg                   0.0                    1.0   \n",
       "92   ./stim/MorphF5_06_orig.jpg                   0.0                    1.0   \n",
       "93   ./stim/MorphM3_09_orig.jpg                   0.0                    1.0   \n",
       "\n",
       "    mouseResp.time  \n",
       "89        3.044200  \n",
       "90        1.925446  \n",
       "91        1.942962  \n",
       "92        1.305991  \n",
       "93        2.845542  "
      ]
     },
     "execution_count": 6,
     "metadata": {},
     "output_type": "execute_result"
    }
   ],
   "source": [
    "getMorphResps(loglist[-1]).head()"
   ]
  },
  {
   "cell_type": "code",
   "execution_count": 7,
   "metadata": {
    "scrolled": true
   },
   "outputs": [],
   "source": [
    "def getCondition(stimList):\n",
    "\n",
    "    part = []\n",
    "    grades = []\n",
    "    genders = []\n",
    "    idents = []\n",
    "    pt = 1\n",
    "\n",
    "    for entry in stimList:\n",
    "\n",
    "        try:\n",
    "            grade = entry[entry.find('_')+1:entry.rfind('_')]\n",
    "            ident = entry[entry.find('Morph')+len('Morph'):entry.find('_')]\n",
    "            gender = entry[entry.find('Morph')+len('Morph'):entry.find('Morph')+len('Morph')+1]\n",
    "            grades.append(grade)\n",
    "            idents.append(ident+'_'+str(pt))\n",
    "            genders.append(gender)\n",
    "            part.append(pt)\n",
    "\n",
    "        except:\n",
    "            grades.append(float(np.nan))\n",
    "            idents.append(float(np.nan))\n",
    "            genders.append(float(np.nan))\n",
    "            part.append(float(np.nan))\n",
    "            pt = 2\n",
    "            \n",
    "    return part,grades,genders,idents"
   ]
  },
  {
   "cell_type": "code",
   "execution_count": 8,
   "metadata": {
    "collapsed": true
   },
   "outputs": [],
   "source": [
    "def makeTable(fileName):\n",
    "    thisDf = getMorphResps(fileName)\n",
    "    # get the file names from which the conditions are extracted\n",
    "    stimList = thisDf['img']\n",
    "    # \n",
    "    parts,grades,genders,idents = getCondition(stimList)\n",
    "    # apply \n",
    "    #thisDf['part'] = parts\n",
    "    thisDf['grades'] = grades\n",
    "    thisDf['gender'] = genders\n",
    "    thisDf['idents'] = idents\n",
    "    # sort\n",
    "    #thisDf = thisDf.sort(['part','gender','grades','idents'])\n",
    "    thisDf = thisDf.sort_values(by=['grades','gender'])\n",
    "    # set index\n",
    "    #thisDf = thisDf.set_index(['part','gender','grades'])\n",
    "    thisDf = thisDf.set_index(['grades','gender','idents'])\n",
    "    # drop nan\n",
    "    thisDf =  thisDf.dropna()\n",
    "    \n",
    "    return thisDf"
   ]
  },
  {
   "cell_type": "markdown",
   "metadata": {},
   "source": [
    "Example:"
   ]
  },
  {
   "cell_type": "code",
   "execution_count": 9,
   "metadata": {
    "scrolled": true
   },
   "outputs": [
    {
     "data": {
      "text/html": [
       "<div>\n",
       "<table border=\"1\" class=\"dataframe\">\n",
       "  <thead>\n",
       "    <tr style=\"text-align: right;\">\n",
       "      <th></th>\n",
       "      <th></th>\n",
       "      <th></th>\n",
       "      <th>img</th>\n",
       "      <th>mouseResp.leftButton</th>\n",
       "      <th>mouseResp.rightButton</th>\n",
       "      <th>mouseResp.time</th>\n",
       "    </tr>\n",
       "    <tr>\n",
       "      <th>grades</th>\n",
       "      <th>gender</th>\n",
       "      <th>idents</th>\n",
       "      <th></th>\n",
       "      <th></th>\n",
       "      <th></th>\n",
       "      <th></th>\n",
       "    </tr>\n",
       "  </thead>\n",
       "  <tbody>\n",
       "    <tr>\n",
       "      <th rowspan=\"5\" valign=\"top\">00</th>\n",
       "      <th rowspan=\"5\" valign=\"top\">F</th>\n",
       "      <th>F10_1</th>\n",
       "      <td>./stim/MorphF10_00_orig.jpg</td>\n",
       "      <td>1.0</td>\n",
       "      <td>0.0</td>\n",
       "      <td>2.763731</td>\n",
       "    </tr>\n",
       "    <tr>\n",
       "      <th>F2_1</th>\n",
       "      <td>./stim/MorphF2_00_orig.jpg</td>\n",
       "      <td>1.0</td>\n",
       "      <td>0.0</td>\n",
       "      <td>3.099604</td>\n",
       "    </tr>\n",
       "    <tr>\n",
       "      <th>F3_1</th>\n",
       "      <td>./stim/MorphF3_00_orig.jpg</td>\n",
       "      <td>1.0</td>\n",
       "      <td>0.0</td>\n",
       "      <td>0.701015</td>\n",
       "    </tr>\n",
       "    <tr>\n",
       "      <th>F9_1</th>\n",
       "      <td>./stim/MorphF9_00_orig.jpg</td>\n",
       "      <td>1.0</td>\n",
       "      <td>0.0</td>\n",
       "      <td>2.060379</td>\n",
       "    </tr>\n",
       "    <tr>\n",
       "      <th>F6_1</th>\n",
       "      <td>./stim/MorphF6_00_orig.jpg</td>\n",
       "      <td>1.0</td>\n",
       "      <td>0.0</td>\n",
       "      <td>1.154952</td>\n",
       "    </tr>\n",
       "  </tbody>\n",
       "</table>\n",
       "</div>"
      ],
      "text/plain": [
       "                                              img  mouseResp.leftButton  \\\n",
       "grades gender idents                                                      \n",
       "00     F      F10_1   ./stim/MorphF10_00_orig.jpg                   1.0   \n",
       "              F2_1     ./stim/MorphF2_00_orig.jpg                   1.0   \n",
       "              F3_1     ./stim/MorphF3_00_orig.jpg                   1.0   \n",
       "              F9_1     ./stim/MorphF9_00_orig.jpg                   1.0   \n",
       "              F6_1     ./stim/MorphF6_00_orig.jpg                   1.0   \n",
       "\n",
       "                      mouseResp.rightButton  mouseResp.time  \n",
       "grades gender idents                                         \n",
       "00     F      F10_1                     0.0        2.763731  \n",
       "              F2_1                      0.0        3.099604  \n",
       "              F3_1                      0.0        0.701015  \n",
       "              F9_1                      0.0        2.060379  \n",
       "              F6_1                      0.0        1.154952  "
      ]
     },
     "execution_count": 9,
     "metadata": {},
     "output_type": "execute_result"
    }
   ],
   "source": [
    "makeTable(loglist[-1]).head()"
   ]
  },
  {
   "cell_type": "code",
   "execution_count": 10,
   "metadata": {},
   "outputs": [],
   "source": [
    "def cleanAvg(fileName):\n",
    "\n",
    "    fileNum = fileName[fileName.find('_')+1:fileName.find('faces')-1]\n",
    "    \n",
    "    if int(fileNum)%2 == 0:\n",
    "        targetButton = 'mouseResp.leftButton'\n",
    "        nonTargetButton = 'mouseResp.rightButton'\n",
    "    else:\n",
    "        targetButton = 'mouseResp.rightButton'\n",
    "        nonTargetButton = 'mouseResp.leftButton'\n",
    "        \n",
    "\n",
    "    pName = (fileName[fileName.rfind('/')+1:fileName.find('_')]+ ('000'+fileNum)[-3:])\n",
    "    \n",
    "    thisDf = makeTable(fileName)\n",
    "    \n",
    "    # get rid of everything but\n",
    "    thisDf = thisDf.drop('img',1)\n",
    "    thisDf = thisDf.drop(nonTargetButton,1)\n",
    "    thisDf = thisDf.drop('mouseResp.time',1)\n",
    "    \n",
    "    # restructure for gender-based averaging\n",
    "    thisDfWithin = thisDf.unstack(0)\n",
    "    thisDfWithin.columns = thisDfWithin.columns.droplevel()\n",
    "\n",
    "    # average by gender\n",
    "    fDf = pd.DataFrame( thisDfWithin.ix['F'].mean(),columns=['F'] )\n",
    "    mDf = pd.DataFrame( thisDfWithin.ix['M'].mean(),columns=['M'] )\n",
    "    \n",
    "    # restructure\n",
    "    avgDf = pd.concat([fDf,mDf],axis=1).T\n",
    "    # nice indexing\n",
    "    avgDf.index = [ [pName[:1]]*len(avgDf.index),\n",
    "                    [pName]*len(avgDf.index),\n",
    "                    avgDf.index\n",
    "                  ]\n",
    "    avgDf['group'] = [ labelCoding[avgDf.index.levels[0][-1]], labelCoding[avgDf.index.levels[0][-1] ]  ]\n",
    "    \n",
    "    return avgDf"
   ]
  },
  {
   "cell_type": "markdown",
   "metadata": {},
   "source": [
    "Example:"
   ]
  },
  {
   "cell_type": "code",
   "execution_count": 11,
   "metadata": {},
   "outputs": [
    {
     "data": {
      "text/html": [
       "<div>\n",
       "<table border=\"1\" class=\"dataframe\">\n",
       "  <thead>\n",
       "    <tr style=\"text-align: right;\">\n",
       "      <th></th>\n",
       "      <th></th>\n",
       "      <th>grades</th>\n",
       "      <th>00</th>\n",
       "      <th>01</th>\n",
       "      <th>02</th>\n",
       "      <th>03</th>\n",
       "      <th>04</th>\n",
       "      <th>05</th>\n",
       "      <th>06</th>\n",
       "      <th>07</th>\n",
       "      <th>08</th>\n",
       "      <th>09</th>\n",
       "      <th>10</th>\n",
       "      <th>group</th>\n",
       "    </tr>\n",
       "  </thead>\n",
       "  <tbody>\n",
       "    <tr>\n",
       "      <th rowspan=\"2\" valign=\"top\">A</th>\n",
       "      <th rowspan=\"2\" valign=\"top\">A010</th>\n",
       "      <th>F</th>\n",
       "      <td>0.05</td>\n",
       "      <td>0.05</td>\n",
       "      <td>0.05</td>\n",
       "      <td>0.10</td>\n",
       "      <td>0.25</td>\n",
       "      <td>0.50</td>\n",
       "      <td>0.60</td>\n",
       "      <td>0.80</td>\n",
       "      <td>0.85</td>\n",
       "      <td>0.95</td>\n",
       "      <td>1.0</td>\n",
       "      <td>2</td>\n",
       "    </tr>\n",
       "    <tr>\n",
       "      <th>M</th>\n",
       "      <td>0.05</td>\n",
       "      <td>0.05</td>\n",
       "      <td>0.05</td>\n",
       "      <td>0.25</td>\n",
       "      <td>0.40</td>\n",
       "      <td>0.35</td>\n",
       "      <td>0.75</td>\n",
       "      <td>0.85</td>\n",
       "      <td>0.95</td>\n",
       "      <td>1.00</td>\n",
       "      <td>1.0</td>\n",
       "      <td>2</td>\n",
       "    </tr>\n",
       "  </tbody>\n",
       "</table>\n",
       "</div>"
      ],
      "text/plain": [
       "grades      00    01    02    03    04    05    06    07    08    09   10  \\\n",
       "A A010 F  0.05  0.05  0.05  0.10  0.25  0.50  0.60  0.80  0.85  0.95  1.0   \n",
       "       M  0.05  0.05  0.05  0.25  0.40  0.35  0.75  0.85  0.95  1.00  1.0   \n",
       "\n",
       "grades    group  \n",
       "A A010 F      2  \n",
       "       M      2  "
      ]
     },
     "execution_count": 11,
     "metadata": {},
     "output_type": "execute_result"
    }
   ],
   "source": [
    "cleanAvg(loglist[0])"
   ]
  },
  {
   "cell_type": "code",
   "execution_count": 12,
   "metadata": {
    "collapsed": true
   },
   "outputs": [],
   "source": [
    "def makeBigOne(allFiles):\n",
    "    \n",
    "    for fileName in allFiles:\n",
    "\n",
    "        thisDf = cleanAvg(fileName)\n",
    "        \n",
    "        try:\n",
    "            bigDf = pd.concat([bigDf,thisDf])\n",
    "        except:\n",
    "            bigDf = thisDf\n",
    "    \n",
    "    bigDf.index.names = ['g','p','fgender']\n",
    "    \n",
    "    bigDf = bigDf.sort_index()\n",
    "\n",
    "    return bigDf"
   ]
  },
  {
   "cell_type": "markdown",
   "metadata": {},
   "source": [
    "### Make a comprehensive table, where male and female face identities are treated seperately"
   ]
  },
  {
   "cell_type": "code",
   "execution_count": 13,
   "metadata": {
    "scrolled": true
   },
   "outputs": [],
   "source": [
    "bigDf = makeBigOne(loglist)"
   ]
  },
  {
   "cell_type": "code",
   "execution_count": 14,
   "metadata": {},
   "outputs": [
    {
     "data": {
      "text/html": [
       "<div>\n",
       "<table border=\"1\" class=\"dataframe\">\n",
       "  <thead>\n",
       "    <tr style=\"text-align: right;\">\n",
       "      <th></th>\n",
       "      <th></th>\n",
       "      <th>grades</th>\n",
       "      <th>00</th>\n",
       "      <th>01</th>\n",
       "      <th>02</th>\n",
       "      <th>03</th>\n",
       "      <th>04</th>\n",
       "      <th>05</th>\n",
       "      <th>06</th>\n",
       "      <th>07</th>\n",
       "      <th>08</th>\n",
       "      <th>09</th>\n",
       "      <th>10</th>\n",
       "      <th>group</th>\n",
       "    </tr>\n",
       "    <tr>\n",
       "      <th>g</th>\n",
       "      <th>p</th>\n",
       "      <th>fgender</th>\n",
       "      <th></th>\n",
       "      <th></th>\n",
       "      <th></th>\n",
       "      <th></th>\n",
       "      <th></th>\n",
       "      <th></th>\n",
       "      <th></th>\n",
       "      <th></th>\n",
       "      <th></th>\n",
       "      <th></th>\n",
       "      <th></th>\n",
       "      <th></th>\n",
       "    </tr>\n",
       "  </thead>\n",
       "  <tbody>\n",
       "    <tr>\n",
       "      <th rowspan=\"5\" valign=\"top\">K</th>\n",
       "      <th>K013</th>\n",
       "      <th>M</th>\n",
       "      <td>0.25</td>\n",
       "      <td>0.50</td>\n",
       "      <td>0.40</td>\n",
       "      <td>0.55</td>\n",
       "      <td>0.60</td>\n",
       "      <td>0.55</td>\n",
       "      <td>0.80</td>\n",
       "      <td>0.80</td>\n",
       "      <td>1.00</td>\n",
       "      <td>0.90</td>\n",
       "      <td>1.00</td>\n",
       "      <td>1</td>\n",
       "    </tr>\n",
       "    <tr>\n",
       "      <th rowspan=\"2\" valign=\"top\">K014</th>\n",
       "      <th>F</th>\n",
       "      <td>0.00</td>\n",
       "      <td>0.00</td>\n",
       "      <td>0.05</td>\n",
       "      <td>0.00</td>\n",
       "      <td>0.00</td>\n",
       "      <td>0.25</td>\n",
       "      <td>0.45</td>\n",
       "      <td>0.70</td>\n",
       "      <td>0.85</td>\n",
       "      <td>0.95</td>\n",
       "      <td>0.95</td>\n",
       "      <td>1</td>\n",
       "    </tr>\n",
       "    <tr>\n",
       "      <th>M</th>\n",
       "      <td>0.20</td>\n",
       "      <td>0.20</td>\n",
       "      <td>0.30</td>\n",
       "      <td>0.35</td>\n",
       "      <td>0.35</td>\n",
       "      <td>0.40</td>\n",
       "      <td>0.45</td>\n",
       "      <td>0.65</td>\n",
       "      <td>0.75</td>\n",
       "      <td>0.90</td>\n",
       "      <td>0.85</td>\n",
       "      <td>1</td>\n",
       "    </tr>\n",
       "    <tr>\n",
       "      <th rowspan=\"2\" valign=\"top\">K015</th>\n",
       "      <th>F</th>\n",
       "      <td>0.10</td>\n",
       "      <td>0.15</td>\n",
       "      <td>0.20</td>\n",
       "      <td>0.20</td>\n",
       "      <td>0.30</td>\n",
       "      <td>0.45</td>\n",
       "      <td>0.70</td>\n",
       "      <td>0.75</td>\n",
       "      <td>0.90</td>\n",
       "      <td>1.00</td>\n",
       "      <td>0.95</td>\n",
       "      <td>1</td>\n",
       "    </tr>\n",
       "    <tr>\n",
       "      <th>M</th>\n",
       "      <td>0.00</td>\n",
       "      <td>0.00</td>\n",
       "      <td>0.05</td>\n",
       "      <td>0.20</td>\n",
       "      <td>0.35</td>\n",
       "      <td>0.30</td>\n",
       "      <td>0.65</td>\n",
       "      <td>0.70</td>\n",
       "      <td>0.85</td>\n",
       "      <td>1.00</td>\n",
       "      <td>1.00</td>\n",
       "      <td>1</td>\n",
       "    </tr>\n",
       "  </tbody>\n",
       "</table>\n",
       "</div>"
      ],
      "text/plain": [
       "grades            00    01    02    03    04    05    06    07    08    09  \\\n",
       "g p    fgender                                                               \n",
       "K K013 M        0.25  0.50  0.40  0.55  0.60  0.55  0.80  0.80  1.00  0.90   \n",
       "  K014 F        0.00  0.00  0.05  0.00  0.00  0.25  0.45  0.70  0.85  0.95   \n",
       "       M        0.20  0.20  0.30  0.35  0.35  0.40  0.45  0.65  0.75  0.90   \n",
       "  K015 F        0.10  0.15  0.20  0.20  0.30  0.45  0.70  0.75  0.90  1.00   \n",
       "       M        0.00  0.00  0.05  0.20  0.35  0.30  0.65  0.70  0.85  1.00   \n",
       "\n",
       "grades            10  group  \n",
       "g p    fgender               \n",
       "K K013 M        1.00      1  \n",
       "  K014 F        0.95      1  \n",
       "       M        0.85      1  \n",
       "  K015 F        0.95      1  \n",
       "       M        1.00      1  "
      ]
     },
     "execution_count": 14,
     "metadata": {},
     "output_type": "execute_result"
    }
   ],
   "source": [
    "bigDf.tail()"
   ]
  },
  {
   "cell_type": "code",
   "execution_count": 15,
   "metadata": {
    "collapsed": true
   },
   "outputs": [],
   "source": [
    "bigDf.to_csv('../outputs/genderTable.csv')"
   ]
  },
  {
   "cell_type": "markdown",
   "metadata": {},
   "source": [
    "### Restructure to run an ANOVA in JASP"
   ]
  },
  {
   "cell_type": "code",
   "execution_count": 16,
   "metadata": {
    "scrolled": true
   },
   "outputs": [],
   "source": [
    "bigDfUnstacked = bigDf[bigDf.columns[:-1]].unstack(2).stack(0).unstack(2)"
   ]
  },
  {
   "cell_type": "code",
   "execution_count": 17,
   "metadata": {},
   "outputs": [],
   "source": [
    "bigJasp = bigDfUnstacked.copy()\n",
    "myColumns = [str(x[0])+'_'+str(x[-1]) for x in bigDfUnstacked.columns]\n",
    "bigJasp.columns = myColumns"
   ]
  },
  {
   "cell_type": "code",
   "execution_count": 18,
   "metadata": {},
   "outputs": [
    {
     "data": {
      "text/html": [
       "<div>\n",
       "<table border=\"1\" class=\"dataframe\">\n",
       "  <thead>\n",
       "    <tr style=\"text-align: right;\">\n",
       "      <th></th>\n",
       "      <th></th>\n",
       "      <th>F_00</th>\n",
       "      <th>F_01</th>\n",
       "      <th>F_02</th>\n",
       "      <th>F_03</th>\n",
       "      <th>F_04</th>\n",
       "      <th>F_05</th>\n",
       "      <th>F_06</th>\n",
       "      <th>F_07</th>\n",
       "      <th>F_08</th>\n",
       "      <th>F_09</th>\n",
       "      <th>...</th>\n",
       "      <th>M_01</th>\n",
       "      <th>M_02</th>\n",
       "      <th>M_03</th>\n",
       "      <th>M_04</th>\n",
       "      <th>M_05</th>\n",
       "      <th>M_06</th>\n",
       "      <th>M_07</th>\n",
       "      <th>M_08</th>\n",
       "      <th>M_09</th>\n",
       "      <th>M_10</th>\n",
       "    </tr>\n",
       "    <tr>\n",
       "      <th>g</th>\n",
       "      <th>p</th>\n",
       "      <th></th>\n",
       "      <th></th>\n",
       "      <th></th>\n",
       "      <th></th>\n",
       "      <th></th>\n",
       "      <th></th>\n",
       "      <th></th>\n",
       "      <th></th>\n",
       "      <th></th>\n",
       "      <th></th>\n",
       "      <th></th>\n",
       "      <th></th>\n",
       "      <th></th>\n",
       "      <th></th>\n",
       "      <th></th>\n",
       "      <th></th>\n",
       "      <th></th>\n",
       "      <th></th>\n",
       "      <th></th>\n",
       "      <th></th>\n",
       "      <th></th>\n",
       "    </tr>\n",
       "  </thead>\n",
       "  <tbody>\n",
       "    <tr>\n",
       "      <th rowspan=\"5\" valign=\"top\">A</th>\n",
       "      <th>A001</th>\n",
       "      <td>0.00</td>\n",
       "      <td>0.10</td>\n",
       "      <td>0.10</td>\n",
       "      <td>0.20</td>\n",
       "      <td>0.15</td>\n",
       "      <td>0.3</td>\n",
       "      <td>0.85</td>\n",
       "      <td>0.90</td>\n",
       "      <td>0.90</td>\n",
       "      <td>1.00</td>\n",
       "      <td>...</td>\n",
       "      <td>0.10</td>\n",
       "      <td>0.20</td>\n",
       "      <td>0.20</td>\n",
       "      <td>0.25</td>\n",
       "      <td>0.50</td>\n",
       "      <td>0.70</td>\n",
       "      <td>0.85</td>\n",
       "      <td>0.95</td>\n",
       "      <td>1.00</td>\n",
       "      <td>1.00</td>\n",
       "    </tr>\n",
       "    <tr>\n",
       "      <th>A002</th>\n",
       "      <td>0.20</td>\n",
       "      <td>0.10</td>\n",
       "      <td>0.05</td>\n",
       "      <td>0.30</td>\n",
       "      <td>0.25</td>\n",
       "      <td>0.5</td>\n",
       "      <td>0.75</td>\n",
       "      <td>0.90</td>\n",
       "      <td>0.75</td>\n",
       "      <td>1.00</td>\n",
       "      <td>...</td>\n",
       "      <td>0.25</td>\n",
       "      <td>0.35</td>\n",
       "      <td>0.20</td>\n",
       "      <td>0.35</td>\n",
       "      <td>0.55</td>\n",
       "      <td>0.60</td>\n",
       "      <td>0.90</td>\n",
       "      <td>0.85</td>\n",
       "      <td>1.00</td>\n",
       "      <td>1.00</td>\n",
       "    </tr>\n",
       "    <tr>\n",
       "      <th>A003</th>\n",
       "      <td>0.00</td>\n",
       "      <td>0.05</td>\n",
       "      <td>0.15</td>\n",
       "      <td>0.10</td>\n",
       "      <td>0.30</td>\n",
       "      <td>0.4</td>\n",
       "      <td>0.55</td>\n",
       "      <td>0.65</td>\n",
       "      <td>0.65</td>\n",
       "      <td>0.65</td>\n",
       "      <td>...</td>\n",
       "      <td>0.00</td>\n",
       "      <td>0.05</td>\n",
       "      <td>0.05</td>\n",
       "      <td>0.30</td>\n",
       "      <td>0.25</td>\n",
       "      <td>0.45</td>\n",
       "      <td>0.50</td>\n",
       "      <td>0.80</td>\n",
       "      <td>0.95</td>\n",
       "      <td>0.95</td>\n",
       "    </tr>\n",
       "    <tr>\n",
       "      <th>A004</th>\n",
       "      <td>0.45</td>\n",
       "      <td>0.35</td>\n",
       "      <td>0.40</td>\n",
       "      <td>0.30</td>\n",
       "      <td>0.40</td>\n",
       "      <td>0.6</td>\n",
       "      <td>0.30</td>\n",
       "      <td>0.45</td>\n",
       "      <td>0.45</td>\n",
       "      <td>0.60</td>\n",
       "      <td>...</td>\n",
       "      <td>0.30</td>\n",
       "      <td>0.35</td>\n",
       "      <td>0.35</td>\n",
       "      <td>0.40</td>\n",
       "      <td>0.45</td>\n",
       "      <td>0.35</td>\n",
       "      <td>0.30</td>\n",
       "      <td>0.45</td>\n",
       "      <td>0.50</td>\n",
       "      <td>0.50</td>\n",
       "    </tr>\n",
       "    <tr>\n",
       "      <th>A005</th>\n",
       "      <td>0.35</td>\n",
       "      <td>0.20</td>\n",
       "      <td>0.15</td>\n",
       "      <td>0.55</td>\n",
       "      <td>0.40</td>\n",
       "      <td>0.7</td>\n",
       "      <td>0.90</td>\n",
       "      <td>1.00</td>\n",
       "      <td>1.00</td>\n",
       "      <td>1.00</td>\n",
       "      <td>...</td>\n",
       "      <td>0.20</td>\n",
       "      <td>0.30</td>\n",
       "      <td>0.45</td>\n",
       "      <td>0.40</td>\n",
       "      <td>0.65</td>\n",
       "      <td>0.90</td>\n",
       "      <td>1.00</td>\n",
       "      <td>1.00</td>\n",
       "      <td>1.00</td>\n",
       "      <td>1.00</td>\n",
       "    </tr>\n",
       "  </tbody>\n",
       "</table>\n",
       "<p>5 rows × 22 columns</p>\n",
       "</div>"
      ],
      "text/plain": [
       "        F_00  F_01  F_02  F_03  F_04  F_05  F_06  F_07  F_08  F_09  ...   \\\n",
       "g p                                                                 ...    \n",
       "A A001  0.00  0.10  0.10  0.20  0.15   0.3  0.85  0.90  0.90  1.00  ...    \n",
       "  A002  0.20  0.10  0.05  0.30  0.25   0.5  0.75  0.90  0.75  1.00  ...    \n",
       "  A003  0.00  0.05  0.15  0.10  0.30   0.4  0.55  0.65  0.65  0.65  ...    \n",
       "  A004  0.45  0.35  0.40  0.30  0.40   0.6  0.30  0.45  0.45  0.60  ...    \n",
       "  A005  0.35  0.20  0.15  0.55  0.40   0.7  0.90  1.00  1.00  1.00  ...    \n",
       "\n",
       "        M_01  M_02  M_03  M_04  M_05  M_06  M_07  M_08  M_09  M_10  \n",
       "g p                                                                 \n",
       "A A001  0.10  0.20  0.20  0.25  0.50  0.70  0.85  0.95  1.00  1.00  \n",
       "  A002  0.25  0.35  0.20  0.35  0.55  0.60  0.90  0.85  1.00  1.00  \n",
       "  A003  0.00  0.05  0.05  0.30  0.25  0.45  0.50  0.80  0.95  0.95  \n",
       "  A004  0.30  0.35  0.35  0.40  0.45  0.35  0.30  0.45  0.50  0.50  \n",
       "  A005  0.20  0.30  0.45  0.40  0.65  0.90  1.00  1.00  1.00  1.00  \n",
       "\n",
       "[5 rows x 22 columns]"
      ]
     },
     "execution_count": 18,
     "metadata": {},
     "output_type": "execute_result"
    }
   ],
   "source": [
    "bigJasp.head()"
   ]
  },
  {
   "cell_type": "code",
   "execution_count": 19,
   "metadata": {
    "collapsed": true
   },
   "outputs": [],
   "source": [
    "bigJasp.to_csv('../outputs/genderMorphsJASP.csv')"
   ]
  },
  {
   "cell_type": "markdown",
   "metadata": {},
   "source": [
    "### Average over male and female face identities (one value per participant)"
   ]
  },
  {
   "cell_type": "code",
   "execution_count": 20,
   "metadata": {
    "scrolled": false
   },
   "outputs": [],
   "source": [
    "def makeAverage(bigDf):\n",
    "    \n",
    "    meanDf = pd.DataFrame()\n",
    "    \n",
    "    for entry in bigDf.index.levels[1]:\n",
    "        thisRow = pd.DataFrame( list(bigDf.ix[entry[0]].ix[entry].mean()) ).T\n",
    "        thisRow.index = [entry]\n",
    "        meanDf = pd.concat([meanDf,thisRow])   \n",
    "\n",
    "    meanDf.index.name = 'p'\n",
    "    meanDf.index = [ [str(x)[0] for x in list(meanDf.index) ] ,meanDf.index]\n",
    "    \n",
    "    return meanDf[meanDf.columns[:-1]]"
   ]
  },
  {
   "cell_type": "code",
   "execution_count": 21,
   "metadata": {
    "collapsed": true
   },
   "outputs": [],
   "source": [
    "meanDf = makeAverage(bigDf)"
   ]
  },
  {
   "cell_type": "code",
   "execution_count": 22,
   "metadata": {
    "scrolled": true
   },
   "outputs": [
    {
     "data": {
      "text/html": [
       "<div>\n",
       "<table border=\"1\" class=\"dataframe\">\n",
       "  <thead>\n",
       "    <tr style=\"text-align: right;\">\n",
       "      <th></th>\n",
       "      <th></th>\n",
       "      <th>0</th>\n",
       "      <th>1</th>\n",
       "      <th>2</th>\n",
       "      <th>3</th>\n",
       "      <th>4</th>\n",
       "      <th>5</th>\n",
       "      <th>6</th>\n",
       "      <th>7</th>\n",
       "      <th>8</th>\n",
       "      <th>9</th>\n",
       "      <th>10</th>\n",
       "    </tr>\n",
       "    <tr>\n",
       "      <th></th>\n",
       "      <th>p</th>\n",
       "      <th></th>\n",
       "      <th></th>\n",
       "      <th></th>\n",
       "      <th></th>\n",
       "      <th></th>\n",
       "      <th></th>\n",
       "      <th></th>\n",
       "      <th></th>\n",
       "      <th></th>\n",
       "      <th></th>\n",
       "      <th></th>\n",
       "    </tr>\n",
       "  </thead>\n",
       "  <tbody>\n",
       "    <tr>\n",
       "      <th rowspan=\"5\" valign=\"top\">A</th>\n",
       "      <th>A001</th>\n",
       "      <td>0.000</td>\n",
       "      <td>0.100</td>\n",
       "      <td>0.150</td>\n",
       "      <td>0.200</td>\n",
       "      <td>0.2</td>\n",
       "      <td>0.400</td>\n",
       "      <td>0.775</td>\n",
       "      <td>0.875</td>\n",
       "      <td>0.925</td>\n",
       "      <td>1.00</td>\n",
       "      <td>1.000</td>\n",
       "    </tr>\n",
       "    <tr>\n",
       "      <th>A002</th>\n",
       "      <td>0.125</td>\n",
       "      <td>0.175</td>\n",
       "      <td>0.200</td>\n",
       "      <td>0.250</td>\n",
       "      <td>0.3</td>\n",
       "      <td>0.525</td>\n",
       "      <td>0.675</td>\n",
       "      <td>0.900</td>\n",
       "      <td>0.800</td>\n",
       "      <td>1.00</td>\n",
       "      <td>1.000</td>\n",
       "    </tr>\n",
       "    <tr>\n",
       "      <th>A003</th>\n",
       "      <td>0.000</td>\n",
       "      <td>0.025</td>\n",
       "      <td>0.100</td>\n",
       "      <td>0.075</td>\n",
       "      <td>0.3</td>\n",
       "      <td>0.325</td>\n",
       "      <td>0.500</td>\n",
       "      <td>0.575</td>\n",
       "      <td>0.725</td>\n",
       "      <td>0.80</td>\n",
       "      <td>0.900</td>\n",
       "    </tr>\n",
       "    <tr>\n",
       "      <th>A004</th>\n",
       "      <td>0.400</td>\n",
       "      <td>0.325</td>\n",
       "      <td>0.375</td>\n",
       "      <td>0.325</td>\n",
       "      <td>0.4</td>\n",
       "      <td>0.525</td>\n",
       "      <td>0.325</td>\n",
       "      <td>0.375</td>\n",
       "      <td>0.450</td>\n",
       "      <td>0.55</td>\n",
       "      <td>0.625</td>\n",
       "    </tr>\n",
       "    <tr>\n",
       "      <th>A005</th>\n",
       "      <td>0.275</td>\n",
       "      <td>0.200</td>\n",
       "      <td>0.225</td>\n",
       "      <td>0.500</td>\n",
       "      <td>0.4</td>\n",
       "      <td>0.675</td>\n",
       "      <td>0.900</td>\n",
       "      <td>1.000</td>\n",
       "      <td>1.000</td>\n",
       "      <td>1.00</td>\n",
       "      <td>1.000</td>\n",
       "    </tr>\n",
       "  </tbody>\n",
       "</table>\n",
       "</div>"
      ],
      "text/plain": [
       "           0      1      2      3    4      5      6      7      8     9   \\\n",
       "  p                                                                         \n",
       "A A001  0.000  0.100  0.150  0.200  0.2  0.400  0.775  0.875  0.925  1.00   \n",
       "  A002  0.125  0.175  0.200  0.250  0.3  0.525  0.675  0.900  0.800  1.00   \n",
       "  A003  0.000  0.025  0.100  0.075  0.3  0.325  0.500  0.575  0.725  0.80   \n",
       "  A004  0.400  0.325  0.375  0.325  0.4  0.525  0.325  0.375  0.450  0.55   \n",
       "  A005  0.275  0.200  0.225  0.500  0.4  0.675  0.900  1.000  1.000  1.00   \n",
       "\n",
       "           10  \n",
       "  p            \n",
       "A A001  1.000  \n",
       "  A002  1.000  \n",
       "  A003  0.900  \n",
       "  A004  0.625  \n",
       "  A005  1.000  "
      ]
     },
     "execution_count": 22,
     "metadata": {},
     "output_type": "execute_result"
    }
   ],
   "source": [
    "meanDf.head()"
   ]
  },
  {
   "cell_type": "code",
   "execution_count": 23,
   "metadata": {},
   "outputs": [],
   "source": [
    "meanDf.to_csv('../outputs/meanMorphsTable.csv')"
   ]
  }
 ],
 "metadata": {
  "kernelspec": {
   "display_name": "Python 2",
   "language": "python",
   "name": "python2"
  },
  "language_info": {
   "codemirror_mode": {
    "name": "ipython",
    "version": 2
   },
   "file_extension": ".py",
   "mimetype": "text/x-python",
   "name": "python",
   "nbconvert_exporter": "python",
   "pygments_lexer": "ipython2",
   "version": "2.7.9"
  }
 },
 "nbformat": 4,
 "nbformat_minor": 1
}
